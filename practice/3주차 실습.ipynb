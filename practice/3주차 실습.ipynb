{
 "cells": [
  {
   "cell_type": "code",
   "execution_count": 1,
   "id": "270e0500-c9ef-44b7-9711-8a559670b473",
   "metadata": {},
   "outputs": [
    {
     "name": "stdin",
     "output_type": "stream",
     "text": [
      "변화하고자하는 화씨온도는?  100\n"
     ]
    },
    {
     "name": "stdout",
     "output_type": "stream",
     "text": [
      "화씨 100.0 도는 섭씨 37.77777777777778 도\n"
     ]
    }
   ],
   "source": [
    "def fahrenheit_to_celsius(fahrenheit): #화씨 -> 섭씨\n",
    "    celsius = 5 / 9 * (fahrenheit - 32)\n",
    "    return celsius\n",
    "\n",
    "def get_real(prompt):\n",
    "    res = float(input(prompt))  #float :실수(2.9999)\n",
    "    return res\n",
    "\n",
    "#주프\n",
    "ftemp = get_real('변화하고자하는 화씨온도는? ')\n",
    "ctemp = fahrenheit_to_celsius(ftemp)\n",
    "print('화씨', ftemp, '도는 섭씨', ctemp, '도')"
   ]
  },
  {
   "cell_type": "code",
   "execution_count": 2,
   "id": "f81daa79-d428-47b6-b0c7-ac8a62b7ce8f",
   "metadata": {},
   "outputs": [
    {
     "name": "stdin",
     "output_type": "stream",
     "text": [
      "변환하고자 하느 시간(초)? 3700\n"
     ]
    },
    {
     "name": "stdout",
     "output_type": "stream",
     "text": [
      "3700 초는 1 시간 1 분 40 초 이다.\n"
     ]
    }
   ],
   "source": [
    "def convert_time(res):\n",
    "    h=res//3600\n",
    "    m=(res%3600)//60\n",
    "    s=(res%3600)%60\n",
    "    print(res, '초는', h, '시간', m, '분', s, '초 이다.')\n",
    "\n",
    "def get_integer(prompt):\n",
    "    res=int(input(prompt))\n",
    "    return res\n",
    "    \n",
    "#주 프로그램부\n",
    "trans=get_integer(\"변환하고자 하느 시간(초)?\")\n",
    "convert_time(trans)"
   ]
  },
  {
   "cell_type": "code",
   "execution_count": 3,
   "id": "f72a4cf8-d048-47e6-8e4b-57f38c303615",
   "metadata": {},
   "outputs": [
    {
     "name": "stdin",
     "output_type": "stream",
     "text": [
      "설정할 비트 수는?  8\n"
     ]
    },
    {
     "name": "stdout",
     "output_type": "stream",
     "text": [
      "8 비트를 모두 1로 설정한 수는 255 ( 0b11111111 )이다.\n"
     ]
    }
   ],
   "source": [
    "def get_integer(prompt):\n",
    "    res = int(input(prompt))\n",
    "    return res\n",
    "\n",
    "def set_all_beats(n):\n",
    "    return (1 << n) -  1 #왜?\n",
    "\n",
    "#주프\n",
    "n = get_integer('설정할 비트 수는? ')\n",
    "b = set_all_beats(n)\n",
    "\n",
    "print(n, '비트를 모두 1로 설정한 수는', b, '(',bin(b),')이다.')"
   ]
  },
  {
   "cell_type": "code",
   "execution_count": 4,
   "id": "163755e3-0c9f-454e-b7c9-8569f87cc31d",
   "metadata": {},
   "outputs": [
    {
     "name": "stdin",
     "output_type": "stream",
     "text": [
      "동전으로 교환하고자 하는 금액은?  3520\n"
     ]
    },
    {
     "name": "stdout",
     "output_type": "stream",
     "text": [
      "500원 동전의 개수:  7\n",
      "100원 동전의 개수:  0\n",
      "50원 동전의 개수:  0\n",
      "10원 동전의 개수:  2\n"
     ]
    }
   ],
   "source": [
    "def exchange(money):\n",
    "    n500 = money // 500 #500으로 나눈 몫이 500원짜리의 개수\n",
    "    money = money% 500  #500으로 나눈 나머지를 계산\n",
    "    n100 = money // 100 #100으로 나눈 몫이 100원짜리의 개수\n",
    "    money = money % 100 #100으로 나눈 나머지 계산\n",
    "    n50 = money // 50   #50으로 나눈 몫이 50원짜리의 개수\n",
    "    money = money % 50  #50으로 나눈 나머지 계산\n",
    "    n10 = money // 10   #10으로 나눈 몫이 10월짜리의 개수\n",
    "\n",
    "    print('500원 동전의 개수: ', n500)\n",
    "    print('100원 동전의 개수: ', n100)\n",
    "    print('50원 동전의 개수: ', n50)\n",
    "    print('10원 동전의 개수: ', n10)\n",
    "\n",
    "def get_integer(prompt):\n",
    "    res = int(input(prompt))\n",
    "    return res\n",
    "\n",
    "#주프\n",
    "money = get_integer('동전으로 교환하고자 하는 금액은? ')\n",
    "exchange(money)"
   ]
  },
  {
   "cell_type": "code",
   "execution_count": null,
   "id": "093133d3-bd72-4fe8-82f5-bfa6c1f8c644",
   "metadata": {},
   "outputs": [],
   "source": []
  }
 ],
 "metadata": {
  "kernelspec": {
   "display_name": "Python 3 (ipykernel)",
   "language": "python",
   "name": "python3"
  },
  "language_info": {
   "codemirror_mode": {
    "name": "ipython",
    "version": 3
   },
   "file_extension": ".py",
   "mimetype": "text/x-python",
   "name": "python",
   "nbconvert_exporter": "python",
   "pygments_lexer": "ipython3",
   "version": "3.13.2"
  }
 },
 "nbformat": 4,
 "nbformat_minor": 5
}
