{
 "cells": [
  {
   "cell_type": "code",
   "execution_count": 1,
   "id": "399efa37-07bc-436d-8ecd-117c1af0d805",
   "metadata": {},
   "outputs": [
    {
     "name": "stdout",
     "output_type": "stream",
     "text": [
      " \"때론 내 삶의 변화를 위해 '내어 맡김'이 필요하다.\" \n"
     ]
    }
   ],
   "source": [
    "print(\" \\\"때론 내 삶의 변화를 위해 \\'내어 맡김\\'이 필요하다.\\\" \")"
   ]
  },
  {
   "cell_type": "code",
   "execution_count": 2,
   "id": "88b6d1fc-9152-4453-849b-c924c3e890e7",
   "metadata": {},
   "outputs": [
    {
     "name": "stdout",
     "output_type": "stream",
     "text": [
      "11\t홍길동\n",
      "123\t일지매\n"
     ]
    }
   ],
   "source": [
    "print('11\\t홍길동\\n123\\t일지매')"
   ]
  },
  {
   "cell_type": "code",
   "execution_count": 5,
   "id": "8ffd2854-3954-41cb-809f-1d56492a5c19",
   "metadata": {},
   "outputs": [
    {
     "name": "stdout",
     "output_type": "stream",
     "text": [
      "동해물과 백두산이 마르고 닳도록 하느님이 보우하사 우리나라 만세\n"
     ]
    }
   ],
   "source": [
    "print('동해물과 백두산이 마르고 닳도록 \\\n",
    "하느님이 보우하사 우리나라 만세')"
   ]
  },
  {
   "cell_type": "code",
   "execution_count": 6,
   "id": "63e0f968-c935-49cb-8dc2-edc7119d1f30",
   "metadata": {},
   "outputs": [
    {
     "name": "stdout",
     "output_type": "stream",
     "text": [
      "11\t홍길동\n",
      "123\t일지매\n"
     ]
    }
   ],
   "source": [
    "print('''\\\n",
    "11\\t홍길동\n",
    "123\\t일지매\\\n",
    "''')"
   ]
  },
  {
   "cell_type": "code",
   "execution_count": 14,
   "id": "40bacf3a-ac79-4ff8-895c-d04805f24914",
   "metadata": {},
   "outputs": [
    {
     "name": "stdout",
     "output_type": "stream",
     "text": [
      "우\n",
      " \n",
      "만\n"
     ]
    }
   ],
   "source": [
    "msg='우리나라 만세'\n",
    "print(msg[0])\n",
    "print(msg[-3])\n",
    "print(msg[-2])"
   ]
  },
  {
   "cell_type": "code",
   "execution_count": 18,
   "id": "7912c016-1f2f-4c99-97da-1e19d95adcec",
   "metadata": {},
   "outputs": [
    {
     "name": "stdout",
     "output_type": "stream",
     "text": [
      "동해\n",
      "동해\n",
      "해물\n",
      "물과 백두산이\n"
     ]
    }
   ],
   "source": [
    "msg='동해물과 백두산이'\n",
    "\n",
    "print(msg[0:2])\n",
    "print(msg[:2])\n",
    "\n",
    "print(msg[1:3])\n",
    "\n",
    "print(msg[2:])"
   ]
  },
  {
   "cell_type": "code",
   "execution_count": 21,
   "id": "db5dad5e-c146-42f8-9edb-c31a9fc0da14",
   "metadata": {},
   "outputs": [
    {
     "name": "stdout",
     "output_type": "stream",
     "text": [
      "안녕하세요\n",
      "안녕하세요\n",
      "안녕하세요\n",
      "안녕하세요\n",
      "안녕 + 하세요\n"
     ]
    }
   ],
   "source": [
    "print('안녕' '하세요')\n",
    "print('안녕'+'하세요')\n",
    "\n",
    "msg1, msg2 = '안녕', '하세요'\n",
    "print(msg1+msg2)\n",
    "print('안녕'+msg2)\n",
    "print(msg1, '+', msg2)"
   ]
  },
  {
   "cell_type": "code",
   "execution_count": 23,
   "id": "2d84ed42-0e03-4a08-b7c9-1148e656a9c9",
   "metadata": {},
   "outputs": [
    {
     "name": "stdout",
     "output_type": "stream",
     "text": [
      "2 x 2 = 4\n"
     ]
    }
   ],
   "source": [
    "res=2*2\n",
    "print('2 x 2 = '+str(res))"
   ]
  },
  {
   "cell_type": "code",
   "execution_count": 26,
   "id": "4fea135a-8463-4f13-9b10-9f7b9b34352d",
   "metadata": {},
   "outputs": [
    {
     "name": "stdout",
     "output_type": "stream",
     "text": [
      "*****\n",
      "@@@@@@@@@@\n"
     ]
    }
   ],
   "source": [
    "print('*'*5)\n",
    "print(10*'@')"
   ]
  },
  {
   "cell_type": "code",
   "execution_count": 32,
   "id": "cbcf2435-d999-4320-ae26-ed67f82c281b",
   "metadata": {},
   "outputs": [
    {
     "name": "stdin",
     "output_type": "stream",
     "text": [
      "당신의 이름은? 이찬수\n"
     ]
    },
    {
     "name": "stdout",
     "output_type": "stream",
     "text": [
      "------------\n",
      "성:\t이\n",
      "이름:\t찬수\n",
      "------------\n"
     ]
    }
   ],
   "source": [
    "def divide_name(name):\n",
    "    lastname=name[0]\n",
    "    firstname=name[1:]\n",
    "    print(\"-\" *12)\n",
    "    print(\"성:\\t\" + lastname + '\\n이름:\\t' + firstname) # + 대신 ,를 쓰면 한 칸 더 띄워지기 때문에 +로 사용\n",
    "    print(\"-\" *12)\n",
    "\n",
    "#주프로그램부\n",
    "name=input('당신의 이름은?')\n",
    "\n",
    "divide_name(name)"
   ]
  },
  {
   "cell_type": "code",
   "execution_count": 33,
   "id": "13d88407-4360-4507-a98d-0c40e503a5af",
   "metadata": {},
   "outputs": [
    {
     "name": "stdin",
     "output_type": "stream",
     "text": [
      "첫 번째 정수는?  2\n",
      "두 번째 정수는?  3\n"
     ]
    },
    {
     "name": "stdout",
     "output_type": "stream",
     "text": [
      "2와 3의 평균은 2.5\n"
     ]
    }
   ],
   "source": [
    "n1=int(input('첫 번째 정수는? '))\n",
    "n2=int(input('두 번째 정수는? '))\n",
    "\n",
    "print(f'{n1}와 {n2}의 평균은 {(n1+n2)/2}')"
   ]
  },
  {
   "cell_type": "code",
   "execution_count": 35,
   "id": "5440dfc4-3fd4-4346-bc04-fbba0cb8c586",
   "metadata": {},
   "outputs": [
    {
     "name": "stdin",
     "output_type": "stream",
     "text": [
      "정수는?  15\n"
     ]
    },
    {
     "name": "stdout",
     "output_type": "stream",
     "text": [
      "2진 표현으로는 1111입니다.\n",
      "10진 표현으로는 15입니다.\n",
      "16진 표현으로는 f입니다.\n"
     ]
    }
   ],
   "source": [
    "num=int(input('정수는? '))\n",
    "\n",
    "print(f'2진 표현으로는 {num:b}입니다.')\n",
    "print(f'10진 표현으로는 {num:d}입니다.')\n",
    "print(f'16진 표현으로는 {num:x}입니다.')"
   ]
  },
  {
   "cell_type": "code",
   "execution_count": 38,
   "id": "091a78b8-4f8d-4578-b14b-f8e1c7869f3d",
   "metadata": {},
   "outputs": [
    {
     "name": "stdin",
     "output_type": "stream",
     "text": [
      "첫 번째 정수는?  10000000000\n",
      "두 번째 정수는?  3\n"
     ]
    },
    {
     "name": "stdout",
     "output_type": "stream",
     "text": [
      "10000000000 / 3 = 3333333333.3333335\n",
      "10000000000 / 3 = 3333333333.333333\n",
      "10000000000 / 3 = 3.333333e+09\n",
      "10000000000 / 3 = 3.33333e+09\n"
     ]
    }
   ],
   "source": [
    "n1=int(input('첫 번째 정수는? '))\n",
    "n2=int(input('두 번째 정수는? '))\n",
    "\n",
    "avg=n1/n2\n",
    "\n",
    "print(f'{n1} / {n2} = {avg}')\n",
    "print(f'{n1} / {n2} = {avg:f}')\n",
    "print(f'{n1} / {n2} = {avg:e}')\n",
    "print(f'{n1} / {n2} = {avg:g}')"
   ]
  },
  {
   "cell_type": "code",
   "execution_count": 39,
   "id": "bea3ae3a-eb68-4d02-8269-c9da51b13ee8",
   "metadata": {},
   "outputs": [
    {
     "name": "stdout",
     "output_type": "stream",
     "text": [
      "[15]\n",
      "[   15]\n",
      "[15   ]\n",
      "[ 15  ]\n",
      "[12345678]\n",
      "[00015]\n"
     ]
    }
   ],
   "source": [
    "num=15\n",
    "\n",
    "print(f'[{num:d}]')\n",
    "print(f'[{num:5d}]')\n",
    "print(f'[{num:<5d}]')\n",
    "print(f'[{num:^5d}]')\n",
    "print(f'[{12345678:5d}]')\n",
    "print(f'[{num:05d}]')"
   ]
  },
  {
   "cell_type": "code",
   "execution_count": 41,
   "id": "bdecc6ad-3efd-4c3d-a7c5-cef1de398224",
   "metadata": {
    "scrolled": true
   },
   "outputs": [
    {
     "name": "stdout",
     "output_type": "stream",
     "text": [
      "[3.141593]\n",
      "[3.14]\n",
      "[ 3.14]\n",
      "[3.1]\n"
     ]
    }
   ],
   "source": [
    "PI=3.14159265\n",
    "\n",
    "print(f'[{PI:F}]')\n",
    "print(f'[{PI:.2f}]')\n",
    "print(f'[{PI:5.2f}]')\n",
    "print(f'[{PI:.2g}]')"
   ]
  },
  {
   "cell_type": "code",
   "execution_count": 45,
   "id": "6e06caed-725b-4b01-b14a-2989831e08ba",
   "metadata": {},
   "outputs": [
    {
     "data": {
      "text/plain": [
       "'Today is 4 April.'"
      ]
     },
     "execution_count": 45,
     "metadata": {},
     "output_type": "execute_result"
    }
   ],
   "source": [
    "'Today is %d %s.' %(4, 'April')"
   ]
  },
  {
   "cell_type": "code",
   "execution_count": 48,
   "id": "3e4e214b-670f-4d0f-a92c-6b08c5550e6b",
   "metadata": {},
   "outputs": [
    {
     "data": {
      "text/plain": [
       "'Hello, world!'"
      ]
     },
     "execution_count": 48,
     "metadata": {},
     "output_type": "execute_result"
    }
   ],
   "source": [
    "'Hello, {0}'.format('world!')"
   ]
  },
  {
   "cell_type": "code",
   "execution_count": 50,
   "id": "f0282810-8c94-465c-a0a1-c7a43777e626",
   "metadata": {},
   "outputs": [
    {
     "data": {
      "text/plain": [
       "'Hello, 100'"
      ]
     },
     "execution_count": 50,
     "metadata": {},
     "output_type": "execute_result"
    }
   ],
   "source": [
    "'Hello, {0}'.format(100)"
   ]
  },
  {
   "cell_type": "code",
   "execution_count": 52,
   "id": "e56eeed8-1b50-4d1e-a681-d299627bc5dd",
   "metadata": {},
   "outputs": [
    {
     "data": {
      "text/plain": [
       "'Hello, Python 3.6 Script'"
      ]
     },
     "execution_count": 52,
     "metadata": {},
     "output_type": "execute_result"
    }
   ],
   "source": [
    "'Hello, {0} {2} {1}'.format('Python', 'Script', 3.6)"
   ]
  },
  {
   "cell_type": "code",
   "execution_count": 53,
   "id": "6145b33c-4ffb-46c9-bacb-eefcc2a7271b",
   "metadata": {},
   "outputs": [
    {
     "name": "stdout",
     "output_type": "stream",
     "text": [
      "True\n"
     ]
    }
   ],
   "source": [
    "text='python'\n",
    "print('t'in text)"
   ]
  },
  {
   "cell_type": "code",
   "execution_count": 54,
   "id": "d9ca64a1-4343-4d99-9d61-9f35fcf091da",
   "metadata": {},
   "outputs": [
    {
     "name": "stdout",
     "output_type": "stream",
     "text": [
      "True\n"
     ]
    }
   ],
   "source": [
    "print('th'in text)"
   ]
  },
  {
   "cell_type": "code",
   "execution_count": 55,
   "id": "35e2f0b4-855e-4a07-8683-73271ca353b8",
   "metadata": {},
   "outputs": [
    {
     "name": "stdout",
     "output_type": "stream",
     "text": [
      "False\n"
     ]
    }
   ],
   "source": [
    "print('T'in text)"
   ]
  },
  {
   "cell_type": "code",
   "execution_count": 56,
   "id": "eb30bd97-b123-4973-b8df-e3e0e55fbcc5",
   "metadata": {},
   "outputs": [
    {
     "name": "stdout",
     "output_type": "stream",
     "text": [
      "True\n"
     ]
    }
   ],
   "source": [
    "print('티'not in text)"
   ]
  },
  {
   "cell_type": "code",
   "execution_count": 60,
   "id": "00526c74-badf-4750-811e-a948354e9cdc",
   "metadata": {},
   "outputs": [
    {
     "name": "stdin",
     "output_type": "stream",
     "text": [
      "정수를 입력하세요:  11565612351651321\n"
     ]
    },
    {
     "name": "stdout",
     "output_type": "stream",
     "text": [
      "입력하신 11565612351651321은(는) 17자리 정수입니다\n"
     ]
    }
   ],
   "source": [
    "num=input('정수를 입력하세요: ')\n",
    "length=len(num)\n",
    "print(f'입력하신 {num}은(는) {length}자리 정수입니다')"
   ]
  },
  {
   "cell_type": "code",
   "execution_count": 65,
   "id": "1a7ce051-3869-4b74-aeeb-2cdd1f2e9790",
   "metadata": {},
   "outputs": [
    {
     "name": "stdout",
     "output_type": "stream",
     "text": [
      "1\n"
     ]
    }
   ],
   "source": [
    "week='월화수목금금금'\n",
    "n=week.count('수목')\n",
    "print(n)"
   ]
  },
  {
   "cell_type": "code",
   "execution_count": 70,
   "id": "8436be49-7759-4bf0-82e9-e92c443b89b1",
   "metadata": {},
   "outputs": [
    {
     "name": "stdout",
     "output_type": "stream",
     "text": [
      "4\n",
      "5\n",
      "6\n",
      "-1\n",
      "3\n"
     ]
    }
   ],
   "source": [
    "week='월화수목금금금요일'\n",
    "\n",
    "pos=week.find('금')\n",
    "print(pos)\n",
    "\n",
    "pos=week.find('금',5)\n",
    "print(pos)\n",
    "\n",
    "pos=week.rfind('금')\n",
    "print(pos)\n",
    "\n",
    "pos=week.find('토')\n",
    "print(pos)\n",
    "\n",
    "pos=week.find('목금')\n",
    "print(pos)"
   ]
  },
  {
   "cell_type": "code",
   "execution_count": 73,
   "id": "95c722b4-62f0-4be2-b9ea-a1de052cd249",
   "metadata": {},
   "outputs": [
    {
     "name": "stdout",
     "output_type": "stream",
     "text": [
      "파이썬은 배우기 쉽다. 파이썬은 강력하다\n",
      "Python은 배우기 어렵다. Python은 강력하다\n",
      "Python은 배우기 쉽다. Python은 강력하다\n"
     ]
    }
   ],
   "source": [
    "msg='Python은 배우기 쉽다. Python은 강력하다'\n",
    "res=msg.replace('Python', '파이썬')\n",
    "res2=msg.replace('쉽다', '어렵다')\n",
    "print(res)\n",
    "print(res2)\n",
    "print(msg)"
   ]
  },
  {
   "cell_type": "code",
   "execution_count": 86,
   "id": "225acf0c-2049-4e2b-91f0-ade7ded7fdcb",
   "metadata": {},
   "outputs": [
    {
     "name": "stdin",
     "output_type": "stream",
     "text": [
      "이름? 박보검\n",
      "학년? 2\n"
     ]
    },
    {
     "name": "stdout",
     "output_type": "stream",
     "text": [
      "보검은 내년에 3학년입니다.\n"
     ]
    }
   ],
   "source": [
    "def introduce(name,grade):\n",
    "    n=name[1:]\n",
    "    next_grade=grade+1\n",
    "    return (n+'은 내년에 '+str(next_grade)+'학년입니다.')\n",
    "    #return f'{n}은 내년에 {grade+1}학년입니다.'    이것은 f-string사용해서 동일하게 작동하는 문장\n",
    "\n",
    "#주 프로그램부\n",
    "name=input('이름?')\n",
    "grade=int(input('학년?'))\n",
    "rmsg=introduce(name, grade)\n",
    "print(rmsg)"
   ]
  },
  {
   "cell_type": "code",
   "execution_count": 94,
   "id": "6cd1440f-639d-4dd9-90ab-b3cfa42e75a1",
   "metadata": {},
   "outputs": [
    {
     "name": "stdout",
     "output_type": "stream",
     "text": [
      "----------\n",
      "#####\n"
     ]
    }
   ],
   "source": [
    "def rep_char(c, n):\n",
    "    print(c*n)\n",
    "\n",
    "rep_char('-', 10)\n",
    "rep_char('#', 5)"
   ]
  },
  {
   "cell_type": "code",
   "execution_count": 105,
   "id": "65a47156-b965-4ba9-a06b-d0330a4a5fec",
   "metadata": {},
   "outputs": [
    {
     "name": "stdout",
     "output_type": "stream",
     "text": [
      "--------------\n",
      "  안녕하세요  \n",
      "--------------\n",
      "--------\n",
      "  안녕  \n",
      "--------\n"
     ]
    }
   ],
   "source": [
    "def rep_char(c, n):\n",
    "    print(c*n)\n",
    "\n",
    "def draw_line_string(msg):\n",
    "    nstr=len(msg)\n",
    "    # *2를 해주는 이유: 한글 한 글자는 기호 두 문자와 같은 너비를 차지. 라는 조건 때문\n",
    "    # +4를 해주는 이유: 앞 뒤 각각 공백 2칸\n",
    "    rep_char('-',nstr*2+4)  \n",
    "    print(f'  {msg}  ')\n",
    "    rep_char('-',nstr*2+4)\n",
    "\n",
    "#주 프로그램부\n",
    "draw_line_string('안녕하세요')\n",
    "draw_line_string('안녕')"
   ]
  },
  {
   "cell_type": "code",
   "execution_count": 110,
   "id": "4f405eb4-de0a-4a51-8ba8-e60d8822d4f9",
   "metadata": {},
   "outputs": [
    {
     "name": "stdin",
     "output_type": "stream",
     "text": [
      "Input his/her name: Steve Seung Jun Yoo\n"
     ]
    },
    {
     "name": "stdout",
     "output_type": "stream",
     "text": [
      "----------------------------\n",
      " Hello Steve Seung Jun Yoo, \n",
      " Welcome to Seoul. \n",
      "----------------------------\n"
     ]
    }
   ],
   "source": [
    "def rep_char(c, n):\n",
    "    print(c*n)\n",
    "\n",
    "def draw_line_string(msg):\n",
    "    msg1='Hello '+msg+','\n",
    "    msg2='Welcome to Seoul.'\n",
    "    nstr=len(msg1) if(len(msg1) > len(msg2)) else len(msg2)\n",
    "    \n",
    "    rep_char('-',nstr+2)  \n",
    "    print(f' {msg1} \\n {msg2} ')\n",
    "    rep_char('-',nstr+2)\n",
    "\n",
    "#주 프로그램부\n",
    "msg=input(\"Input his/her name:\")\n",
    "draw_line_string(msg)"
   ]
  },
  {
   "cell_type": "code",
   "execution_count": null,
   "id": "c3db1b21-8018-4a96-8076-a90db9b8b984",
   "metadata": {},
   "outputs": [],
   "source": []
  }
 ],
 "metadata": {
  "kernelspec": {
   "display_name": "Python 3 (ipykernel)",
   "language": "python",
   "name": "python3"
  },
  "language_info": {
   "codemirror_mode": {
    "name": "ipython",
    "version": 3
   },
   "file_extension": ".py",
   "mimetype": "text/x-python",
   "name": "python",
   "nbconvert_exporter": "python",
   "pygments_lexer": "ipython3",
   "version": "3.13.2"
  }
 },
 "nbformat": 4,
 "nbformat_minor": 5
}
