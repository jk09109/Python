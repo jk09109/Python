{
 "cells": [
  {
   "cell_type": "code",
   "execution_count": 1,
   "id": "f54fb597-ceb0-4486-8527-aef207e09527",
   "metadata": {},
   "outputs": [
    {
     "name": "stdin",
     "output_type": "stream",
     "text": [
      "비밀번호? 1234\n",
      "비밀번호? 1234\n",
      "비밀번호? #1234*\n"
     ]
    },
    {
     "name": "stdout",
     "output_type": "stream",
     "text": [
      "어서오세요, 문이 열렸습니다!\n"
     ]
    }
   ],
   "source": [
    "pwd=input('비밀번호?')\n",
    "\n",
    "while pwd != '#1234*':\n",
    "    pwd=input('비밀번호?')\n",
    "\n",
    "print('어서오세요, 문이 열렸습니다!')"
   ]
  },
  {
   "cell_type": "code",
   "execution_count": 2,
   "id": "387043cc-4f9b-44b4-9b6d-7b430c03fecd",
   "metadata": {},
   "outputs": [
    {
     "name": "stdin",
     "output_type": "stream",
     "text": [
      "비밀번호? 1234\n",
      "비밀번호? qwer\n",
      "비밀번호? #1234*\n"
     ]
    },
    {
     "name": "stdout",
     "output_type": "stream",
     "text": [
      "어서오세요, 문이 열렸습니다!\n"
     ]
    }
   ],
   "source": [
    "pwd=''\n",
    "\n",
    "while pwd != '#1234*':\n",
    "    pwd=input('비밀번호?')\n",
    "\n",
    "print('어서오세요, 문이 열렸습니다!')"
   ]
  },
  {
   "cell_type": "code",
   "execution_count": 5,
   "id": "1c55c713-45b2-4434-b477-261f489dd112",
   "metadata": {},
   "outputs": [
    {
     "name": "stdout",
     "output_type": "stream",
     "text": [
      "1\n",
      "2\n",
      "3\n",
      "4\n",
      "5\n"
     ]
    }
   ],
   "source": [
    "cnt=0\n",
    "\n",
    "while cnt < 5:\n",
    "    cnt+=1\n",
    "    print(cnt)"
   ]
  },
  {
   "cell_type": "code",
   "execution_count": 6,
   "id": "0fbea31d-a24e-4d43-9260-5259ba089d5f",
   "metadata": {},
   "outputs": [
    {
     "name": "stdout",
     "output_type": "stream",
     "text": [
      "h/e/l/l/o/"
     ]
    }
   ],
   "source": [
    "msg='hello'\n",
    "\n",
    "for ch in msg:\n",
    "    print(f'{ch}/', end='')"
   ]
  },
  {
   "cell_type": "code",
   "execution_count": 7,
   "id": "e0f7f9bf-6d85-4ec3-8311-4c7b2fa7c4e5",
   "metadata": {},
   "outputs": [
    {
     "name": "stdout",
     "output_type": "stream",
     "text": [
      "0 1 2 3 4 5 6 7 8 9 \n",
      "0 1 2 3 4 5 6 7 8 9 \n",
      "0 1 2 3 4 5 6 7 8 9 "
     ]
    }
   ],
   "source": [
    "for i in range(0, 10, 1):\n",
    "    print(i, end=' ')\n",
    "    \n",
    "print()\n",
    "\n",
    "for i in range(0, 10):\n",
    "    print(i, end=' ')\n",
    "    \n",
    "print()\n",
    "\n",
    "for i in range(10):\n",
    "    print(i, end=' ')"
   ]
  },
  {
   "cell_type": "code",
   "execution_count": 8,
   "id": "275d7632-6210-44aa-842a-f319dbf9513e",
   "metadata": {},
   "outputs": [
    {
     "name": "stdout",
     "output_type": "stream",
     "text": [
      "1 3 5 7 9 \n",
      "10 9 8 7 6 5 4 3 2 1 "
     ]
    }
   ],
   "source": [
    "for i in range(1, 10, 2):\n",
    "    print(i, end=' ')\n",
    "\n",
    "print()\n",
    "\n",
    "for i in range(10, 0, -1):\n",
    "    print(i, end=' ')"
   ]
  },
  {
   "cell_type": "code",
   "execution_count": 9,
   "id": "3f6ae575-d5c3-4c2b-a2fa-3b88de07d85d",
   "metadata": {},
   "outputs": [
    {
     "name": "stdout",
     "output_type": "stream",
     "text": [
      "1 2 3 4 5 6 7 8 9 10 11 12 13 14 15 \n",
      "1 2 3 4 5 6 7 8 9 10 11 12 13 14 15 \n",
      "1 2 3 4 5 6 7 8 9 10 11 12 13 14 15 \n"
     ]
    }
   ],
   "source": [
    "for s in range(3):\n",
    "    n=15\n",
    "    for cnt in range(1, n+1):\n",
    "        print(cnt, end=' ')\n",
    "    print()"
   ]
  },
  {
   "cell_type": "code",
   "execution_count": 14,
   "id": "ebcf1c4e-7cff-44e6-a0e3-6937ed18038d",
   "metadata": {},
   "outputs": [
    {
     "name": "stdin",
     "output_type": "stream",
     "text": [
      "출력할 구구단을 양의 정수로 입력하세요: 5\n"
     ]
    },
    {
     "name": "stdout",
     "output_type": "stream",
     "text": [
      "5 x 1 =  5\n",
      "5 x 2 = 10\n",
      "5 x 3 = 15\n",
      "5 x 4 = 20\n",
      "5 x 5 = 25\n",
      "5 x 6 = 30\n",
      "5 x 7 = 35\n",
      "5 x 8 = 40\n",
      "5 x 9 = 45\n"
     ]
    }
   ],
   "source": [
    "#사용자 정의 함수부\n",
    "def input_positive_number(prompt):\n",
    "    n=0\n",
    "    while n<=0:\n",
    "        n=int(input(prompt))\n",
    "\n",
    "    return n\n",
    "\n",
    "def display_multiplication_table(n):\n",
    "    for i in range(1, 10, 1):\n",
    "        #print(f'{n} x {i} =', n*i)\n",
    "        print(f'{n} x {i} = {n*i:2d}')\n",
    "\n",
    "#주 프로그램부\n",
    "n=input_positive_number('출력할 구구단을 양의 정수로 입력하세요:')\n",
    "\n",
    "display_multiplication_table(n)"
   ]
  },
  {
   "cell_type": "code",
   "execution_count": 17,
   "id": "286e7df5-c1cd-492c-bd7d-f019e1c25e1a",
   "metadata": {},
   "outputs": [
    {
     "name": "stdin",
     "output_type": "stream",
     "text": [
      "출력할 구구단을 양의 정수로 입력하세요: 4\n"
     ]
    },
    {
     "name": "stdout",
     "output_type": "stream",
     "text": [
      "4 x 1 =  4\n",
      "4 x 2 =  8\n",
      "4 x 3 = 12\n",
      "4 x 4 = 16\n",
      "4 x 5 = 20\n",
      "4 x 6 = 24\n",
      "4 x 7 = 28\n",
      "4 x 8 = 32\n",
      "4 x 9 = 36\n"
     ]
    }
   ],
   "source": [
    "#사용자 정의 함수부\n",
    "def input_positive_number(prompt):\n",
    "    n=0\n",
    "    while n<=0:\n",
    "        n=int(input(prompt))\n",
    "\n",
    "    return n\n",
    "\n",
    "def display_multiplication_table(n):\n",
    "    i=1\n",
    "    while i<=9:\n",
    "        print(f'{n} x {i} = {n * i:2d}')\n",
    "        i+=1\n",
    "\n",
    "#주 프로그램부\n",
    "n=input_positive_number('출력할 구구단을 양의 정수로 입력하세요:')\n",
    "\n",
    "display_multiplication_table(n)"
   ]
  },
  {
   "cell_type": "code",
   "execution_count": 18,
   "id": "8870e7e6-d980-4635-9818-01b39137e4b5",
   "metadata": {},
   "outputs": [
    {
     "name": "stdin",
     "output_type": "stream",
     "text": [
      "비밀번호? 1\n",
      "비밀번호? 123\n",
      "비밀번호? 1234\n",
      "비밀번호? #1234*\n"
     ]
    },
    {
     "name": "stdout",
     "output_type": "stream",
     "text": [
      "어서오세요, 문이 열렸습니다!\n"
     ]
    }
   ],
   "source": [
    "while True:\n",
    "    pwd=input('비밀번호?')\n",
    "\n",
    "    if pwd=='#1234*':\n",
    "        break\n",
    "\n",
    "print('어서오세요, 문이 열렸습니다!')"
   ]
  },
  {
   "cell_type": "code",
   "execution_count": 2,
   "id": "aceddce0-720a-4c05-9cf1-3fb3975081ce",
   "metadata": {},
   "outputs": [
    {
     "name": "stdin",
     "output_type": "stream",
     "text": [
      "나이? 200\n",
      "나이? -10\n",
      "나이? 20\n"
     ]
    },
    {
     "name": "stdout",
     "output_type": "stream",
     "text": [
      "당신은 성인입니다.\n"
     ]
    }
   ],
   "source": [
    "#사용자 정의 함수부\n",
    "def input_age(prompt):\n",
    "    while True:\n",
    "        n=int(input(prompt))\n",
    "        \n",
    "        if 0<=n<=120:\n",
    "            return n\n",
    "\n",
    "def is_adult(n):\n",
    "    if n>=19:\n",
    "        return True\n",
    "    else:\n",
    "        return False\n",
    "\n",
    "#주 프로그램부\n",
    "age=input_age('나이?')\n",
    "\n",
    "if is_adult(age):\n",
    "    print('당신은 성인입니다.')\n",
    "else :\n",
    "    print('당신은 성인이 아닙니다.')"
   ]
  },
  {
   "cell_type": "code",
   "execution_count": 8,
   "id": "f0fc74bc-4198-461c-b739-240dd91dc46b",
   "metadata": {},
   "outputs": [
    {
     "name": "stdin",
     "output_type": "stream",
     "text": [
      "윤년 여부를 확인할 연도는?  2000\n"
     ]
    },
    {
     "name": "stdout",
     "output_type": "stream",
     "text": [
      "2000년은 윤년입니다.\n"
     ]
    },
    {
     "name": "stdin",
     "output_type": "stream",
     "text": [
      "다른 연도도 확인하겠습니까? Y\n"
     ]
    },
    {
     "name": "stdout",
     "output_type": "stream",
     "text": [
      "\n"
     ]
    },
    {
     "name": "stdin",
     "output_type": "stream",
     "text": [
      "윤년 여부를 확인할 연도는?  2016\n"
     ]
    },
    {
     "name": "stdout",
     "output_type": "stream",
     "text": [
      "2016년은 윤년입니다.\n"
     ]
    },
    {
     "name": "stdin",
     "output_type": "stream",
     "text": [
      "다른 연도도 확인하겠습니까? y\n"
     ]
    },
    {
     "name": "stdout",
     "output_type": "stream",
     "text": [
      "\n"
     ]
    },
    {
     "name": "stdin",
     "output_type": "stream",
     "text": [
      "윤년 여부를 확인할 연도는?  1900\n"
     ]
    },
    {
     "name": "stdout",
     "output_type": "stream",
     "text": [
      "1900년은 평년입니다.\n"
     ]
    },
    {
     "name": "stdin",
     "output_type": "stream",
     "text": [
      "다른 연도도 확인하겠습니까? N\n"
     ]
    }
   ],
   "source": [
    "#사용자 정의 함수부\n",
    "def is_leap_year(y):\n",
    "    if (y%4==0 and y%100!=0) or(y%400==0):\n",
    "        return True\n",
    "    else:\n",
    "        return False\n",
    "\n",
    "#주 프로그램부\n",
    "while True:\n",
    "    year=int(input('윤년 여부를 확인할 연도는? '))\n",
    "    \n",
    "    print(f'{year}년은', end=' ')\n",
    "    if is_leap_year(year):\n",
    "        print('윤년입니다.')\n",
    "    else :\n",
    "        print('평년입니다.')\n",
    "\n",
    "    check=input('다른 연도도 확인하겠습니까?')\n",
    "    if check!='Y' and check!='y':\n",
    "        break\n",
    "    print()\n",
    "\n",
    "    '''\n",
    "    check=input('다른 연도도 확인하겠습니까?')\n",
    "    if check == 'Y' or check == 'y':\n",
    "        print()\n",
    "    else:\n",
    "        break\n",
    "    '''"
   ]
  },
  {
   "cell_type": "code",
   "execution_count": 14,
   "id": "20d89eb7-cf81-4f97-aec6-ca6e2754e51a",
   "metadata": {},
   "outputs": [
    {
     "name": "stdin",
     "output_type": "stream",
     "text": [
      "높이? 4\n"
     ]
    },
    {
     "name": "stdout",
     "output_type": "stream",
     "text": [
      "1\n",
      "12\n",
      "123\n",
      "1234\n"
     ]
    }
   ],
   "source": [
    "height=int(input('높이?'))\n",
    "\n",
    "for i in range (1, height+1):\n",
    "    for j in range(1, i+1):\n",
    "        print(j, end='')\n",
    "    print()"
   ]
  },
  {
   "cell_type": "code",
   "execution_count": 27,
   "id": "01022ace-9092-476e-bc02-4dd954681241",
   "metadata": {},
   "outputs": [
    {
     "name": "stdin",
     "output_type": "stream",
     "text": [
      "높이? 3\n"
     ]
    },
    {
     "name": "stdout",
     "output_type": "stream",
     "text": [
      "  *\n",
      " **\n",
      "***\n"
     ]
    }
   ],
   "source": [
    "def display_triangle(height, ch='*'):\n",
    "    for i in range(1, height+1):\n",
    "        draw_line(' ', height-i)\n",
    "        draw_line(ch, i)\n",
    "        print()\n",
    "\n",
    "def draw_line(ch, n):\n",
    "    print(ch*n, end='')\n",
    "\n",
    "#주 프로그램부\n",
    "h=int(input('높이?'))\n",
    "\n",
    "display_triangle(h)"
   ]
  },
  {
   "cell_type": "code",
   "execution_count": 3,
   "id": "46f02778-845d-4f1b-86c2-984194129a95",
   "metadata": {},
   "outputs": [
    {
     "name": "stdin",
     "output_type": "stream",
     "text": [
      "높이? 3\n"
     ]
    },
    {
     "name": "stdout",
     "output_type": "stream",
     "text": [
      "  *\n",
      " **\n",
      "***\n"
     ]
    }
   ],
   "source": [
    "#사용자 정의 함수부\n",
    "def display_triangle(height, ch='*'):\n",
    "    for i in range(1, height +1):\n",
    "        print(' ' * (height-i), end='')\n",
    "        print(ch *i)\n",
    "\n",
    "#주 프로그램부\n",
    "h=int(input('높이?'))\n",
    "\n",
    "display_triangle(h)"
   ]
  },
  {
   "cell_type": "code",
   "execution_count": null,
   "id": "dbbda6f8-2b6a-4aa8-b6bd-755e7c8fb24e",
   "metadata": {},
   "outputs": [],
   "source": []
  }
 ],
 "metadata": {
  "kernelspec": {
   "display_name": "Python 3 (ipykernel)",
   "language": "python",
   "name": "python3"
  },
  "language_info": {
   "codemirror_mode": {
    "name": "ipython",
    "version": 3
   },
   "file_extension": ".py",
   "mimetype": "text/x-python",
   "name": "python",
   "nbconvert_exporter": "python",
   "pygments_lexer": "ipython3",
   "version": "3.13.2"
  }
 },
 "nbformat": 4,
 "nbformat_minor": 5
}
