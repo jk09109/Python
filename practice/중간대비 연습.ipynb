{
 "cells": [
  {
   "cell_type": "code",
   "execution_count": 13,
   "id": "c53da83a-1e7d-42db-9624-5149e0c00b14",
   "metadata": {},
   "outputs": [
    {
     "name": "stdin",
     "output_type": "stream",
     "text": [
      "지금은 몇월인가요? 1\n",
      "사용량은 몇 KWh인가요? 800\n"
     ]
    },
    {
     "name": "stdout",
     "output_type": "stream",
     "text": [
      "전력량요금은 183440원입니다\n"
     ]
    }
   ],
   "source": [
    "#사용자 정의 함수부\n",
    "def calculateElectricRate(month, kwh):\n",
    "    if 7<=month<=8:\n",
    "        if kwh<=300:\n",
    "            tmp_cost=112*kwh\n",
    "            if tmp_cost<910:\n",
    "                return 910\n",
    "            else:\n",
    "                return tmp_cost\n",
    "        elif kwh<=450:\n",
    "            tmp_cost=206.6*(kwh-300)\n",
    "            if tmp_cost<1600:\n",
    "                return 1600\n",
    "            else:\n",
    "                return (300*112)+tmp_cost\n",
    "        elif kwh<=1000:\n",
    "            tmp_cost=299.3*(kwh-450)\n",
    "            if tmp_cost<7300:\n",
    "                return 7300\n",
    "            else:\n",
    "                return (300*112)+(150*206.6)+tmp_cost\n",
    "        else :\n",
    "            return (300*112)+(150*206.6)+(550*299.3)+(728.2*(kwh-1000))\n",
    "    else :\n",
    "        if kwh<=200:\n",
    "            tmp_cost=112*kwh\n",
    "            if tmp_cost<910:\n",
    "                return 910\n",
    "            else:\n",
    "                return tmp_cost\n",
    "        elif kwh<=400:\n",
    "            tmp_cost=206.6*(kwh-200)\n",
    "            if tmp_cost<1600:\n",
    "                return 1600\n",
    "            else:\n",
    "                return (200*112)+tmp_cost\n",
    "        elif kwh<=1000:\n",
    "            tmp_cost=299.3*(kwh-400)\n",
    "            if tmp_cost<7300:\n",
    "                return 7300\n",
    "            else:\n",
    "                return (200*112)+(200*206.6)+tmp_cost\n",
    "        else :\n",
    "            return (200*112)+(200*206.6)+(600*299.3)+(728.2*(kwh-1000))\n",
    "\n",
    "#주 프로그램부\n",
    "month=int(input(\"지금은 몇월인가요?\"))\n",
    "kwh=int(input(\"사용량은 몇 KWh인가요?\"))\n",
    "\n",
    "cost=calculateElectricRate(month, kwh)\n",
    "print(f'전력량요금은 {int(cost)}원입니다')"
   ]
  },
  {
   "cell_type": "code",
   "execution_count": 23,
   "id": "5d921516-1471-486a-9815-bc45cff86572",
   "metadata": {},
   "outputs": [
    {
     "name": "stdout",
     "output_type": "stream",
     "text": [
      "=== 미국 최종 지불 가격 계산 프로그램 ===\n"
     ]
    },
    {
     "name": "stdin",
     "output_type": "stream",
     "text": [
      "음식 가격을 달러로 입력하세요. 소수점 둘째자리까지 가능합니다: 33.52\n",
      "현재 주를 입력하세요. (1-오리곤, 2-뉴욕, 3-캘리포니아, 4-텍사스, 5-알래스카): 5\n",
      "팁을 몇 퍼센트 줄 것인지 숫자로 입력하세요 (0-100 사이): 18.5\n"
     ]
    },
    {
     "name": "stdout",
     "output_type": "stream",
     "text": [
      "음식가격 $33.52, 세금 $0.59, 팁 $6.20를 포함한 가격은 40.31입니다.\n"
     ]
    }
   ],
   "source": [
    "print('=== 미국 최종 지불 가격 계산 프로그램 ===')\n",
    "state=percent=0\n",
    "\n",
    "while True:\n",
    "    cost=float(input(\"음식 가격을 달러로 입력하세요. 소수점 둘째자리까지 가능합니다:\"))\n",
    "    \n",
    "    state=int(input(\"현재 주를 입력하세요. (1-오리곤, 2-뉴욕, 3-캘리포니아, 4-텍사스, 5-알래스카):\"))\n",
    "    while state<1 or state>5:\n",
    "        print(\"잘못 입력하셨습니다. 다시 입력하세요.\")\n",
    "        state=int(input(\"현재 주를 입력하세요. (1-오리곤, 2-뉴욕, 3-캘리포니아, 4-텍사스, 5-알래스카):\"))\n",
    "    \n",
    "    percent=float(input(\"팁을 몇 퍼센트 줄 것인지 숫자로 입력하세요 (0-100 사이):\"))\n",
    "    while percent<0 or percent>100:\n",
    "        print(\"잘못 입력하셨습니다. 다시 입력하세요.\")\n",
    "        percent=float(input(\"팁을 몇 퍼센트 줄 것인지 숫자로 입력하세요 (0-100 사이):\"))\n",
    "    break;\n",
    "\n",
    "if(state==1):\n",
    "    tax=0\n",
    "elif(state==2):\n",
    "    tax=8.52\n",
    "elif(state==3):\n",
    "    tax=8.82\n",
    "elif(state==4):\n",
    "    tax=8.20\n",
    "else: \n",
    "    tax=1.76\n",
    "\n",
    "calc_tax=cost*(tax/100)\n",
    "calc_tip=cost*(percent/100)\n",
    "calc_price=cost+calc_tax+calc_tip\n",
    "    \n",
    "print(f'음식가격 ${cost}, 세금 ${calc_tax:.2f}, 팁 ${calc_tip:.2f}를 포함한 가격은 {calc_price:.2f}입니다.')"
   ]
  },
  {
   "cell_type": "code",
   "execution_count": 3,
   "id": "2776d696-a6b1-4930-b271-8fe54a1c05b4",
   "metadata": {},
   "outputs": [
    {
     "name": "stdin",
     "output_type": "stream",
     "text": [
      "변환하고자 하는 화씨온도? 100\n"
     ]
    },
    {
     "name": "stdout",
     "output_type": "stream",
     "text": [
      "화씨 100.0도는 섭씨 37.77777777777778도\n"
     ]
    }
   ],
   "source": [
    "def fahrenheit_to_celcius(f):\n",
    "    c=5/9*(f-32)\n",
    "    return c\n",
    "\n",
    "def get_real(prompt):\n",
    "    res = float(input(prompt))\n",
    "    return res   \n",
    "\n",
    "#주 프로그램부\n",
    "f_temperature=get_real(\"변환하고자 하는 화씨온도?\")\n",
    "c_temperature=fahrenheit_to_celcius(f_temperature)\n",
    "print(f'화씨 {f_temperature}도는 섭씨 {c_temperature}도')"
   ]
  },
  {
   "cell_type": "code",
   "execution_count": 6,
   "id": "74a53190-e953-44f7-a12c-69c223f14c2f",
   "metadata": {},
   "outputs": [
    {
     "name": "stdin",
     "output_type": "stream",
     "text": [
      "변환하고자 하느 시간(초)? 3700\n"
     ]
    },
    {
     "name": "stdout",
     "output_type": "stream",
     "text": [
      "3700 초는 1 시간 1 분 40 초 이다.\n"
     ]
    }
   ],
   "source": [
    "def convert_time(res):\n",
    "    h=res//3600\n",
    "    m=(res%3600)//60\n",
    "    s=(res%3600)%60\n",
    "    print(res, '초는', h, '시간', m, '분', s, '초 이다.')\n",
    "\n",
    "def get_integer(prompt):\n",
    "    res=int(input(prompt))\n",
    "    return res\n",
    "    \n",
    "#주 프로그램부\n",
    "trans=get_integer(\"변환하고자 하느 시간(초)?\")\n",
    "convert_time(trans)"
   ]
  },
  {
   "cell_type": "code",
   "execution_count": 9,
   "id": "4369fe7f-f9d7-452c-923e-572c50ad4fce",
   "metadata": {},
   "outputs": [
    {
     "name": "stdin",
     "output_type": "stream",
     "text": [
      "설정할 비트 수는? 16\n"
     ]
    },
    {
     "name": "stdout",
     "output_type": "stream",
     "text": [
      "16 비트를 모두 1로 설정한 수는 65535 ( 0b1111111111111111 )이다.\n"
     ]
    }
   ],
   "source": [
    "def set_all_bits(n):\n",
    "    return (1 << n) -  1\n",
    "\n",
    "def get_integer(prompt):\n",
    "    res=int(input(prompt))\n",
    "    return res\n",
    "\n",
    "#주 프로그램부\n",
    "n = get_integer('설정할 비트 수는?')\n",
    "b = set_all_bits(n)\n",
    "\n",
    "print(n, '비트를 모두 1로 설정한 수는', b, '(',bin(b),')이다.')"
   ]
  },
  {
   "cell_type": "code",
   "execution_count": 10,
   "id": "9cf22867-a441-4ca2-a507-de4b166b6663",
   "metadata": {},
   "outputs": [
    {
     "name": "stdin",
     "output_type": "stream",
     "text": [
      "동전으로 교환하고자 하는 금액은? 3520\n"
     ]
    },
    {
     "name": "stdout",
     "output_type": "stream",
     "text": [
      "500원 동전의 개수: 7\n",
      "100원 동전의 개수: 0\n",
      "50원 동전의 개수: 0\n",
      "10원 동전의 개수: 2\n"
     ]
    }
   ],
   "source": [
    "def get_integer(prompt):\n",
    "    res=int(input(prompt))\n",
    "    return res\n",
    "\n",
    "def exchange(m):\n",
    "    n500=m//500\n",
    "    n100=(m%500)//100\n",
    "    n50=((m%500)%100)//50\n",
    "    n10=(((m%500)%100)%50)//10\n",
    "    print('500원 동전의 개수:',n500)\n",
    "    print('100원 동전의 개수:',n100)\n",
    "    print('50원 동전의 개수:',n50)\n",
    "    print('10원 동전의 개수:',n10)\n",
    "\n",
    "#주 프로그램부\n",
    "money=get_integer('동전으로 교환하고자 하는 금액은?')\n",
    "exchange(money)"
   ]
  },
  {
   "cell_type": "code",
   "execution_count": 11,
   "id": "35ec93b7-ca8a-444e-b488-bc8a01229cae",
   "metadata": {},
   "outputs": [
    {
     "name": "stdout",
     "output_type": "stream",
     "text": [
      "### 환율 변환 모듈 테스트 ###\n",
      "오늘의 환율 1010\n",
      "2020 원 = 2.0 달러\n",
      "2 달러 = 2020 원\n"
     ]
    }
   ],
   "source": [
    "#exchange_currency 모듈\n",
    "exchange_rate=0\n",
    "\n",
    "def set_rate(won):\n",
    "    global exchange_rate\n",
    "    exchange_rate=won\n",
    "def get_rate():\n",
    "    return exchange_rate\n",
    "def to_dollar(won):\n",
    "    return won/exchange_rate\n",
    "def to_won(dollar):\n",
    "    return dollar*exchange_rate\n",
    "def main():\n",
    "    print(\"### 환율 변환 모듈 테스트 ###\")\n",
    "    set_rate(1010)\n",
    "    print('오늘의 환율', exchange_rate)\n",
    "    print('2020 원 =', to_dollar(2020), '달러')\n",
    "    print('2 달러 =', to_won(2), '원')\n",
    "\n",
    "if __name__=='__main__':\n",
    "   main() "
   ]
  },
  {
   "cell_type": "code",
   "execution_count": 13,
   "id": "8f0a7619-3543-470a-b92a-3c266092a156",
   "metadata": {},
   "outputs": [
    {
     "name": "stdin",
     "output_type": "stream",
     "text": [
      "$1에 대한 오늘의 환율은? 1310\n",
      "원화로 변환할 달러화 액수는? 10\n"
     ]
    },
    {
     "name": "stdout",
     "output_type": "stream",
     "text": [
      "10 달러는 13100 원입니다.\n"
     ]
    },
    {
     "name": "stdin",
     "output_type": "stream",
     "text": [
      "달러화로 변환할 원화 액수는? 151024\n"
     ]
    },
    {
     "name": "stdout",
     "output_type": "stream",
     "text": [
      "151024 원은 115.2854961832061 달러입니다.\n"
     ]
    }
   ],
   "source": [
    "exchange_rate=0\n",
    "\n",
    "def set_rate(rate):\n",
    "    global exchange_rate\n",
    "    exchange_rate=rate\n",
    "def get_rate():\n",
    "    return exchange_rate\n",
    "def to_dollar(won):\n",
    "    return won/exchange_rate\n",
    "def to_won(dollar):\n",
    "    return dollar*exchange_rate\n",
    "\n",
    "rate=int(input('$1에 대한 오늘의 환율은?'))\n",
    "set_rate(rate)\n",
    "dollar=int(input('원화로 변환할 달러화 액수는?'))\n",
    "print(dollar,'달러는', to_won(dollar), '원입니다.')\n",
    "won=int(input('달러화로 변환할 원화 액수는?'))\n",
    "print(won,'원은', to_dollar(won), '달러입니다.')"
   ]
  },
  {
   "cell_type": "code",
   "execution_count": 16,
   "id": "de0d4111-fcc5-402b-9ed8-5ef0784a5c3c",
   "metadata": {},
   "outputs": [
    {
     "name": "stdin",
     "output_type": "stream",
     "text": [
      "할인율은? 20\n",
      "A상품의 할인된 가격은? 8000\n",
      "B상품의 할인된 가격은? 12000\n"
     ]
    },
    {
     "name": "stdout",
     "output_type": "stream",
     "text": [
      "A상품의 정가는 10000 원\n",
      "B상품의 정가는 15000 원\n"
     ]
    }
   ],
   "source": [
    "sale_rate=0\n",
    "\n",
    "def get_fixed_price(price):\n",
    "    global sale_rate\n",
    "    before_sale=price/(1-sale_rate/100)\n",
    "    return int(before_sale)\n",
    "\n",
    "#주 프로그램부\n",
    "sale_rate=int(input('할인율은?'))\n",
    "A=int(input('A상품의 할인된 가격은?'))\n",
    "B=int(input('B상품의 할인된 가격은?'))\n",
    "print('A상품의 정가는', get_fixed_price(A), '원')\n",
    "print('B상품의 정가는', get_fixed_price(B), '원')"
   ]
  },
  {
   "cell_type": "code",
   "execution_count": 17,
   "id": "55bf0288-8a5b-414d-91fb-21f97abfcef3",
   "metadata": {},
   "outputs": [
    {
     "name": "stdin",
     "output_type": "stream",
     "text": [
      "이름? 박보검\n",
      "학년? 1\n"
     ]
    },
    {
     "name": "stdout",
     "output_type": "stream",
     "text": [
      "보검은 내년에 2학년입니다.\n"
     ]
    }
   ],
   "source": [
    "def introduce(name, grade):\n",
    "    first_name=name[1:]\n",
    "    next_grade=grade+1\n",
    "    return f'{first_name}은 내년에 {next_grade}학년입니다.'\n",
    "\n",
    "#주 프로그램부\n",
    "name=input('이름?')\n",
    "grade=int(input('학년?'))\n",
    "\n",
    "msg=introduce(name, grade)\n",
    "print(msg)"
   ]
  },
  {
   "cell_type": "code",
   "execution_count": 20,
   "id": "0fe8d6fb-b9a1-4635-afdc-9d45319038f7",
   "metadata": {},
   "outputs": [
    {
     "name": "stdout",
     "output_type": "stream",
     "text": [
      "----------\n",
      "#####\n"
     ]
    }
   ],
   "source": [
    "def rep_char(c, n):\n",
    "    print(c*n)\n",
    "\n",
    "rep_char('-', 10)\n",
    "rep_char('#', 5)"
   ]
  },
  {
   "cell_type": "code",
   "execution_count": 25,
   "id": "8afb1c7b-570d-474c-9184-506dc787115f",
   "metadata": {},
   "outputs": [
    {
     "name": "stdout",
     "output_type": "stream",
     "text": [
      "--------------\n",
      "  안녕하세요  \n",
      "--------------\n",
      "--------\n",
      "  안녕  \n",
      "--------\n"
     ]
    }
   ],
   "source": [
    "def rep_char(c, n):\n",
    "    print(c*n)\n",
    "    \n",
    "def draw_line_string(c):\n",
    "    rep_char('-', len(c)*2+4)\n",
    "    print(f'  {c}  ')\n",
    "    rep_char('-', len(c)*2+4)\n",
    "\n",
    "#주 프로그램부\n",
    "draw_line_string('안녕하세요')\n",
    "draw_line_string('안녕')"
   ]
  },
  {
   "cell_type": "code",
   "execution_count": 29,
   "id": "7e0584a8-8c31-46d9-9181-b47159a72a59",
   "metadata": {},
   "outputs": [
    {
     "name": "stdin",
     "output_type": "stream",
     "text": [
      "Input his/her name: Steve Yoo\n"
     ]
    },
    {
     "name": "stdout",
     "output_type": "stream",
     "text": [
      "------------------\n",
      " Hello Steve Yoo, \n",
      " Welcome to Seoul\n",
      "------------------\n"
     ]
    }
   ],
   "source": [
    "def rep_char(c, n):\n",
    "    print(c*n)\n",
    "    \n",
    "def draw_line_string(name):\n",
    "    msg1='Hello '+name+','\n",
    "    msg2='Welcome to Seoul'\n",
    "    nstr=len(msg1) if(len(msg1)>len(msg2)) else len(msg2)\n",
    "    rep_char('-', nstr+2)\n",
    "    print(f' {msg1} \\n {msg2}')\n",
    "    rep_char('-', nstr+2)\n",
    "\n",
    "#주 프로그램부\n",
    "name=input(\"Input his/her name:\")\n",
    "draw_line_string(name)"
   ]
  },
  {
   "cell_type": "code",
   "execution_count": 32,
   "id": "661a1275-673f-4ccc-8b7c-48b1c6bd4615",
   "metadata": {},
   "outputs": [
    {
     "name": "stdin",
     "output_type": "stream",
     "text": [
      "연도? 2000\n",
      "월? 2\n"
     ]
    },
    {
     "name": "stdout",
     "output_type": "stream",
     "text": [
      "2000년 2월은 29일까지 있습니다.\n"
     ]
    }
   ],
   "source": [
    "def is_leap_year(year):\n",
    "    if (year%4==0 and year%100!=0) or(year%400==0):\n",
    "        return True\n",
    "    else:\n",
    "        return False\n",
    "        \n",
    "def month_days(year, month):\n",
    "    if month==2:\n",
    "        if is_leap_year(year):\n",
    "            return 29\n",
    "        else : \n",
    "            return 28\n",
    "    elif month==4 or month==6 or month==9 or month==11:\n",
    "        return 30\n",
    "    else: return 31\n",
    "\n",
    "\n",
    "#주 프로그램부\n",
    "year=int(input('연도?'))\n",
    "month=int(input('월?'))\n",
    "\n",
    "print(f'{year}년 {month}월은 {month_days(year, month)}일까지 있습니다.')"
   ]
  },
  {
   "cell_type": "code",
   "execution_count": 36,
   "id": "f0357f06-aac4-4353-a99f-289f15a85695",
   "metadata": {},
   "outputs": [
    {
     "name": "stdin",
     "output_type": "stream",
     "text": [
      "나이? -101\n"
     ]
    },
    {
     "name": "stdout",
     "output_type": "stream",
     "text": [
      "오류: 유효하지 않은 나이가 입력되어 판별할 수 없습니다!\n"
     ]
    }
   ],
   "source": [
    "def input_age(prompt):\n",
    "    age=int(input(prompt))\n",
    "    if 0<=age<=120:\n",
    "        return age\n",
    "    else: return -1\n",
    "    \n",
    "def is_adult(a):\n",
    "    if a>=19:\n",
    "        return True\n",
    "    else:\n",
    "        return False\n",
    "        \n",
    "#주 프로그램부\n",
    "age=input_age('나이?')\n",
    "\n",
    "if age==-1:\n",
    "    print('오류: 유효하지 않은 나이가 입력되어 판별할 수 없습니다!')\n",
    "else:\n",
    "    if is_adult(age):\n",
    "        print('당신은 성인입니다.')\n",
    "    else:\n",
    "        print('당신은 성인이 아닙니다.')"
   ]
  },
  {
   "cell_type": "code",
   "execution_count": 38,
   "id": "e4c068f8-885c-4194-a546-ab557b607749",
   "metadata": {},
   "outputs": [
    {
     "name": "stdin",
     "output_type": "stream",
     "text": [
      "한 문자 입력?   \n"
     ]
    },
    {
     "name": "stdout",
     "output_type": "stream",
     "text": [
      "공백 문자를 입력했습니다.\n"
     ]
    }
   ],
   "source": [
    "#사용자 정의 함수부\n",
    "def find_char_type(m):\n",
    "    if m==' ':\n",
    "        return '공백'\n",
    "    elif (m>='a' and m<='z') or (m>='A' and m<='Z'):\n",
    "        return '알파벳'\n",
    "    elif m>='0' and m<='9':\n",
    "        return '숫자'\n",
    "    else :\n",
    "        return '기타'\n",
    "\n",
    "#주 프로그램부\n",
    "message=input('한 문자 입력? ')\n",
    "ctype=find_char_type(message)\n",
    "print(f'{ctype} 문자를 입력했습니다.')"
   ]
  },
  {
   "cell_type": "code",
   "execution_count": 39,
   "id": "167413ed-153a-4db1-8ad1-b8d5a8c8e4c3",
   "metadata": {},
   "outputs": [
    {
     "name": "stdin",
     "output_type": "stream",
     "text": [
      "세자리 정수 입력 129\n"
     ]
    },
    {
     "name": "stdout",
     "output_type": "stream",
     "text": [
      "일 이 구 "
     ]
    }
   ],
   "source": [
    "#사용자 정의 함수부\n",
    "def read_single_digit(one):\n",
    "    if one==0: print('영', end=' ')\n",
    "    elif one==1: print('일', end=' ')\n",
    "    elif one==2: print('이', end=' ')\n",
    "    elif one==3: print('삼', end=' ')\n",
    "    elif one==4: print('사', end=' ')\n",
    "    elif one==5: print('오', end=' ')\n",
    "    elif one==6: print('육', end=' ')\n",
    "    elif one==7: print('칠', end=' ')\n",
    "    elif one==8: print('팔', end=' ')\n",
    "    elif one==9: print('구', end=' ')\n",
    "    \n",
    "def read_number(num):\n",
    "    if 0<=num<10:\n",
    "        read_single_digit(num)\n",
    "    elif 10<=num<100:\n",
    "        t=num//10\n",
    "        o=num%10\n",
    "        read_single_digit(t)\n",
    "        read_single_digit(o)\n",
    "    elif 100<=num<1000:\n",
    "        h=num//100\n",
    "        t=(num%100)//10\n",
    "        o=num%10\n",
    "        read_single_digit(h)\n",
    "        read_single_digit(t)\n",
    "        read_single_digit(o)\n",
    "\n",
    "#주 프로그램부\n",
    "num=int(input('세자리 정수 입력'))\n",
    "read_number(num)"
   ]
  },
  {
   "cell_type": "code",
   "execution_count": 40,
   "id": "61d23415-fbb2-46cd-a52a-0b820a638089",
   "metadata": {},
   "outputs": [
    {
     "name": "stdin",
     "output_type": "stream",
     "text": [
      "나이? 200\n",
      "나이? -20\n",
      "나이? 20\n"
     ]
    },
    {
     "name": "stdout",
     "output_type": "stream",
     "text": [
      "당신은 성인입니다.\n"
     ]
    }
   ],
   "source": [
    "#사용자 정의 함수부\n",
    "def input_age(prompt):\n",
    "    while True:\n",
    "        n=int(input(prompt))\n",
    "        \n",
    "        if 0<=n<=120:\n",
    "            return n\n",
    "\n",
    "def is_adult(n):\n",
    "    if n>=19:\n",
    "        return True\n",
    "    else:\n",
    "        return False\n",
    "\n",
    "#주 프로그램부\n",
    "age=input_age('나이?')\n",
    "\n",
    "if is_adult(age):\n",
    "    print('당신은 성인입니다.')\n",
    "else :\n",
    "    print('당신은 성인이 아닙니다.')"
   ]
  },
  {
   "cell_type": "code",
   "execution_count": 41,
   "id": "6efc6779-f1e3-4811-a2a3-91591d99aa8d",
   "metadata": {},
   "outputs": [
    {
     "name": "stdin",
     "output_type": "stream",
     "text": [
      "윤년 여부를 확인할 연도는?  2000\n"
     ]
    },
    {
     "name": "stdout",
     "output_type": "stream",
     "text": [
      "2000년은 윤년입니다.\n"
     ]
    },
    {
     "name": "stdin",
     "output_type": "stream",
     "text": [
      "다른 연도도 확인하겠습니까? y\n"
     ]
    },
    {
     "name": "stdout",
     "output_type": "stream",
     "text": [
      "\n"
     ]
    },
    {
     "name": "stdin",
     "output_type": "stream",
     "text": [
      "윤년 여부를 확인할 연도는?  2016\n"
     ]
    },
    {
     "name": "stdout",
     "output_type": "stream",
     "text": [
      "2016년은 윤년입니다.\n"
     ]
    },
    {
     "name": "stdin",
     "output_type": "stream",
     "text": [
      "다른 연도도 확인하겠습니까? y\n"
     ]
    },
    {
     "name": "stdout",
     "output_type": "stream",
     "text": [
      "\n"
     ]
    },
    {
     "name": "stdin",
     "output_type": "stream",
     "text": [
      "윤년 여부를 확인할 연도는?  1900\n"
     ]
    },
    {
     "name": "stdout",
     "output_type": "stream",
     "text": [
      "1900년은 평년입니다.\n"
     ]
    },
    {
     "name": "stdin",
     "output_type": "stream",
     "text": [
      "다른 연도도 확인하겠습니까? n\n"
     ]
    }
   ],
   "source": [
    "#사용자 정의 함수부\n",
    "def is_leap_year(y):\n",
    "    if (y%4==0 and y%100!=0) or(y%400==0):\n",
    "        return True\n",
    "    else:\n",
    "        return False\n",
    "\n",
    "#주 프로그램부\n",
    "while True:\n",
    "    year=int(input('윤년 여부를 확인할 연도는? '))\n",
    "    \n",
    "    print(f'{year}년은', end=' ')\n",
    "    if is_leap_year(year):\n",
    "        print('윤년입니다.')\n",
    "    else :\n",
    "        print('평년입니다.')\n",
    "\n",
    "    check=input('다른 연도도 확인하겠습니까?')\n",
    "    if check!='Y' and check!='y':\n",
    "        break\n",
    "    print()\n",
    "\n",
    "    '''\n",
    "    check=input('다른 연도도 확인하겠습니까?')\n",
    "    if check == 'Y' or check == 'y':\n",
    "        print()\n",
    "    else:\n",
    "        break\n",
    "    '''"
   ]
  },
  {
   "cell_type": "code",
   "execution_count": 43,
   "id": "cf15f859-89b1-4cde-b85b-7370434e0f61",
   "metadata": {},
   "outputs": [
    {
     "name": "stdin",
     "output_type": "stream",
     "text": [
      "높이? 5\n"
     ]
    },
    {
     "name": "stdout",
     "output_type": "stream",
     "text": [
      "    *\n",
      "   **\n",
      "  ***\n",
      " ****\n",
      "*****\n"
     ]
    }
   ],
   "source": [
    "def display_triangle(height, ch='*'):\n",
    "    for i in range(1, height+1):\n",
    "        draw_line(' ', height-i)\n",
    "        draw_line(ch, i)\n",
    "        print()\n",
    "\n",
    "def draw_line(ch, n):\n",
    "    print(ch*n, end='')\n",
    "\n",
    "#주 프로그램부\n",
    "h=int(input('높이?'))\n",
    "\n",
    "display_triangle(h)"
   ]
  },
  {
   "cell_type": "code",
   "execution_count": 44,
   "id": "685ebc70-ebf1-4aac-aede-095cf5280826",
   "metadata": {},
   "outputs": [
    {
     "name": "stdout",
     "output_type": "stream",
     "text": [
      "2 x 1 =  2\t3 x 1 =  3\t4 x 1 =  4\t5 x 1 =  5\t\n",
      "2 x 2 =  4\t3 x 2 =  6\t4 x 2 =  8\t5 x 2 = 10\t\n",
      "2 x 3 =  6\t3 x 3 =  9\t4 x 3 = 12\t5 x 3 = 15\t\n",
      "2 x 4 =  8\t3 x 4 = 12\t4 x 4 = 16\t5 x 4 = 20\t\n",
      "2 x 5 = 10\t3 x 5 = 15\t4 x 5 = 20\t5 x 5 = 25\t\n",
      "2 x 6 = 12\t3 x 6 = 18\t4 x 6 = 24\t5 x 6 = 30\t\n",
      "2 x 7 = 14\t3 x 7 = 21\t4 x 7 = 28\t5 x 7 = 35\t\n",
      "2 x 8 = 16\t3 x 8 = 24\t4 x 8 = 32\t5 x 8 = 40\t\n",
      "2 x 9 = 18\t3 x 9 = 27\t4 x 9 = 36\t5 x 9 = 45\t\n",
      "\n",
      "6 x 1 =  6\t7 x 1 =  7\t8 x 1 =  8\t9 x 1 =  9\t\n",
      "6 x 2 = 12\t7 x 2 = 14\t8 x 2 = 16\t9 x 2 = 18\t\n",
      "6 x 3 = 18\t7 x 3 = 21\t8 x 3 = 24\t9 x 3 = 27\t\n",
      "6 x 4 = 24\t7 x 4 = 28\t8 x 4 = 32\t9 x 4 = 36\t\n",
      "6 x 5 = 30\t7 x 5 = 35\t8 x 5 = 40\t9 x 5 = 45\t\n",
      "6 x 6 = 36\t7 x 6 = 42\t8 x 6 = 48\t9 x 6 = 54\t\n",
      "6 x 7 = 42\t7 x 7 = 49\t8 x 7 = 56\t9 x 7 = 63\t\n",
      "6 x 8 = 48\t7 x 8 = 56\t8 x 8 = 64\t9 x 8 = 72\t\n",
      "6 x 9 = 54\t7 x 9 = 63\t8 x 9 = 72\t9 x 9 = 81\t\n",
      "\n"
     ]
    }
   ],
   "source": [
    "#사용자 정의 함수부\n",
    "def display_multiplication_table(start, end):\n",
    "    i=1\n",
    "    while i<=9:\n",
    "        for j in range (start, end+1):\n",
    "            print(f'{j} x {i} = {j * i:2d}', end='\\t')\n",
    "        i+=1\n",
    "        print()\n",
    "    print()\n",
    "\n",
    "#주 프로그램부\n",
    "display_multiplication_table(2, 5)\n",
    "display_multiplication_table(6, 9)"
   ]
  },
  {
   "cell_type": "code",
   "execution_count": null,
   "id": "8a6e2665-5857-4703-9cc3-0d8f788806fd",
   "metadata": {},
   "outputs": [],
   "source": []
  }
 ],
 "metadata": {
  "kernelspec": {
   "display_name": "Python 3 (ipykernel)",
   "language": "python",
   "name": "python3"
  },
  "language_info": {
   "codemirror_mode": {
    "name": "ipython",
    "version": 3
   },
   "file_extension": ".py",
   "mimetype": "text/x-python",
   "name": "python",
   "nbconvert_exporter": "python",
   "pygments_lexer": "ipython3",
   "version": "3.13.2"
  }
 },
 "nbformat": 4,
 "nbformat_minor": 5
}
