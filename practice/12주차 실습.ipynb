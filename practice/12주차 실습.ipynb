{
 "cells": [
  {
   "cell_type": "code",
   "execution_count": 2,
   "id": "ecfef9ad-835b-4151-ba80-b46667660a64",
   "metadata": {},
   "outputs": [
    {
     "ename": "FileNotFoundError",
     "evalue": "[Errno 2] No such file or directory: 'example.txt'",
     "output_type": "error",
     "traceback": [
      "\u001b[31m---------------------------------------------------------------------------\u001b[39m",
      "\u001b[31mFileNotFoundError\u001b[39m                         Traceback (most recent call last)",
      "\u001b[36mCell\u001b[39m\u001b[36m \u001b[39m\u001b[32mIn[2]\u001b[39m\u001b[32m, line 1\u001b[39m\n\u001b[32m----> \u001b[39m\u001b[32m1\u001b[39m file=\u001b[38;5;28;43mopen\u001b[39;49m\u001b[43m(\u001b[49m\u001b[33;43m'\u001b[39;49m\u001b[33;43mexample.txt\u001b[39;49m\u001b[33;43m'\u001b[39;49m\u001b[43m,\u001b[49m\u001b[43m \u001b[49m\u001b[33;43m'\u001b[39;49m\u001b[33;43mr\u001b[39;49m\u001b[33;43m'\u001b[39;49m\u001b[43m)\u001b[49m \u001b[38;5;66;03m#읽기모드로 텍스트파일 열기\u001b[39;00m\n\u001b[32m      2\u001b[39m file.close()\n\u001b[32m      3\u001b[39m \u001b[38;5;28mprint\u001b[39m(\u001b[33m'\u001b[39m\u001b[33m파일 열고 닫기 완료\u001b[39m\u001b[33m'\u001b[39m)\n",
      "\u001b[36mFile \u001b[39m\u001b[32m~\\AppData\\Local\\Programs\\Python\\Python313\\Lib\\site-packages\\IPython\\core\\interactiveshell.py:325\u001b[39m, in \u001b[36m_modified_open\u001b[39m\u001b[34m(file, *args, **kwargs)\u001b[39m\n\u001b[32m    318\u001b[39m \u001b[38;5;28;01mif\u001b[39;00m file \u001b[38;5;129;01min\u001b[39;00m {\u001b[32m0\u001b[39m, \u001b[32m1\u001b[39m, \u001b[32m2\u001b[39m}:\n\u001b[32m    319\u001b[39m     \u001b[38;5;28;01mraise\u001b[39;00m \u001b[38;5;167;01mValueError\u001b[39;00m(\n\u001b[32m    320\u001b[39m         \u001b[33mf\u001b[39m\u001b[33m\"\u001b[39m\u001b[33mIPython won\u001b[39m\u001b[33m'\u001b[39m\u001b[33mt let you open fd=\u001b[39m\u001b[38;5;132;01m{\u001b[39;00mfile\u001b[38;5;132;01m}\u001b[39;00m\u001b[33m by default \u001b[39m\u001b[33m\"\u001b[39m\n\u001b[32m    321\u001b[39m         \u001b[33m\"\u001b[39m\u001b[33mas it is likely to crash IPython. If you know what you are doing, \u001b[39m\u001b[33m\"\u001b[39m\n\u001b[32m    322\u001b[39m         \u001b[33m\"\u001b[39m\u001b[33myou can use builtins\u001b[39m\u001b[33m'\u001b[39m\u001b[33m open.\u001b[39m\u001b[33m\"\u001b[39m\n\u001b[32m    323\u001b[39m     )\n\u001b[32m--> \u001b[39m\u001b[32m325\u001b[39m \u001b[38;5;28;01mreturn\u001b[39;00m \u001b[43mio_open\u001b[49m\u001b[43m(\u001b[49m\u001b[43mfile\u001b[49m\u001b[43m,\u001b[49m\u001b[43m \u001b[49m\u001b[43m*\u001b[49m\u001b[43margs\u001b[49m\u001b[43m,\u001b[49m\u001b[43m \u001b[49m\u001b[43m*\u001b[49m\u001b[43m*\u001b[49m\u001b[43mkwargs\u001b[49m\u001b[43m)\u001b[49m\n",
      "\u001b[31mFileNotFoundError\u001b[39m: [Errno 2] No such file or directory: 'example.txt'"
     ]
    }
   ],
   "source": [
    "file=open('example.txt', 'r') #읽기모드로 텍스트파일 열기\n",
    "file.close()\n",
    "print('파일 열고 닫기 완료')\n",
    "\n",
    "#파일이 없는 상태라 오류가 남"
   ]
  },
  {
   "cell_type": "code",
   "execution_count": 5,
   "id": "87ee3d2b-34ee-4785-ba56-c05304ba07cd",
   "metadata": {},
   "outputs": [
    {
     "name": "stdout",
     "output_type": "stream",
     "text": [
      "파일 열고 닫기 완료\n"
     ]
    }
   ],
   "source": [
    "file=open('example.txt', 'w') #쓰기모드로 텍스트파일 열기\n",
    "file.close()\n",
    "print('파일 열고 닫기 완료')\n",
    "\n",
    "#파일이 생성되면서 쓰기모드로 열림"
   ]
  },
  {
   "cell_type": "code",
   "execution_count": 7,
   "id": "47977d82-20be-4718-b95c-e9885260c01a",
   "metadata": {},
   "outputs": [
    {
     "name": "stdout",
     "output_type": "stream",
     "text": [
      "ERROR: example.txt이 존재하지 않습니다!\n",
      "끝\n"
     ]
    }
   ],
   "source": [
    "import os\n",
    "\n",
    "filename='example.txt'\n",
    "if os.path.exists(filename):\n",
    "    file=open(filename, 'r')\n",
    "    file.close()\n",
    "    print('파일 열고 닫기 완료')\n",
    "else:\n",
    "    print(f'ERROR: {filename}이 존재하지 않습니다!')\n",
    "\n",
    "print('끝')"
   ]
  },
  {
   "cell_type": "code",
   "execution_count": 11,
   "id": "f657b5cd-a428-4922-8f04-78d0f977e8c7",
   "metadata": {},
   "outputs": [],
   "source": [
    "import os\n",
    "if not(os.path.isdir('data')):     #isdir()은 디렉터리의 존재여부를 반환\n",
    "    os.makedirs('data')            #makedirs()는 현재 경로상에 인수로 지정한 이름의 서브 디렉터리 생성\n",
    "\n",
    "file=open('data/example.txt','w')\n",
    "file.close()\n",
    "\n",
    "#원래 'data' directory가 없으면 오류가 나지만 위에 3줄이 data directory가 없으면 새로 만들어줌."
   ]
  },
  {
   "cell_type": "code",
   "execution_count": 14,
   "id": "1d389294-b96c-437b-b746-7ee0c1e0a661",
   "metadata": {},
   "outputs": [],
   "source": [
    "import os\n",
    "if not(os.path.isdir('C:/Users/jk091/Desktop/상명대학교/25년 1학기/파이썬프로그래밍/pyWork/data')):\n",
    "    os.makedirs('C:/Users/jk091/Desktop/상명대학교/25년 1학기/파이썬프로그래밍/pyWork/data')\n",
    "\n",
    "file=open('C:/Users/jk091/Desktop/상명대학교/25년 1학기/파이썬프로그래밍/pyWork/data/example.txt','w')\n",
    "file.close()\n",
    "\n",
    "#바로 앞 코드와의 차이점) 절대경로로 표현함"
   ]
  },
  {
   "cell_type": "code",
   "execution_count": 16,
   "id": "6f9332fa-8280-459a-a35a-58173d7da8cf",
   "metadata": {},
   "outputs": [
    {
     "name": "stdout",
     "output_type": "stream",
     "text": [
      "파일 열고 닫기 완료\n"
     ]
    }
   ],
   "source": [
    "import os\n",
    "if not(os.path.isdir('data')):     \n",
    "    os.makedirs('data')            \n",
    "\n",
    "with open('data/example.txt', 'w') as file:\n",
    "    pass\n",
    "\n",
    "print('파일 열고 닫기 완료')"
   ]
  },
  {
   "cell_type": "code",
   "execution_count": 18,
   "id": "c984bd80-f0c3-4fde-b58f-18592c105705",
   "metadata": {},
   "outputs": [
    {
     "name": "stdout",
     "output_type": "stream",
     "text": [
      "끝\n"
     ]
    }
   ],
   "source": [
    "num=2\n",
    "name='홍길동'\n",
    "\n",
    "with open('data/example.txt', 'w') as file:\n",
    "    file.write('1 이찬수\\n')\n",
    "    file.write(f'{num} {name}\\n')\n",
    "\n",
    "print('끝')"
   ]
  },
  {
   "cell_type": "code",
   "execution_count": 25,
   "id": "15fabfa1-5cfa-4eeb-a519-992b253d1c49",
   "metadata": {},
   "outputs": [
    {
     "name": "stdout",
     "output_type": "stream",
     "text": [
      "1 이찬수\n",
      "2 홍길동\n",
      "\n"
     ]
    }
   ],
   "source": [
    "with open('data/example.txt', 'r') as file:\n",
    "    all=file.read()\n",
    "\n",
    "print(all)\n",
    "\n",
    "# 만약 깨진다면 인코딩 오류\n",
    "# <<with open('data/example.txt', 'r') as file:>>\n",
    "# 부분에서 <<'r'>>을 <<mode='r', encoding='utf8'>> 혹은 <<mode='r', encoding='cp949'>>로 바꿔줘야함.\n",
    "# --> 인코딩 방식을 바꿔주는 것"
   ]
  },
  {
   "cell_type": "code",
   "execution_count": 20,
   "id": "3f1b26c3-8887-44a5-a4ca-8bd3d260025f",
   "metadata": {},
   "outputs": [
    {
     "name": "stdout",
     "output_type": "stream",
     "text": [
      "['1 이찬수\\n', '2 홍길동\\n']\n"
     ]
    }
   ],
   "source": [
    "lines=[]\n",
    "\n",
    "with open('data/example.txt', 'r') as file:\n",
    "    lines=file.readlines()\n",
    "\n",
    "print(lines)"
   ]
  },
  {
   "cell_type": "code",
   "execution_count": 21,
   "id": "cff30afe-d050-4372-b376-4be6298da4a3",
   "metadata": {},
   "outputs": [
    {
     "name": "stdout",
     "output_type": "stream",
     "text": [
      "['1 이찬수', '2 홍길동']\n"
     ]
    }
   ],
   "source": [
    "lines=[]\n",
    "\n",
    "with open('data/example.txt', 'r') as file:\n",
    "    while True:\n",
    "        line=file.readline()\n",
    "\n",
    "        if line=='':\n",
    "            break\n",
    "\n",
    "        lines.append(line.strip())\n",
    "\n",
    "print(lines)"
   ]
  },
  {
   "cell_type": "code",
   "execution_count": 22,
   "id": "13b6fca4-0a15-49db-ab5d-dc92a7f04c65",
   "metadata": {},
   "outputs": [
    {
     "name": "stdout",
     "output_type": "stream",
     "text": [
      "['1 이찬수', '2 홍길동']\n"
     ]
    }
   ],
   "source": [
    "lines=[]\n",
    "\n",
    "with open('data/example.txt', 'r') as file:\n",
    "    for line in file:\n",
    "        lines.append(line.strip('\\n'))\n",
    "\n",
    "print(lines)"
   ]
  },
  {
   "cell_type": "code",
   "execution_count": 26,
   "id": "6fc0f9c8-ce4a-474c-8a30-6b8b35d899bc",
   "metadata": {},
   "outputs": [
    {
     "name": "stdout",
     "output_type": "stream",
     "text": [
      "123\n",
      "홍길동\n",
      "180.5\n",
      "{'mid': 90, 'fin': 95, 'rep': 10, 'att': 10}\n"
     ]
    }
   ],
   "source": [
    "import pickle\n",
    "\n",
    "filepath='data/example.bin'\n",
    "\n",
    "#사용자 정의 함수부\n",
    "def save_data(num, name, height, scores):\n",
    "    with open(filepath, 'wb') as file:\n",
    "        pickle.dump(num, file)\n",
    "        pickle.dump(name, file)\n",
    "        pickle.dump(height, file)\n",
    "        pickle.dump(scores, file)\n",
    "\n",
    "def load_data():\n",
    "    with open(filepath, 'rb') as file:\n",
    "        num=pickle.load(file)\n",
    "        name=pickle.load(file)\n",
    "        height=pickle.load(file)\n",
    "        scores=pickle.load(file)\n",
    "\n",
    "    return num, name, height, scores\n",
    "\n",
    "#주 프로그램부\n",
    "num, name, height=123, '홍길동', 180.5\n",
    "scores={'mid':90, 'fin':95, 'rep':10, 'att':10}\n",
    "\n",
    "#저장하기\n",
    "save_data(num, name, height, scores)\n",
    "\n",
    "#불러오기\n",
    "r_num, r_name, r_height, r_scores = load_data()\n",
    "\n",
    "#불러온 값 출력\n",
    "print(r_num)\n",
    "print(r_name)\n",
    "print(r_height)\n",
    "print(r_scores)"
   ]
  },
  {
   "cell_type": "code",
   "execution_count": 34,
   "id": "5f390131-3cba-414a-962c-65d24a7487f7",
   "metadata": {},
   "outputs": [
    {
     "name": "stdin",
     "output_type": "stream",
     "text": [
      "파일명:  readme.txt\n"
     ]
    },
    {
     "name": "stdout",
     "output_type": "stream",
     "text": [
      "['안녕하세요, 반갑습니다.', '이 파일은 테스트 파일 저작을 위해 작성된 텍스트 문서입니다.', '조금 낯설더라도 포기하지 마세요.']\n",
      "\n"
     ]
    }
   ],
   "source": [
    "file=input('파일명: ')\n",
    "\n",
    "lines=[]\n",
    "\n",
    "with open(file, mode='r', encoding='utf8') as file:\n",
    "    for line in file:\n",
    "        lines.append(line.strip('\\n'))\n",
    "    print(lines)"
   ]
  },
  {
   "cell_type": "code",
   "execution_count": 36,
   "id": "69d2dd7b-2516-4845-8996-efd31e08bcad",
   "metadata": {},
   "outputs": [
    {
     "name": "stdin",
     "output_type": "stream",
     "text": [
      "파일명:  readme.txt\n"
     ]
    },
    {
     "name": "stdout",
     "output_type": "stream",
     "text": [
      "1: 안녕하세요, 반갑습니다.\n",
      "2: 이 파일은 테스트 파일 저작을 위해 작성된 텍스트 문서입니다.\n",
      "3: 조금 낯설더라도 포기하지 마세요.\n"
     ]
    }
   ],
   "source": [
    "#사용자 정의 함수부\n",
    "def show_file(filename):\n",
    "    with open(filename, mode='r', encoding='utf8') as file:\n",
    "        i=1\n",
    "        while True:\n",
    "            line=file.readline()\n",
    "    \n",
    "            if line=='':\n",
    "                break\n",
    "    \n",
    "            print(f'{i}: {line.strip()}')\n",
    "            i+=1\n",
    "        \n",
    "#주 프로그램부\n",
    "fn=input('파일명: ')\n",
    "show_file(fn)"
   ]
  },
  {
   "cell_type": "code",
   "execution_count": 38,
   "id": "ed749126-515b-4179-b0c4-eeb9a0a2b710",
   "metadata": {},
   "outputs": [
    {
     "name": "stdout",
     "output_type": "stream",
     "text": [
      "[파일 읽기]\n",
      "\n",
      ">>> 장바구니 보기: ['바나나', '사과']\n",
      "[구입]\n"
     ]
    },
    {
     "name": "stdin",
     "output_type": "stream",
     "text": [
      "상품명?  \n"
     ]
    },
    {
     "name": "stdout",
     "output_type": "stream",
     "text": [
      "\n",
      ">>> 장바구니 보기: ['바나나', '사과']\n"
     ]
    }
   ],
   "source": [
    "import os\n",
    "\n",
    "filename='shoppingbag.txt'\n",
    "\n",
    "#사용자 정의 함수부\n",
    "def buy(sbag):\n",
    "    print('[구입]')\n",
    "    item=input('상품명? ')\n",
    "\n",
    "    if item=='':\n",
    "        return False\n",
    "\n",
    "    sbag.append(item)\n",
    "    print(f'장바구니에 {item}이(가) 담겼습니다.\\n')\n",
    "\n",
    "    return True\n",
    "\n",
    "def show(sbag):\n",
    "    print('\\n>>> 장바구니 보기: ', end='')\n",
    "    print(sbag)\n",
    "\n",
    "def save_data(sbag, filepath):\n",
    "    with open(filepath, 'w', encoding='utf8') as file:\n",
    "        for item in sbag:\n",
    "            file.write(f'{item}\\n')\n",
    "\n",
    "def load_data(filepath):\n",
    "    lines=[]\n",
    "    with open(filepath, 'r', encoding='utf8') as file:\n",
    "        for line in file:\n",
    "            lines.append(line.strip('\\n'))\n",
    "    return lines\n",
    "\n",
    "\n",
    "#주 프로그램부\n",
    "if os.path.exists(filename):\n",
    "    print('[파일 읽기]')\n",
    "    shopping_bag = load_data(filename)\n",
    "    show(shopping_bag)\n",
    "else:\n",
    "    shopping_bag = []\n",
    "\n",
    "while True:\n",
    "    if buy(shopping_bag) == False:\n",
    "        break\n",
    "\n",
    "show(shopping_bag)\n",
    "\n",
    "save_data(shopping_bag, filename)"
   ]
  },
  {
   "cell_type": "code",
   "execution_count": 44,
   "id": "8de97a94-94e6-4545-b672-840687575ebb",
   "metadata": {},
   "outputs": [
    {
     "name": "stdout",
     "output_type": "stream",
     "text": [
      "안녕하세요, 마지막으로 17:52에 실행되었습니다.\n",
      "지금은 17:59 입니다.\n"
     ]
    }
   ],
   "source": [
    "import os\n",
    "import pickle\n",
    "from datetime import datetime\n",
    "from ex_11_2 import Time\n",
    "\n",
    "filename='last.dat'\n",
    "\n",
    "#사용자 정의 함수부\n",
    "def get_current_time():\n",
    "    now=datetime.now()\n",
    "    return Time(now.hour, now.minute)\n",
    "\n",
    "def save_time(time):\n",
    "    with open(filename, 'wb') as file:\n",
    "        pickle.dump(time, file)\n",
    "\n",
    "def load_time():\n",
    "    with open(filename, 'rb') as file:\n",
    "        t=pickle.load(file)\n",
    "    return t\n",
    "\n",
    "#주 프로그램부\n",
    "if os.path.exists(filename):\n",
    "    t=load_time()\n",
    "    print(f'안녕하세요, 마지막으로 {t.toString()}에 실행되었습니다.')\n",
    "else:\n",
    "    print('안녕하세요, 처음 실행되었습니다.')\n",
    "\n",
    "t=get_current_time()\n",
    "print(f'지금은 {t.toString()} 입니다.')\n",
    "save_time(t)"
   ]
  },
  {
   "cell_type": "code",
   "execution_count": null,
   "id": "f0378d41-c02a-4ae1-95fe-778a7af37362",
   "metadata": {},
   "outputs": [],
   "source": []
  }
 ],
 "metadata": {
  "kernelspec": {
   "display_name": "Python 3 (ipykernel)",
   "language": "python",
   "name": "python3"
  },
  "language_info": {
   "codemirror_mode": {
    "name": "ipython",
    "version": 3
   },
   "file_extension": ".py",
   "mimetype": "text/x-python",
   "name": "python",
   "nbconvert_exporter": "python",
   "pygments_lexer": "ipython3",
   "version": "3.13.2"
  }
 },
 "nbformat": 4,
 "nbformat_minor": 5
}
