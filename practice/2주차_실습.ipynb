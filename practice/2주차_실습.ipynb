{
 "cells": [
  {
   "cell_type": "code",
   "execution_count": 1,
   "id": "02238aa6-a49c-45cd-82c9-32c9e05cc161",
   "metadata": {},
   "outputs": [
    {
     "name": "stdout",
     "output_type": "stream",
     "text": [
      "11\n"
     ]
    }
   ],
   "source": [
    "print(0b1010+1)"
   ]
  },
  {
   "cell_type": "code",
   "execution_count": 2,
   "id": "07c62387-f545-4634-912f-ab3e41224eb6",
   "metadata": {
    "scrolled": true
   },
   "outputs": [
    {
     "name": "stdout",
     "output_type": "stream",
     "text": [
      "16\n"
     ]
    }
   ],
   "source": [
    "print(0xF+1)"
   ]
  },
  {
   "cell_type": "code",
   "execution_count": 3,
   "id": "5b633fa7-5435-4e37-9c21-43607a6c5bf4",
   "metadata": {},
   "outputs": [
    {
     "name": "stdout",
     "output_type": "stream",
     "text": [
      "0\n"
     ]
    }
   ],
   "source": [
    "print(-1+1)"
   ]
  },
  {
   "cell_type": "code",
   "execution_count": 4,
   "id": "ff73c8e9-5299-4610-a51f-217e20ab8361",
   "metadata": {},
   "outputs": [
    {
     "name": "stdout",
     "output_type": "stream",
     "text": [
      "15.12345\n"
     ]
    }
   ],
   "source": [
    "print(15.+.12345)"
   ]
  },
  {
   "cell_type": "code",
   "execution_count": 5,
   "id": "84b7b65e-19fc-4bf5-bd5d-522a9e2ec615",
   "metadata": {},
   "outputs": [
    {
     "name": "stdout",
     "output_type": "stream",
     "text": [
      "1.0000314\n"
     ]
    }
   ],
   "source": [
    "print(3.14e-5+1)"
   ]
  },
  {
   "cell_type": "code",
   "execution_count": 6,
   "id": "739d9679-ae9a-46ab-a26f-79508428474f",
   "metadata": {},
   "outputs": [
    {
     "name": "stdout",
     "output_type": "stream",
     "text": [
      "(12+3j)\n"
     ]
    }
   ],
   "source": [
    "print(2+3j+10)"
   ]
  },
  {
   "cell_type": "code",
   "execution_count": 7,
   "id": "a106b6ce-6557-4ce3-adb5-06ac47d5b9e1",
   "metadata": {},
   "outputs": [
    {
     "name": "stdout",
     "output_type": "stream",
     "text": [
      "True\n"
     ]
    }
   ],
   "source": [
    "print(not False)"
   ]
  },
  {
   "cell_type": "code",
   "execution_count": 8,
   "id": "0638d683-470c-4cc2-afb4-5112534c782f",
   "metadata": {},
   "outputs": [
    {
     "name": "stdout",
     "output_type": "stream",
     "text": [
      "hello!\n"
     ]
    }
   ],
   "source": [
    "print('hello'+'!')"
   ]
  },
  {
   "cell_type": "code",
   "execution_count": 9,
   "id": "377bbdea-a807-4884-8248-ee667608b427",
   "metadata": {},
   "outputs": [
    {
     "name": "stdout",
     "output_type": "stream",
     "text": [
      "start\n",
      "\n",
      "end\n"
     ]
    }
   ],
   "source": [
    "print('start')\n",
    "print()\n",
    "print('end')"
   ]
  },
  {
   "cell_type": "code",
   "execution_count": 10,
   "id": "69dc266b-aa79-4519-b562-a4ea33607483",
   "metadata": {},
   "outputs": [
    {
     "name": "stdout",
     "output_type": "stream",
     "text": [
      "2 + 3 = 5\n"
     ]
    }
   ],
   "source": [
    "print(2,'+',3,'=',2+3)"
   ]
  },
  {
   "cell_type": "code",
   "execution_count": 11,
   "id": "f5d7a787-8a0a-43b0-8eb6-a45f73620dc0",
   "metadata": {},
   "outputs": [
    {
     "name": "stdout",
     "output_type": "stream",
     "text": [
      "\n",
      "Here is a list of the Python keywords.  Enter any keyword to get more help.\n",
      "\n",
      "False               class               from                or\n",
      "None                continue            global              pass\n",
      "True                def                 if                  raise\n",
      "and                 del                 import              return\n",
      "as                  elif                in                  try\n",
      "assert              else                is                  while\n",
      "async               except              lambda              with\n",
      "await               finally             nonlocal            yield\n",
      "break               for                 not                 \n",
      "\n"
     ]
    }
   ],
   "source": [
    "help('keywords')"
   ]
  },
  {
   "cell_type": "code",
   "execution_count": 12,
   "id": "8f27f26e-dde1-4acd-a242-1240c590bf79",
   "metadata": {},
   "outputs": [
    {
     "name": "stdout",
     "output_type": "stream",
     "text": [
      "시작\n",
      "hello world!\n",
      "good job!\n",
      "마침\n"
     ]
    }
   ],
   "source": [
    "#사용자 정의 함수부\n",
    "def show_message() : \n",
    "    print('hello world!')\n",
    "    print('good job!')\n",
    "\n",
    "#주 프로그램부\n",
    "print('시작')\n",
    "show_message()\n",
    "print('마침')"
   ]
  },
  {
   "cell_type": "code",
   "execution_count": 13,
   "id": "41463cc6-70d0-491d-9645-907715116366",
   "metadata": {},
   "outputs": [
    {
     "name": "stdout",
     "output_type": "stream",
     "text": [
      "9\n",
      "3\n"
     ]
    }
   ],
   "source": [
    "nStud, nProf = 9, 3\n",
    "print(nStud)\n",
    "print(nProf)"
   ]
  },
  {
   "cell_type": "code",
   "execution_count": 14,
   "id": "d698aaba-9861-4db1-b821-47bda2878bb2",
   "metadata": {},
   "outputs": [
    {
     "name": "stdout",
     "output_type": "stream",
     "text": [
      "1004\n"
     ]
    }
   ],
   "source": [
    "num=1004\n",
    "print(num)"
   ]
  },
  {
   "cell_type": "code",
   "execution_count": 15,
   "id": "836dc948-4def-4e33-b490-03907034eeb2",
   "metadata": {},
   "outputs": [],
   "source": [
    "num='천사'"
   ]
  },
  {
   "cell_type": "code",
   "execution_count": 16,
   "id": "8b0b8837-d096-4840-a52f-d689bd76a1c3",
   "metadata": {},
   "outputs": [
    {
     "name": "stdout",
     "output_type": "stream",
     "text": [
      "천사\n"
     ]
    }
   ],
   "source": [
    "print(num)"
   ]
  },
  {
   "cell_type": "code",
   "execution_count": 17,
   "id": "b26cac5b-463b-4f01-8630-f897a49542c3",
   "metadata": {},
   "outputs": [
    {
     "name": "stdout",
     "output_type": "stream",
     "text": [
      "1004\n",
      "<class 'int'>\n"
     ]
    }
   ],
   "source": [
    "num=1004\n",
    "print(num)\n",
    "print(type(num))"
   ]
  },
  {
   "cell_type": "code",
   "execution_count": 18,
   "id": "234e3c12-28c2-4942-9529-ae9129e607e5",
   "metadata": {},
   "outputs": [],
   "source": [
    "num='천사'"
   ]
  },
  {
   "cell_type": "code",
   "execution_count": 19,
   "id": "0e243942-3f8c-4df7-b18d-d193cdfce4fa",
   "metadata": {},
   "outputs": [
    {
     "name": "stdout",
     "output_type": "stream",
     "text": [
      "천사\n",
      "<class 'str'>\n"
     ]
    }
   ],
   "source": [
    "print(num)\n",
    "print(type(num))"
   ]
  },
  {
   "cell_type": "code",
   "execution_count": 20,
   "id": "1662fdf4-1377-4749-9d2e-02d48d252be0",
   "metadata": {},
   "outputs": [
    {
     "data": {
      "text/plain": [
       "140708165915368"
      ]
     },
     "execution_count": 20,
     "metadata": {},
     "output_type": "execute_result"
    }
   ],
   "source": [
    "id(123)"
   ]
  },
  {
   "cell_type": "code",
   "execution_count": 21,
   "id": "18afc7ee-2ea2-4b07-8951-8475dabd8cbc",
   "metadata": {},
   "outputs": [],
   "source": [
    "n=123"
   ]
  },
  {
   "cell_type": "code",
   "execution_count": 22,
   "id": "7dfdf9fe-fa7b-4587-9b0a-b52336d20056",
   "metadata": {},
   "outputs": [
    {
     "data": {
      "text/plain": [
       "140708165915368"
      ]
     },
     "execution_count": 22,
     "metadata": {},
     "output_type": "execute_result"
    }
   ],
   "source": [
    "id(n)"
   ]
  },
  {
   "cell_type": "code",
   "execution_count": 23,
   "id": "65c0b59a-20b5-4833-91c0-2735bf9625f8",
   "metadata": {},
   "outputs": [],
   "source": [
    "n='hi'"
   ]
  },
  {
   "cell_type": "code",
   "execution_count": 24,
   "id": "9a3cd72d-26cd-4d98-8815-0080ba2b033c",
   "metadata": {},
   "outputs": [
    {
     "data": {
      "text/plain": [
       "140708165955456"
      ]
     },
     "execution_count": 24,
     "metadata": {},
     "output_type": "execute_result"
    }
   ],
   "source": [
    "id(n)"
   ]
  },
  {
   "cell_type": "code",
   "execution_count": 25,
   "id": "845f40b3-d21d-4ea7-91b0-88dbb38545a7",
   "metadata": {},
   "outputs": [
    {
     "data": {
      "text/plain": [
       "140708165955456"
      ]
     },
     "execution_count": 25,
     "metadata": {},
     "output_type": "execute_result"
    }
   ],
   "source": [
    "id('hi')"
   ]
  },
  {
   "cell_type": "code",
   "execution_count": 26,
   "id": "c0084c15-6f28-49bd-a833-84c35ce0ef9c",
   "metadata": {},
   "outputs": [
    {
     "name": "stdout",
     "output_type": "stream",
     "text": [
      "시작\n",
      "hello 이찬수 님\n",
      "hello 홍길동 님\n",
      "마침\n"
     ]
    }
   ],
   "source": [
    "#사용자 정의 함수부\n",
    "def show_message(name) : \n",
    "    print('hello', name, '님')\n",
    "\n",
    "#주 프로그램부\n",
    "print('시작')\n",
    "show_message('이찬수')\n",
    "show_message('홍길동')\n",
    "print('마침')"
   ]
  },
  {
   "cell_type": "code",
   "execution_count": 27,
   "id": "e41574e6-2e49-4d16-adad-9dca3aa0b231",
   "metadata": {},
   "outputs": [
    {
     "name": "stdout",
     "output_type": "stream",
     "text": [
      "시작\n",
      "안녕 이찬수 님\n",
      "반가워 홍길동 님\n",
      "마침\n"
     ]
    }
   ],
   "source": [
    "#사용자 정의 함수부\n",
    "def show_message(msg, name) : \n",
    "    print(msg, name, '님') \n",
    "    \n",
    "#주 프로그램부\n",
    "print('시작')\n",
    "show_message('안녕', '이찬수')\n",
    "show_message('반가워', '홍길동')\n",
    "print('마침')"
   ]
  },
  {
   "cell_type": "code",
   "execution_count": 28,
   "id": "76984add-0660-4d85-a276-ac9c7ec801a7",
   "metadata": {},
   "outputs": [
    {
     "name": "stdout",
     "output_type": "stream",
     "text": [
      "시작\n",
      "안녕 이찬수 님\n",
      "안녕 이찬수 님\n",
      "마침\n"
     ]
    }
   ],
   "source": [
    "#사용자 정의 함수부\n",
    "def show_message(msg, name) : \n",
    "    print(msg, name, '님') \n",
    "    \n",
    "#주 프로그램부\n",
    "print('시작')\n",
    "show_message(msg='안녕', name='이찬수')\n",
    "show_message(name='이찬수', msg='안녕')\n",
    "print('마침')"
   ]
  },
  {
   "cell_type": "code",
   "execution_count": 29,
   "id": "40145070-0802-4a89-b7c1-c1823cbf5731",
   "metadata": {},
   "outputs": [
    {
     "name": "stdout",
     "output_type": "stream",
     "text": [
      "시작\n",
      "안녕 이찬수 님\n",
      "안녕 여러분 님\n",
      "안녕하세요 여러분 님\n",
      "안녕하세요 이찬수 님\n",
      "안녕 여러분 님\n",
      "마침\n"
     ]
    }
   ],
   "source": [
    "#사용자 정의 함수부\n",
    "def show_message(msg='안녕하세요', name='여러분') : \n",
    "    print(msg, name, '님') \n",
    "    \n",
    "#주 프로그램부\n",
    "print('시작')\n",
    "show_message(msg='안녕', name='이찬수')\n",
    "show_message('안녕')\n",
    "show_message()\n",
    "show_message(name='이찬수')\n",
    "show_message(msg='안녕')\n",
    "print('마침')"
   ]
  },
  {
   "cell_type": "code",
   "execution_count": 30,
   "id": "5c5dc1af-84c6-4a62-8a1f-201cdb3a9838",
   "metadata": {},
   "outputs": [
    {
     "name": "stdout",
     "output_type": "stream",
     "text": [
      "안녕 여러분\n",
      "안녕 여러분\n",
      "안녕,여러분\n",
      "안녕 여러분!끝\n"
     ]
    }
   ],
   "source": [
    "print('안녕', '여러분', sep=' ', end='\\n')\n",
    "print('안녕', '여러분')\n",
    "\n",
    "print('안녕', '여러분', sep=',')\n",
    "print('안녕', '여러분', end='!')\n",
    "print('끝')"
   ]
  },
  {
   "cell_type": "code",
   "execution_count": 31,
   "id": "df633bbc-0235-4596-980f-8782830b471e",
   "metadata": {},
   "outputs": [
    {
     "name": "stdout",
     "output_type": "stream",
     "text": [
      "시작\n",
      "hello\n",
      "good bye\n",
      "마침\n"
     ]
    }
   ],
   "source": [
    "#사용자 정의 함수부\n",
    "def show_message() : \n",
    "    print('hello')\n",
    "    return 'good bye'\n",
    "    \n",
    "#주 프로그램부\n",
    "print('시작')\n",
    "result = show_message()\n",
    "print(result)\n",
    "print('마침')"
   ]
  },
  {
   "cell_type": "code",
   "execution_count": 35,
   "id": "dcf64144-473c-4fbc-a951-2d833a29ce82",
   "metadata": {},
   "outputs": [
    {
     "name": "stdout",
     "output_type": "stream",
     "text": [
      "당신의 이름은?"
     ]
    },
    {
     "name": "stdin",
     "output_type": "stream",
     "text": [
      " 이찬수\n"
     ]
    },
    {
     "name": "stdout",
     "output_type": "stream",
     "text": [
      "반가워요 이찬수\n"
     ]
    }
   ],
   "source": [
    "print('당신의 이름은?', end='')\n",
    "name=input()\n",
    "print('반가워요', name)"
   ]
  },
  {
   "cell_type": "code",
   "execution_count": 36,
   "id": "e6c73ba2-015c-4f87-9dc2-35b282fea86f",
   "metadata": {},
   "outputs": [
    {
     "name": "stdin",
     "output_type": "stream",
     "text": [
      "당신의 이름은?  이찬수\n"
     ]
    },
    {
     "name": "stdout",
     "output_type": "stream",
     "text": [
      "반가워요 이찬수\n"
     ]
    }
   ],
   "source": [
    "name=input('당신의 이름은? ')\n",
    "print('반가워요', name)"
   ]
  },
  {
   "cell_type": "code",
   "execution_count": 40,
   "id": "b3ce5f7e-ba19-4658-b3e2-112461ce0fa3",
   "metadata": {},
   "outputs": [
    {
     "name": "stdout",
     "output_type": "stream",
     "text": [
      "시작\n"
     ]
    },
    {
     "name": "stdin",
     "output_type": "stream",
     "text": [
      "당신의 이름은? 이찬수\n"
     ]
    },
    {
     "name": "stdout",
     "output_type": "stream",
     "text": [
      "반가워요 이찬수\n",
      "마침\n"
     ]
    }
   ],
   "source": [
    "#사용자 정의 함수부\n",
    "def make_message() : \n",
    "    name=input('당신의 이름은?')\n",
    "    msg='반가워요 '+name\n",
    "    print(msg)\n",
    "\n",
    "#주 프로그램부\n",
    "print('시작')\n",
    "make_message()\n",
    "print('마침')  "
   ]
  },
  {
   "cell_type": "code",
   "execution_count": 41,
   "id": "6a3344d2-fde5-423e-98cb-6885b5d82731",
   "metadata": {},
   "outputs": [
    {
     "name": "stdout",
     "output_type": "stream",
     "text": [
      "시작\n"
     ]
    },
    {
     "name": "stdin",
     "output_type": "stream",
     "text": [
      "당신의 이름은?  이찬수\n"
     ]
    },
    {
     "name": "stdout",
     "output_type": "stream",
     "text": [
      "반가워요 이찬수\n",
      "마침\n"
     ]
    }
   ],
   "source": [
    "#사용자 정의 함수부\n",
    "def make_message(name) : \n",
    "    msg='반가워요 '+name\n",
    "    print(msg)\n",
    "\n",
    "#주 프로그램부\n",
    "print('시작')\n",
    "input_name=input('당신의 이름은? ')\n",
    "make_message(input_name)\n",
    "print('마침')  "
   ]
  },
  {
   "cell_type": "code",
   "execution_count": 42,
   "id": "cc5dcab5-f9a8-4c75-bb00-0cdacd1ad1c2",
   "metadata": {},
   "outputs": [
    {
     "name": "stdout",
     "output_type": "stream",
     "text": [
      "시작\n"
     ]
    },
    {
     "name": "stdin",
     "output_type": "stream",
     "text": [
      "당신의 이름은? 이찬수\n"
     ]
    },
    {
     "name": "stdout",
     "output_type": "stream",
     "text": [
      "반가워요 이찬수\n",
      "마침\n"
     ]
    }
   ],
   "source": [
    "#사용자 정의 함수부\n",
    "def make_message() : \n",
    "    name=input('당신의 이름은?')\n",
    "    msg='반가워요 '+name\n",
    "    return msg\n",
    "\n",
    "#주 프로그램부\n",
    "print('시작')\n",
    "result=make_message()\n",
    "print(result)\n",
    "print('마침')  "
   ]
  },
  {
   "cell_type": "code",
   "execution_count": 43,
   "id": "c29a690e-cda0-4e3b-b800-9c2e48a821d3",
   "metadata": {},
   "outputs": [
    {
     "name": "stdout",
     "output_type": "stream",
     "text": [
      "시작\n"
     ]
    },
    {
     "name": "stdin",
     "output_type": "stream",
     "text": [
      "당신의 이름은? 이찬수\n"
     ]
    },
    {
     "name": "stdout",
     "output_type": "stream",
     "text": [
      "만나게 되어 반가워요 이찬수\n",
      "반가워요 이찬수 좋은 인연 만들어가요\n"
     ]
    }
   ],
   "source": [
    "#사용자 정의 함수부\n",
    "def make_message() : \n",
    "    name=input('당신의 이름은?')\n",
    "    msg='반가워요 '+name\n",
    "    return msg\n",
    "\n",
    "#주 프로그램부\n",
    "print('시작')\n",
    "result=make_message()\n",
    "print('만나게 되어', result)\n",
    "print(result, '좋은 인연 만들어가요')"
   ]
  },
  {
   "cell_type": "code",
   "execution_count": 44,
   "id": "34e0ef67-fbee-4a64-ad31-593b935219e0",
   "metadata": {},
   "outputs": [
    {
     "name": "stdout",
     "output_type": "stream",
     "text": [
      "시작\n"
     ]
    },
    {
     "name": "stdin",
     "output_type": "stream",
     "text": [
      "당신의 이름은?  이찬수\n"
     ]
    },
    {
     "name": "stdout",
     "output_type": "stream",
     "text": [
      "반가워요 이찬수\n",
      "마침\n"
     ]
    }
   ],
   "source": [
    "#사용자 정의 함수부\n",
    "def make_message(name) : \n",
    "    msg='반가워요 '+name\n",
    "    return msg\n",
    "\n",
    "#주 프로그램부\n",
    "print('시작')\n",
    "input_name=input('당신의 이름은? ')\n",
    "result=make_message(input_name)\n",
    "print(result)\n",
    "print('마침')  "
   ]
  },
  {
   "cell_type": "code",
   "execution_count": null,
   "id": "b8d03939-aff2-4583-9bf1-f735e43f94ca",
   "metadata": {},
   "outputs": [],
   "source": []
  }
 ],
 "metadata": {
  "kernelspec": {
   "display_name": "Python 3 (ipykernel)",
   "language": "python",
   "name": "python3"
  },
  "language_info": {
   "codemirror_mode": {
    "name": "ipython",
    "version": 3
   },
   "file_extension": ".py",
   "mimetype": "text/x-python",
   "name": "python",
   "nbconvert_exporter": "python",
   "pygments_lexer": "ipython3",
   "version": "3.13.2"
  }
 },
 "nbformat": 4,
 "nbformat_minor": 5
}
