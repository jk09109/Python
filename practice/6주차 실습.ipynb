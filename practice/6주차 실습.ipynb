{
 "cells": [
  {
   "cell_type": "code",
   "execution_count": 2,
   "id": "e6181093-25c2-4a51-8593-b6f5f868a578",
   "metadata": {},
   "outputs": [
    {
     "name": "stdin",
     "output_type": "stream",
     "text": [
      "첫 번째 정수는?  1\n",
      "두 번째 정수는?  1\n"
     ]
    },
    {
     "name": "stdout",
     "output_type": "stream",
     "text": [
      "1 은/는 1 보다 큽니까? False\n",
      "1 은/는 1 보다 크거나 혹은 같습니까? True\n",
      "1 은/는 1 보다 작습니까? False\n",
      "1 은/는 1 보다 작거나 혹은 같습니까? True\n",
      "1 은/는 1 와/과 같습니까? True\n",
      "1 은/는 1 와/과 다릅니까? False\n"
     ]
    }
   ],
   "source": [
    "n1=int(input(\"첫 번째 정수는? \"))\n",
    "n2=int(input(\"두 번째 정수는? \"))\n",
    "\n",
    "print(f'{n1} 은/는 {n2} 보다 큽니까? {n1>n2}')\n",
    "print(f'{n1} 은/는 {n2} 보다 크거나 혹은 같습니까? {n1>=n2}')\n",
    "print(f'{n1} 은/는 {n2} 보다 작습니까? {n1<n2}')\n",
    "print(f'{n1} 은/는 {n2} 보다 작거나 혹은 같습니까? {n1<=n2}')\n",
    "print(f'{n1} 은/는 {n2} 와/과 같습니까? {n1==n2}')\n",
    "print(f'{n1} 은/는 {n2} 와/과 다릅니까? {n1!=n2}')"
   ]
  },
  {
   "cell_type": "code",
   "execution_count": 7,
   "id": "0443d7a3-8149-410b-87e2-a13cc1a325bb",
   "metadata": {},
   "outputs": [
    {
     "name": "stdin",
     "output_type": "stream",
     "text": [
      "당신의 나이는? 1000\n"
     ]
    },
    {
     "name": "stdout",
     "output_type": "stream",
     "text": [
      "1000은(는) 유효한 나이인가? False\n",
      "1000은(는) 유효한 나이가 아닌가? True\n",
      "1000은(는) 유효한 나이인가? False\n"
     ]
    }
   ],
   "source": [
    "age=int(input('당신의 나이는?'))\n",
    "\n",
    "res= age>=0 and age<=120\n",
    "print(f'{age}은(는) 유효한 나이인가? {res}')\n",
    "\n",
    "res= age<0 or age>120\n",
    "print(f'{age}은(는) 유효한 나이가 아닌가? {res}')\n",
    "print(f'{age}은(는) 유효한 나이인가? {not res}')"
   ]
  },
  {
   "cell_type": "code",
   "execution_count": 9,
   "id": "d70d810c-274f-4277-8f70-2a06bd36912c",
   "metadata": {},
   "outputs": [
    {
     "name": "stdin",
     "output_type": "stream",
     "text": [
      "첫 번째 정수는?  2\n",
      "두 번째 정수는?  3\n"
     ]
    },
    {
     "name": "stdout",
     "output_type": "stream",
     "text": [
      "끝\n"
     ]
    }
   ],
   "source": [
    "n1=int(input(\"첫 번째 정수는? \"))\n",
    "n2=int(input(\"두 번째 정수는? \"))\n",
    "\n",
    "if n1>n2 : print(f'{n1}은(는) {n2}보다 크다')\n",
    "\n",
    "if n1>n2 : \n",
    "    print(f'{n1}은(는) {n2}보다 크다')\n",
    "if n1>n2 :\n",
    "    print(f'{n1}은(는) {n2}보다', end=' ')\n",
    "    print('크다')\n",
    "\n",
    "print('끝')"
   ]
  },
  {
   "cell_type": "code",
   "execution_count": 10,
   "id": "ca792df1-446e-4a75-8caf-048acd7e2d55",
   "metadata": {},
   "outputs": [
    {
     "name": "stdin",
     "output_type": "stream",
     "text": [
      "첫 번째 정수는?  3\n",
      "두 번째 정수는?  2\n"
     ]
    },
    {
     "name": "stdout",
     "output_type": "stream",
     "text": [
      "3은(는) 2보다 크다\n",
      "끝\n"
     ]
    }
   ],
   "source": [
    "n1=int(input(\"첫 번째 정수는? \"))\n",
    "n2=int(input(\"두 번째 정수는? \"))\n",
    "\n",
    "if n1>n2 : \n",
    "    print(f'{n1}은(는) {n2}보다 크다')\n",
    "\n",
    "if n1<=n2:\n",
    "    print(f'{n1}은(는) {n2}보다 크지 않다.')\n",
    "\n",
    "print('끝')"
   ]
  },
  {
   "cell_type": "code",
   "execution_count": 13,
   "id": "7d1c01a3-d2f5-446a-9eba-3c0bce88f6f7",
   "metadata": {},
   "outputs": [
    {
     "name": "stdin",
     "output_type": "stream",
     "text": [
      "첫 번째 정수는?  2\n",
      "두 번째 정수는?  3\n"
     ]
    },
    {
     "name": "stdout",
     "output_type": "stream",
     "text": [
      "2은(는) 3보다 크지 않다.\n",
      "끝\n"
     ]
    }
   ],
   "source": [
    "n1=int(input(\"첫 번째 정수는? \"))\n",
    "n2=int(input(\"두 번째 정수는? \"))\n",
    "\n",
    "if n1>n2 : \n",
    "    print(f'{n1}은(는) {n2}보다 크다')\n",
    "\n",
    "else:\n",
    "    print(f'{n1}은(는) {n2}보다 크지 않다.')\n",
    "\n",
    "print('끝')"
   ]
  },
  {
   "cell_type": "code",
   "execution_count": 21,
   "id": "daf63a96-8bd7-4729-b852-063af66c1bda",
   "metadata": {},
   "outputs": [
    {
     "name": "stdin",
     "output_type": "stream",
     "text": [
      "정수를 입력하세요:  15\n"
     ]
    },
    {
     "name": "stdout",
     "output_type": "stream",
     "text": [
      "15은 홀수입니다\n"
     ]
    }
   ],
   "source": [
    "num=int(input('정수를 입력하세요: '))\n",
    "\n",
    "if num%2==0:\n",
    "    print(f'{num}은 짝수입니다')\n",
    "\n",
    "else :\n",
    "    print(f'{num}은 홀수입니다')\n",
    "\n",
    "    \n",
    "# print(f'{num}은/는', end=' ')\n",
    "# if num%2==0:\n",
    "#     print('짝수', end='')\n",
    "# else :\n",
    "#     print('홀수', end='')\n",
    "# print('입니다')"
   ]
  },
  {
   "cell_type": "code",
   "execution_count": 22,
   "id": "2a89b157-5963-4af7-97a2-7089dd196dfe",
   "metadata": {},
   "outputs": [
    {
     "name": "stdin",
     "output_type": "stream",
     "text": [
      "정수를 입력하세요:  15\n"
     ]
    },
    {
     "name": "stdout",
     "output_type": "stream",
     "text": [
      "15은/는 홀수입니다\n"
     ]
    }
   ],
   "source": [
    "def is_even_number(n):\n",
    "    if n%2==0:\n",
    "        return True\n",
    "    else :\n",
    "        return False\n",
    "\n",
    "num=int(input('정수를 입력하세요: '))\n",
    "\n",
    "print(f'{num}은/는', end=' ')\n",
    "if is_even_number(num):\n",
    "    print('짝수', end='')\n",
    "else :\n",
    "    print('홀수', end='')\n",
    "print('입니다')"
   ]
  },
  {
   "cell_type": "code",
   "execution_count": 25,
   "id": "447babcc-944f-47ee-8df2-ce6379840e3e",
   "metadata": {},
   "outputs": [
    {
     "name": "stdin",
     "output_type": "stream",
     "text": [
      "정수를 입력하세요:  -1\n"
     ]
    },
    {
     "name": "stdout",
     "output_type": "stream",
     "text": [
      "음수입니다.\n"
     ]
    }
   ],
   "source": [
    "num=int(input('정수를 입력하세요: '))\n",
    "\n",
    "if num==0 :\n",
    "    print('0', end='')\n",
    "else :\n",
    "    if num>0 :\n",
    "        print('양수', end='')\n",
    "    else :\n",
    "        print('음수', end='')\n",
    "\n",
    "print('입니다.')"
   ]
  },
  {
   "cell_type": "code",
   "execution_count": 27,
   "id": "84d6ceec-d040-4357-9dcb-0d1b3c35d256",
   "metadata": {},
   "outputs": [
    {
     "name": "stdin",
     "output_type": "stream",
     "text": [
      "점수는? 59\n"
     ]
    },
    {
     "name": "stdout",
     "output_type": "stream",
     "text": [
      "59점이므로 학점은 F입니다.\n"
     ]
    }
   ],
   "source": [
    "#사용자 정의 함수부\n",
    "def get_grade(s):\n",
    "    if s>=90:\n",
    "        return 'A'\n",
    "    elif s>=80:\n",
    "        return 'B'\n",
    "    elif s>=70:\n",
    "        return 'C'\n",
    "    elif s>=60:\n",
    "        return 'D'\n",
    "    else :\n",
    "        return 'F'\n",
    "\n",
    "\n",
    "#주프로그램부\n",
    "score=int(input('점수는?'))\n",
    "\n",
    "grade=get_grade(score)\n",
    "\n",
    "print(f'{score}점이므로 학점은 {grade}입니다.')"
   ]
  },
  {
   "cell_type": "code",
   "execution_count": 30,
   "id": "4aa60a17-7a86-4f3c-878c-dc7f8893112f",
   "metadata": {},
   "outputs": [
    {
     "name": "stdin",
     "output_type": "stream",
     "text": [
      "점수는? 59\n"
     ]
    },
    {
     "name": "stdout",
     "output_type": "stream",
     "text": [
      "59점이므로 학점은 F입니다.\n"
     ]
    }
   ],
   "source": [
    "#사용자 정의 함수부\n",
    "def get_grade(s):\n",
    "    if s>=90:\n",
    "        return 'A'\n",
    "    if s>=80:\n",
    "        return 'B'\n",
    "    if s>=70:\n",
    "        return 'C'\n",
    "    if s>=60:\n",
    "        return 'D'\n",
    "    else :\n",
    "        return 'F'\n",
    "\n",
    "\n",
    "#주프로그램부\n",
    "score=int(input('점수는?'))\n",
    "\n",
    "grade=get_grade(score)\n",
    "\n",
    "print(f'{score}점이므로 학점은 {grade}입니다.')\n",
    "\n",
    "#return을 사용하면 함수가 종료되기 때문에 이상 미만 조건없이 if를 여러개 적어도 오류가 나지 않음!!\n",
    "#print를 사용하는 경우면 elif를 사용해줘야함!"
   ]
  },
  {
   "cell_type": "code",
   "execution_count": 34,
   "id": "f3f3384e-bae5-4823-902f-a2fad43efbcc",
   "metadata": {},
   "outputs": [
    {
     "name": "stdin",
     "output_type": "stream",
     "text": [
      "윤년 여부를 확인할 연도는?  1900\n"
     ]
    },
    {
     "name": "stdout",
     "output_type": "stream",
     "text": [
      "1900년은 평년입니다.\n"
     ]
    }
   ],
   "source": [
    "#사용자 정의 함수부\n",
    "def is_leap_year(y):\n",
    "    if y%4==0 and y%100!=0:\n",
    "        return '윤년'\n",
    "    elif y%400==0:\n",
    "        return '윤년'\n",
    "    else:\n",
    "        return '평년'\n",
    "\n",
    "#주 프로그램부\n",
    "year=int(input('윤년 여부를 확인할 연도는? '))\n",
    "leap=is_leap_year(year)\n",
    "print(f'{year}년은 {leap}입니다.')"
   ]
  },
  {
   "cell_type": "code",
   "execution_count": 37,
   "id": "42b4d027-e3b8-414b-9a33-aee9626a67c7",
   "metadata": {},
   "outputs": [
    {
     "name": "stdin",
     "output_type": "stream",
     "text": [
      "윤년 여부를 확인할 연도는?  2000\n"
     ]
    },
    {
     "name": "stdout",
     "output_type": "stream",
     "text": [
      "2000년은 윤년입니다.\n"
     ]
    }
   ],
   "source": [
    "#사용자 정의 함수부\n",
    "def is_leap_year(y):\n",
    "    if (y%4==0 and y%100!=0) or(y%400==0):\n",
    "        return True\n",
    "    else:\n",
    "        return False\n",
    "\n",
    "#주 프로그램부\n",
    "year=int(input('윤년 여부를 확인할 연도는? '))\n",
    "\n",
    "print(f'{year}년은', end=' ')\n",
    "if is_leap_year(year):\n",
    "    print('윤년입니다.')\n",
    "else :\n",
    "    print('평년입니다.')"
   ]
  },
  {
   "cell_type": "code",
   "execution_count": 54,
   "id": "2eb48c6b-dcee-4955-a814-a95a5bcb471d",
   "metadata": {},
   "outputs": [
    {
     "name": "stdin",
     "output_type": "stream",
     "text": [
      "연도?  2021\n",
      "월?  2\n"
     ]
    },
    {
     "name": "stdout",
     "output_type": "stream",
     "text": [
      "2021년 2월은 28일까지 있습니다\n"
     ]
    }
   ],
   "source": [
    "#사용자 정의 함수부\n",
    "def is_leap_year(y):\n",
    "    if (y%4==0 and y%100!=0) or(y%400==0):\n",
    "        return True\n",
    "    else:\n",
    "        return False\n",
    "\n",
    "def month_days(y,m):\n",
    "    if m==2:\n",
    "        if is_leap_year(y):\n",
    "            return 29\n",
    "        else : \n",
    "            return 28\n",
    "    elif m==4 or m==6 or m==9 or m==11:\n",
    "        return 30\n",
    "    else :\n",
    "        return 31\n",
    "\n",
    "#주 프로그램부\n",
    "year=int(input('연도? '))\n",
    "month=int(input('월? '))\n",
    "\n",
    "day=month_days(year, month)\n",
    "\n",
    "print(f'{year}년 {month}월은 {day}일까지 있습니다')"
   ]
  },
  {
   "cell_type": "code",
   "execution_count": 65,
   "id": "9da557b6-da56-4f4a-9751-be231e58435b",
   "metadata": {},
   "outputs": [
    {
     "name": "stdin",
     "output_type": "stream",
     "text": [
      "나이? 202\n"
     ]
    },
    {
     "name": "stdout",
     "output_type": "stream",
     "text": [
      "오류: 유효하지 않은 나이가 입력되어 판별할 수 없습니다!\n"
     ]
    }
   ],
   "source": [
    "#사용자 정의 함수부\n",
    "def input_age(prompt):\n",
    "    a=int(input(prompt))\n",
    "    if a>=0 and a<=120:\n",
    "        return a\n",
    "    else :\n",
    "        return -1\n",
    "\n",
    "def is_adult(a):\n",
    "    if a>=19:\n",
    "        return True\n",
    "    else:\n",
    "        return False\n",
    "\n",
    "#주 프로그램부\n",
    "age=input_age('나이?')\n",
    "\n",
    "if age>=0:\n",
    "    if is_adult(age):\n",
    "        print('당신은 성인입니다.')\n",
    "    else :\n",
    "        print('당신은 성인이 아닙니다.')\n",
    "else:\n",
    "    print('오류: 유효하지 않은 나이가 입력되어 판별할 수 없습니다!')    "
   ]
  },
  {
   "cell_type": "code",
   "execution_count": 72,
   "id": "dda72b85-d9bd-4bc8-aa6b-5a4cfd57bb7f",
   "metadata": {},
   "outputs": [
    {
     "name": "stdin",
     "output_type": "stream",
     "text": [
      "한 문자 입력?  !\n"
     ]
    },
    {
     "name": "stdout",
     "output_type": "stream",
     "text": [
      "기타 문자를 입력했습니다.\n"
     ]
    }
   ],
   "source": [
    "#사용자 정의 함수부\n",
    "def find_char_type(m):\n",
    "    if m==' ':\n",
    "        return '공백'\n",
    "    elif (m>='a' and m<='z') or (m>='A' and m<='Z'):\n",
    "        return '알파벳'\n",
    "    elif m>='0' and m<='9':\n",
    "        return '숫자'\n",
    "    else :\n",
    "        return '기타'\n",
    "\n",
    "#주 프로그램부\n",
    "message=input('한 문자 입력? ')\n",
    "ctype=find_char_type(message)\n",
    "print(f'{ctype} 문자를 입력했습니다.')"
   ]
  },
  {
   "cell_type": "code",
   "execution_count": null,
   "id": "45e51cac-b03f-457c-b308-35ef3765774e",
   "metadata": {},
   "outputs": [],
   "source": []
  }
 ],
 "metadata": {
  "kernelspec": {
   "display_name": "Python 3 (ipykernel)",
   "language": "python",
   "name": "python3"
  },
  "language_info": {
   "codemirror_mode": {
    "name": "ipython",
    "version": 3
   },
   "file_extension": ".py",
   "mimetype": "text/x-python",
   "name": "python",
   "nbconvert_exporter": "python",
   "pygments_lexer": "ipython3",
   "version": "3.13.2"
  }
 },
 "nbformat": 4,
 "nbformat_minor": 5
}
