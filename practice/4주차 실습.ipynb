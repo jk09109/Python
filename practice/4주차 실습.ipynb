{
 "cells": [
  {
   "cell_type": "code",
   "execution_count": 1,
   "id": "fdd88050-c48a-427e-960a-e59e8474533a",
   "metadata": {},
   "outputs": [
    {
     "name": "stdout",
     "output_type": "stream",
     "text": [
      "안녕\n",
      "반가워\n",
      "안녕\n"
     ]
    }
   ],
   "source": [
    "#사용자 정의 함수부\n",
    "def first() :\n",
    "    msg='안녕'\n",
    "    print(msg)\n",
    "    second()\n",
    "    print(msg)\n",
    "\n",
    "def second() : \n",
    "    msg='반가워'\n",
    "    print(msg)\n",
    "\n",
    "#주 프로그램부\n",
    "first()"
   ]
  },
  {
   "cell_type": "code",
   "execution_count": 2,
   "id": "82e4a20a-6b4e-4356-9c18-2b7e6761c217",
   "metadata": {},
   "outputs": [
    {
     "name": "stdin",
     "output_type": "stream",
     "text": [
      "넓이를 구할 원의 반지름은? 10\n"
     ]
    },
    {
     "name": "stdout",
     "output_type": "stream",
     "text": [
      "314.0\n"
     ]
    }
   ],
   "source": [
    "#사용자 정의 함수부\n",
    "def get_circle_area(radius) :\n",
    "    result=3.14*radius**2\n",
    "    return result\n",
    "\n",
    "#주 프로그램부\n",
    "r=float(input('넓이를 구할 원의 반지름은?'))\n",
    "area=get_circle_area(r)\n",
    "print(area)"
   ]
  },
  {
   "cell_type": "code",
   "execution_count": 3,
   "id": "9aa28fce-07fc-4b74-8618-30069d459312",
   "metadata": {},
   "outputs": [
    {
     "name": "stdin",
     "output_type": "stream",
     "text": [
      "넓이를 구할 원의 반지름은? 10\n"
     ]
    },
    {
     "name": "stdout",
     "output_type": "stream",
     "text": [
      "314.0\n"
     ]
    }
   ],
   "source": [
    "#사용자 정의 함수부\n",
    "def get_circle_area() :\n",
    "    result=3.14*r**2\n",
    "    return result\n",
    "\n",
    "#주 프로그램부\n",
    "r=float(input('넓이를 구할 원의 반지름은?'))\n",
    "area=get_circle_area()\n",
    "print(area)"
   ]
  },
  {
   "cell_type": "code",
   "execution_count": 4,
   "id": "41e1bacc-8cbe-4e46-b0f8-fae4815ec438",
   "metadata": {},
   "outputs": [
    {
     "name": "stdin",
     "output_type": "stream",
     "text": [
      "넓이를 구할 원의 반지름은? 10\n"
     ]
    },
    {
     "name": "stdout",
     "output_type": "stream",
     "text": [
      "314.0\n"
     ]
    }
   ],
   "source": [
    "#사용자 정의 함수부\n",
    "def get_circle_area(radius) :\n",
    "    global area\n",
    "    area=3.14*radius**2\n",
    "    \n",
    "#주 프로그램부\n",
    "r=float(input('넓이를 구할 원의 반지름은?'))\n",
    "area=0\n",
    "get_circle_area(r)\n",
    "print(area)"
   ]
  },
  {
   "cell_type": "code",
   "execution_count": 5,
   "id": "d4f34a8b-5171-4d86-a54a-5af430a27d44",
   "metadata": {},
   "outputs": [
    {
     "name": "stdin",
     "output_type": "stream",
     "text": [
      "넓이를 구할 원의 반지름은? 10\n"
     ]
    },
    {
     "name": "stdout",
     "output_type": "stream",
     "text": [
      "0\n"
     ]
    }
   ],
   "source": [
    "#사용자 정의 함수부\n",
    "def get_circle_area(radius) :\n",
    "    #global area  -- gloabal 선언하지 않고 area를 쓴다면?\n",
    "    area=3.14*radius**2\n",
    "    \n",
    "#주 프로그램부\n",
    "r=float(input('넓이를 구할 원의 반지름은?'))\n",
    "area=0\n",
    "get_circle_area(r)\n",
    "print(area)"
   ]
  },
  {
   "cell_type": "code",
   "execution_count": 6,
   "id": "870ab461-ad23-4574-9e5c-19402295921a",
   "metadata": {},
   "outputs": [
    {
     "name": "stdin",
     "output_type": "stream",
     "text": [
      "넓이를 구할 원의 반지름은? 10\n"
     ]
    },
    {
     "name": "stdout",
     "output_type": "stream",
     "text": [
      "314.0\n"
     ]
    }
   ],
   "source": [
    "#사용자 정의 함수부\n",
    "def get_circle_area(radius) :  #radius는 지역변수\n",
    "    area=3.14*radius**2        #area는 지역변수\n",
    "    return area\n",
    "    \n",
    "#주 프로그램부\n",
    "radius=float(input('넓이를 구할 원의 반지름은?'))\n",
    "area=get_circle_area(radius)\n",
    "print(area)"
   ]
  },
  {
   "cell_type": "code",
   "execution_count": 10,
   "id": "9d934ee2-2c03-4288-a757-85ef14ac0e01",
   "metadata": {},
   "outputs": [],
   "source": [
    "#calc_area.py\n",
    "#도형의 넓이를 구하는 모듈\n",
    "#실습시간에 한거라서 써놓긴 했지만 얘는 파일로 따로 저장돼있어야함\n",
    "\n",
    "def get_circle_area(radius) :\n",
    "    result = 3.14*radius**2\n",
    "    return result\n",
    "\n",
    "def get_rect_area(width, height) :\n",
    "    result=width*height\n",
    "    return result"
   ]
  },
  {
   "cell_type": "code",
   "execution_count": 12,
   "id": "9a1e11c8-0ee5-4760-a4e1-309755f754db",
   "metadata": {},
   "outputs": [
    {
     "name": "stdout",
     "output_type": "stream",
     "text": [
      "314.0\n"
     ]
    }
   ],
   "source": [
    "import calc_area\n",
    "area=calc_area.get_circle_area(10)\n",
    "print(area)"
   ]
  },
  {
   "cell_type": "code",
   "execution_count": 13,
   "id": "ef0f8c37-2bf1-4be0-afa6-93cb07651b34",
   "metadata": {},
   "outputs": [
    {
     "name": "stdout",
     "output_type": "stream",
     "text": [
      "200\n"
     ]
    }
   ],
   "source": [
    "area=calc_area.get_rect_area(10,20)\n",
    "print(area)"
   ]
  },
  {
   "cell_type": "code",
   "execution_count": 14,
   "id": "a54010ea-4a45-4989-86ae-db2de3381ba6",
   "metadata": {},
   "outputs": [
    {
     "name": "stdout",
     "output_type": "stream",
     "text": [
      "314.0\n",
      "200\n"
     ]
    }
   ],
   "source": [
    "import calc_area as ca\n",
    "\n",
    "area=ca.get_circle_area(10)\n",
    "print(area)\n",
    "\n",
    "area=ca.get_rect_area(10,20)\n",
    "print(area)"
   ]
  },
  {
   "cell_type": "code",
   "execution_count": 15,
   "id": "58127255-1c89-49b8-b683-d9b755125f9d",
   "metadata": {},
   "outputs": [
    {
     "name": "stdout",
     "output_type": "stream",
     "text": [
      "314.0\n",
      "200\n"
     ]
    }
   ],
   "source": [
    "from calc_area import get_circle_area\n",
    "from calc_area import get_rect_area\n",
    "\n",
    "#주 프로그램부\n",
    "area=get_circle_area(10)\n",
    "print(area)\n",
    "\n",
    "area=get_rect_area(10,20)\n",
    "print(area)"
   ]
  },
  {
   "cell_type": "code",
   "execution_count": 16,
   "id": "4015025d-659a-49e9-867b-f26211b1dac3",
   "metadata": {},
   "outputs": [
    {
     "name": "stdout",
     "output_type": "stream",
     "text": [
      "314.0\n",
      "200\n"
     ]
    }
   ],
   "source": [
    "def get_circle_area(r):\n",
    "    print('반지름', r, '인 원의 넓이를 계산합니다')\n",
    "\n",
    "from calc_area import *\n",
    "\n",
    "#주 프로그램부\n",
    "area=get_circle_area(10)\n",
    "print(area)\n",
    "\n",
    "area=get_rect_area(10,20)\n",
    "print(area)"
   ]
  },
  {
   "cell_type": "code",
   "execution_count": 17,
   "id": "b7fd17a5-a36a-4f27-a6f6-d957ebe00104",
   "metadata": {},
   "outputs": [
    {
     "name": "stdout",
     "output_type": "stream",
     "text": [
      "반지름 10 인 원의 넓이를 계산합니다\n",
      "None\n",
      "200\n"
     ]
    }
   ],
   "source": [
    "from calc_area import *\n",
    "\n",
    "def get_circle_area(r):\n",
    "    print('반지름', r, '인 원의 넓이를 계산합니다')\n",
    "\n",
    "#주 프로그램부\n",
    "area=get_circle_area(10)\n",
    "print(area)\n",
    "\n",
    "area=get_rect_area(10,20)\n",
    "print(area)"
   ]
  },
  {
   "cell_type": "code",
   "execution_count": 18,
   "id": "c833f438-bd96-4412-8842-a9df0e682af6",
   "metadata": {},
   "outputs": [
    {
     "name": "stdout",
     "output_type": "stream",
     "text": [
      "314.0\n",
      "200\n"
     ]
    }
   ],
   "source": [
    "from calc_area import get_circle_area as getCA\n",
    "from calc_area import get_rect_area as getRA\n",
    "\n",
    "#주 프로그램부\n",
    "area=getCA(10)\n",
    "print(area)\n",
    "\n",
    "area=getRA(10,20)\n",
    "print(area)"
   ]
  },
  {
   "cell_type": "code",
   "execution_count": 19,
   "id": "c71cb8f2-62da-4d73-a908-b19244d8fc6c",
   "metadata": {},
   "outputs": [
    {
     "data": {
      "text/plain": [
       "['In',\n",
       " 'Out',\n",
       " '_',\n",
       " '_11',\n",
       " '_9',\n",
       " '__',\n",
       " '___',\n",
       " '__builtin__',\n",
       " '__builtins__',\n",
       " '__doc__',\n",
       " '__loader__',\n",
       " '__name__',\n",
       " '__package__',\n",
       " '__session__',\n",
       " '__spec__',\n",
       " '_dh',\n",
       " '_i',\n",
       " '_i1',\n",
       " '_i10',\n",
       " '_i11',\n",
       " '_i12',\n",
       " '_i13',\n",
       " '_i14',\n",
       " '_i15',\n",
       " '_i16',\n",
       " '_i17',\n",
       " '_i18',\n",
       " '_i19',\n",
       " '_i2',\n",
       " '_i3',\n",
       " '_i4',\n",
       " '_i5',\n",
       " '_i6',\n",
       " '_i7',\n",
       " '_i8',\n",
       " '_i9',\n",
       " '_ih',\n",
       " '_ii',\n",
       " '_iii',\n",
       " '_oh',\n",
       " 'area',\n",
       " 'ca',\n",
       " 'calc_area',\n",
       " 'exit',\n",
       " 'first',\n",
       " 'getCA',\n",
       " 'getRA',\n",
       " 'get_circle_area',\n",
       " 'get_ipython',\n",
       " 'get_rect_area',\n",
       " 'open',\n",
       " 'quit',\n",
       " 'r',\n",
       " 'radius',\n",
       " 'second']"
      ]
     },
     "execution_count": 19,
     "metadata": {},
     "output_type": "execute_result"
    }
   ],
   "source": [
    "dir()"
   ]
  },
  {
   "cell_type": "code",
   "execution_count": 20,
   "id": "f6352d81-6d67-4972-9d61-48adf1d81923",
   "metadata": {},
   "outputs": [
    {
     "data": {
      "text/plain": [
       "['ArithmeticError',\n",
       " 'AssertionError',\n",
       " 'AttributeError',\n",
       " 'BaseException',\n",
       " 'BaseExceptionGroup',\n",
       " 'BlockingIOError',\n",
       " 'BrokenPipeError',\n",
       " 'BufferError',\n",
       " 'BytesWarning',\n",
       " 'ChildProcessError',\n",
       " 'ConnectionAbortedError',\n",
       " 'ConnectionError',\n",
       " 'ConnectionRefusedError',\n",
       " 'ConnectionResetError',\n",
       " 'DeprecationWarning',\n",
       " 'EOFError',\n",
       " 'Ellipsis',\n",
       " 'EncodingWarning',\n",
       " 'EnvironmentError',\n",
       " 'Exception',\n",
       " 'ExceptionGroup',\n",
       " 'False',\n",
       " 'FileExistsError',\n",
       " 'FileNotFoundError',\n",
       " 'FloatingPointError',\n",
       " 'FutureWarning',\n",
       " 'GeneratorExit',\n",
       " 'IOError',\n",
       " 'ImportError',\n",
       " 'ImportWarning',\n",
       " 'IndentationError',\n",
       " 'IndexError',\n",
       " 'InterruptedError',\n",
       " 'IsADirectoryError',\n",
       " 'KeyError',\n",
       " 'KeyboardInterrupt',\n",
       " 'LookupError',\n",
       " 'MemoryError',\n",
       " 'ModuleNotFoundError',\n",
       " 'NameError',\n",
       " 'None',\n",
       " 'NotADirectoryError',\n",
       " 'NotImplemented',\n",
       " 'NotImplementedError',\n",
       " 'OSError',\n",
       " 'OverflowError',\n",
       " 'PendingDeprecationWarning',\n",
       " 'PermissionError',\n",
       " 'ProcessLookupError',\n",
       " 'PythonFinalizationError',\n",
       " 'RecursionError',\n",
       " 'ReferenceError',\n",
       " 'ResourceWarning',\n",
       " 'RuntimeError',\n",
       " 'RuntimeWarning',\n",
       " 'StopAsyncIteration',\n",
       " 'StopIteration',\n",
       " 'SyntaxError',\n",
       " 'SyntaxWarning',\n",
       " 'SystemError',\n",
       " 'SystemExit',\n",
       " 'TabError',\n",
       " 'TimeoutError',\n",
       " 'True',\n",
       " 'TypeError',\n",
       " 'UnboundLocalError',\n",
       " 'UnicodeDecodeError',\n",
       " 'UnicodeEncodeError',\n",
       " 'UnicodeError',\n",
       " 'UnicodeTranslateError',\n",
       " 'UnicodeWarning',\n",
       " 'UserWarning',\n",
       " 'ValueError',\n",
       " 'Warning',\n",
       " 'WindowsError',\n",
       " 'ZeroDivisionError',\n",
       " '_IncompleteInputError',\n",
       " '__IPYTHON__',\n",
       " '__build_class__',\n",
       " '__debug__',\n",
       " '__doc__',\n",
       " '__import__',\n",
       " '__loader__',\n",
       " '__name__',\n",
       " '__package__',\n",
       " '__spec__',\n",
       " 'abs',\n",
       " 'aiter',\n",
       " 'all',\n",
       " 'anext',\n",
       " 'any',\n",
       " 'ascii',\n",
       " 'bin',\n",
       " 'bool',\n",
       " 'breakpoint',\n",
       " 'bytearray',\n",
       " 'bytes',\n",
       " 'callable',\n",
       " 'chr',\n",
       " 'classmethod',\n",
       " 'compile',\n",
       " 'complex',\n",
       " 'copyright',\n",
       " 'credits',\n",
       " 'delattr',\n",
       " 'dict',\n",
       " 'dir',\n",
       " 'display',\n",
       " 'divmod',\n",
       " 'enumerate',\n",
       " 'eval',\n",
       " 'exec',\n",
       " 'execfile',\n",
       " 'filter',\n",
       " 'float',\n",
       " 'format',\n",
       " 'frozenset',\n",
       " 'get_ipython',\n",
       " 'getattr',\n",
       " 'globals',\n",
       " 'hasattr',\n",
       " 'hash',\n",
       " 'help',\n",
       " 'hex',\n",
       " 'id',\n",
       " 'input',\n",
       " 'int',\n",
       " 'isinstance',\n",
       " 'issubclass',\n",
       " 'iter',\n",
       " 'len',\n",
       " 'license',\n",
       " 'list',\n",
       " 'locals',\n",
       " 'map',\n",
       " 'max',\n",
       " 'memoryview',\n",
       " 'min',\n",
       " 'next',\n",
       " 'object',\n",
       " 'oct',\n",
       " 'open',\n",
       " 'ord',\n",
       " 'pow',\n",
       " 'print',\n",
       " 'property',\n",
       " 'range',\n",
       " 'repr',\n",
       " 'reversed',\n",
       " 'round',\n",
       " 'runfile',\n",
       " 'set',\n",
       " 'setattr',\n",
       " 'slice',\n",
       " 'sorted',\n",
       " 'staticmethod',\n",
       " 'str',\n",
       " 'sum',\n",
       " 'super',\n",
       " 'tuple',\n",
       " 'type',\n",
       " 'vars',\n",
       " 'zip']"
      ]
     },
     "execution_count": 20,
     "metadata": {},
     "output_type": "execute_result"
    }
   ],
   "source": [
    "import builtins\n",
    "dir(builtins)"
   ]
  },
  {
   "cell_type": "code",
   "execution_count": 21,
   "id": "b261d7e4-651c-4b01-a924-97f3d078118d",
   "metadata": {},
   "outputs": [
    {
     "name": "stdout",
     "output_type": "stream",
     "text": [
      "\n",
      "Please wait a moment while I gather a list of all available modules...\n",
      "\n",
      "test_sqlite3: testing with SQLite version 3.45.3\n",
      "2주차 과제_202111042 박준범 asttokens           jupyterlab_widgets  string\n",
      "IPython             async_lru           keyword             stringprep\n",
      "__future__          asyncio             linecache           struct\n",
      "__hello__           atexit              locale              subprocess\n",
      "__phello__          attr                logging             symtable\n",
      "_abc                attrs               lzma                sys\n",
      "_aix_support        autocommand         mailbox             sysconfig\n",
      "_android_support    babel               markupsafe          tabnanny\n",
      "_apple_support      backports           marshal             tarfile\n",
      "_argon2_cffi_bindings base64              math                tempfile\n",
      "_ast                bdb                 matplotlib_inline   terminado\n",
      "_asyncio            binascii            mimetypes           test\n",
      "_bisect             bisect              mistune             textwrap\n",
      "_blake2             bleach              mmap                this\n",
      "_bz2                bs4                 mmapfile            threading\n",
      "_cffi_backend       builtins            mmsystem            time\n",
      "_codecs             bz2                 modulefinder        timeit\n",
      "_codecs_cn          cProfile            more_itertools      timer\n",
      "_codecs_hk          calc_area           msvcrt              tinycss2\n",
      "_codecs_iso2022     calendar            multiprocessing     tkinter\n",
      "_codecs_jp          certifi             nbclient            token\n",
      "_codecs_kr          cffi                nbconvert           tokenize\n",
      "_codecs_tw          charset_normalizer  nbformat            tomli\n",
      "_collections        cmath               nest_asyncio        tomllib\n",
      "_collections_abc    cmd                 netbios             tornado\n",
      "_colorize           code                netrc               trace\n",
      "_compat_pickle      codecs              notebook            traceback\n",
      "_compression        codeop              notebook_shim       tracemalloc\n",
      "_contextvars        collections         nt                  traitlets\n",
      "_csv                colorama            ntpath              tty\n",
      "_ctypes             colorsys            ntsecuritycon       turtle\n",
      "_ctypes_test        comm                nturl2path          turtledemo\n",
      "_datetime           commctrl            numbers             typeguard\n",
      "_decimal            compileall          odbc                types\n",
      "_distutils_hack     concurrent          opcode              typing\n",
      "_elementtree        configparser        operator            typing_extensions\n",
      "_functools          contextlib          optparse            unicodedata\n",
      "_hashlib            contextvars         os                  unittest\n",
      "_heapq              copy                overrides           uri_template\n",
      "_imp                copyreg             packaging           urllib\n",
      "_interpchannels     csv                 pandocfilters       urllib3\n",
      "_interpqueues       ctypes              parso               uuid\n",
      "_interpreters       curses              pathlib             venv\n",
      "_io                 dataclasses         pdb                 warnings\n",
      "_ios_support        datetime            perfmon             wave\n",
      "_json               dateutil            pickle              wcwidth\n",
      "_locale             dbm                 pickletools         weakref\n",
      "_lsprof             dde                 pip                 webbrowser\n",
      "_lzma               debugpy             pkg_resources       webcolors\n",
      "_markupbase         decimal             pkgutil             webencodings\n",
      "_md5                decorator           platform            websocket\n",
      "_multibytecodec     defusedxml          platformdirs        wheel\n",
      "_multiprocessing    difflib             plistlib            widgetsnbextension\n",
      "_opcode             dis                 poplib              win2kras\n",
      "_opcode_metadata    doctest             posixpath           win32api\n",
      "_operator           email               pprint              win32clipboard\n",
      "_osx_support        encodings           profile             win32com\n",
      "_overlapped         ensurepip           prometheus_client   win32con\n",
      "_pickle             enum                prompt_toolkit      win32console\n",
      "_py_abc             errno               pstats              win32cred\n",
      "_pydatetime         executing           psutil              win32crypt\n",
      "_pydecimal          fastjsonschema      pty                 win32cryptcon\n",
      "_pyio               faulthandler        pure_eval           win32event\n",
      "_pylong             filecmp             py_compile          win32evtlog\n",
      "_pyrepl             fileinput           pyclbr              win32evtlogutil\n",
      "_queue              fnmatch             pycparser           win32file\n",
      "_random             fqdn                pydoc               win32gui\n",
      "_sha1               fractions           pydoc_data          win32gui_struct\n",
      "_sha2               ftplib              pyexpat             win32help\n",
      "_sha3               functools           pygments            win32inet\n",
      "_signal             gc                  pythoncom           win32inetcon\n",
      "_sitebuiltins       genericpath         pythonjsonlogger    win32job\n",
      "_socket             getopt              pywin               win32lz\n",
      "_sqlite3            getpass             pywin32_bootstrap   win32net\n",
      "_sre                gettext             pywin32_testutil    win32netcon\n",
      "_ssl                glob                pywintypes          win32pdh\n",
      "_stat               graphlib            queue               win32pdhquery\n",
      "_statistics         gzip                quopri              win32pdhutil\n",
      "_string             h11                 random              win32pipe\n",
      "_strptime           hashlib             rasutil             win32print\n",
      "_struct             heapq               re                  win32process\n",
      "_symtable           hmac                referencing         win32profile\n",
      "_sysconfig          html                regcheck            win32ras\n",
      "_testbuffer         http                regutil             win32rcparser\n",
      "_testcapi           httpcore            reprlib             win32security\n",
      "_testclinic         httpx               requests            win32service\n",
      "_testclinic_limited idlelib             rfc3339_validator   win32serviceutil\n",
      "_testconsole        idna                rfc3986_validator   win32timezone\n",
      "_testimportmultiple imaplib             rlcompleter         win32trace\n",
      "_testinternalcapi   importlib           rpds                win32traceutil\n",
      "_testlimitedcapi    importlib_metadata  runpy               win32transaction\n",
      "_testmultiphase     inflect             sched               win32ts\n",
      "_testsinglephase    inspect             secrets             win32ui\n",
      "_thread             io                  select              win32uiole\n",
      "_threading_local    ipaddress           selectors           win32verstamp\n",
      "_tkinter            ipykernel           send2trash          win32wnet\n",
      "_tokenize           ipykernel_launcher  servicemanager      winerror\n",
      "_tracemalloc        ipython_pygments_lexers setuptools          winioctlcon\n",
      "_typing             ipywidgets          shelve              winnt\n",
      "_uuid               isapi               shlex               winperf\n",
      "_warnings           isoduration         shutil              winpty\n",
      "_weakref            itertools           signal              winreg\n",
      "_weakrefset         jedi                site                winsound\n",
      "_win32sysloader     jinja2              six                 winxpgui\n",
      "_win32verstamp_pywin32ctypes json                smtplib             winxptheme\n",
      "_winapi             json5               sniffio             wsgiref\n",
      "_winxptheme         jsonpointer         socket              xml\n",
      "_wmi                jsonschema          socketserver        xmlrpc\n",
      "_yaml               jsonschema_specifications soupsieve           xxsubtype\n",
      "_zoneinfo           jupyter             sqlite3             yaml\n",
      "abc                 jupyter_client      sre_compile         zipapp\n",
      "adodbapi            jupyter_console     sre_constants       zipfile\n",
      "afxres              jupyter_core        sre_parse           zipimport\n",
      "antigravity         jupyter_events      ssl                 zipp\n",
      "anyio               jupyter_lsp         sspi                zlib\n",
      "argon2              jupyter_server      sspicon             zmq\n",
      "argparse            jupyter_server_terminals stack_data          zoneinfo\n",
      "array               jupyterlab          start_pythonwin     \n",
      "arrow               jupyterlab_pygments stat                \n",
      "ast                 jupyterlab_server   statistics          \n",
      "\n",
      "Enter any module name to get more help.  Or, type \"modules spam\" to search\n",
      "for modules whose name or summary contain the string \"spam\".\n",
      "\n"
     ]
    }
   ],
   "source": [
    "help('modules')"
   ]
  },
  {
   "cell_type": "code",
   "execution_count": 22,
   "id": "632ea8ab-5637-4c2d-883b-cb8ee979d482",
   "metadata": {},
   "outputs": [
    {
     "name": "stdout",
     "output_type": "stream",
     "text": [
      "4\n",
      "2\n",
      "4\n",
      "6\n",
      "1\n"
     ]
    }
   ],
   "source": [
    "from random import randint\n",
    "\n",
    "#사용자 정의 함수부\n",
    "def roll_dice():\n",
    "    return randint(1,6)\n",
    "\n",
    "def main():\n",
    "    print(roll_dice())\n",
    "    print(roll_dice())\n",
    "    print(roll_dice())\n",
    "    print(roll_dice())\n",
    "    print(roll_dice())\n",
    "\n",
    "#주 프로그램부\n",
    "if __name__ == '__main__':\n",
    "    main()"
   ]
  },
  {
   "cell_type": "code",
   "execution_count": 1,
   "id": "00b670a7-cf7c-4845-89a1-ac199303b3ee",
   "metadata": {},
   "outputs": [
    {
     "name": "stdout",
     "output_type": "stream",
     "text": [
      "###환율 변환 모듈 테스트###\n",
      "오늘의 환율 1010\n",
      "2020원= 2.0 달러\n",
      "2달러= 2020 원\n"
     ]
    }
   ],
   "source": [
    "exchange_rate=0\n",
    "\n",
    "def set_rate(rate):\n",
    "    global exchange_rate\n",
    "    exchange_rate=rate\n",
    "def get_rate():\n",
    "    return exchange_rate\n",
    "def to_dollar(won):\n",
    "    return won/exchange_rate\n",
    "def to_won(dollar):\n",
    "    return dollar*exchange_rate\n",
    "\n",
    "def main():\n",
    "    print(\"###환율 변환 모듈 테스트###\")\n",
    "\n",
    "    set_rate(1010)\n",
    "\n",
    "    print(\"오늘의 환율\", get_rate())\n",
    "    print(\"2020원=\", to_dollar(2020), \"달러\")\n",
    "    print(\"2달러=\", to_won(2), \"원\")\n",
    "\n",
    "if __name__=='__main__':\n",
    "    main()"
   ]
  },
  {
   "cell_type": "code",
   "execution_count": null,
   "id": "dc08cbb8-0eb4-49fd-9567-19686c3a5e76",
   "metadata": {},
   "outputs": [],
   "source": []
  }
 ],
 "metadata": {
  "kernelspec": {
   "display_name": "Python 3 (ipykernel)",
   "language": "python",
   "name": "python3"
  },
  "language_info": {
   "codemirror_mode": {
    "name": "ipython",
    "version": 3
   },
   "file_extension": ".py",
   "mimetype": "text/x-python",
   "name": "python",
   "nbconvert_exporter": "python",
   "pygments_lexer": "ipython3",
   "version": "3.13.2"
  }
 },
 "nbformat": 4,
 "nbformat_minor": 5
}
