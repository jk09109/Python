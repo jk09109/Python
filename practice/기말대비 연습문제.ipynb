{
 "cells": [
  {
   "cell_type": "code",
   "execution_count": 6,
   "id": "9a334f22-440e-41f6-a659-d061f57d2bb5",
   "metadata": {},
   "outputs": [
    {
     "name": "stdout",
     "output_type": "stream",
     "text": [
      "[점수 입력]\n"
     ]
    },
    {
     "name": "stdin",
     "output_type": "stream",
     "text": [
      "#1? 90\n",
      "#2? 85\n",
      "#3? 100\n"
     ]
    },
    {
     "name": "stdout",
     "output_type": "stream",
     "text": [
      "\n",
      "[점수 출력]\n",
      "입력 점수: 90 85 100\n",
      "평균:91.7\n"
     ]
    }
   ],
   "source": [
    "#연습문제 9.1\n",
    "scores=[]\n",
    "\n",
    "print('[점수 입력]')\n",
    "for i in range(3):\n",
    "    s=int(input(f'#{i+1}?'))\n",
    "    scores.append(s)\n",
    "\n",
    "avg=(scores[0]+scores[1]+scores[2]) / 3\n",
    "\n",
    "print('\\n[점수 출력]')\n",
    "print(f'입력 점수: {scores[0]} {scores[1]} {scores[2]}')\n",
    "print(f'평균:{avg:.1f}')"
   ]
  },
  {
   "cell_type": "code",
   "execution_count": 9,
   "id": "3c8f52c4-0e77-4e3a-997d-d2607f3df428",
   "metadata": {},
   "outputs": [
    {
     "name": "stdout",
     "output_type": "stream",
     "text": [
      "[점수 입력]\n"
     ]
    },
    {
     "name": "stdin",
     "output_type": "stream",
     "text": [
      "#1? 88\n",
      "#2? 24\n",
      "#3? 55\n"
     ]
    },
    {
     "name": "stdout",
     "output_type": "stream",
     "text": [
      "\n",
      "[점수 출력]\n",
      "입력 점수: 88 24 55\n",
      "평균:55.7\n",
      "\n",
      "[검색]\n"
     ]
    },
    {
     "name": "stdin",
     "output_type": "stream",
     "text": [
      "찾고자 하는 점수는? 55\n"
     ]
    },
    {
     "name": "stdout",
     "output_type": "stream",
     "text": [
      "55점은 3번 학생의 점수입니다.\n"
     ]
    }
   ],
   "source": [
    "#연습문제 9.2\n",
    "scores=[]\n",
    "\n",
    "print('[점수 입력]')\n",
    "for i in range(3):\n",
    "    s=int(input(f'#{i+1}?'))\n",
    "    scores.append(s)\n",
    "\n",
    "avg=(scores[0]+scores[1]+scores[2]) / 3\n",
    "\n",
    "print('\\n[점수 출력]')\n",
    "print(f'입력 점수: {scores[0]} {scores[1]} {scores[2]}')\n",
    "print(f'평균:{avg:.1f}')\n",
    "\n",
    "print('\\n[검색]')\n",
    "find=int(input('찾고자 하는 점수는?'))\n",
    "\n",
    "if find in scores:\n",
    "    print(f'{find}점은 {scores.index(find)+1}번 학생의 점수입니다.')\n",
    "else:\n",
    "    print(f'{find}점을 가진 학생은 없습니다.')"
   ]
  },
  {
   "cell_type": "code",
   "execution_count": 15,
   "id": "4e37c0df-a476-4d7a-b07a-d14c8611b744",
   "metadata": {},
   "outputs": [
    {
     "name": "stdout",
     "output_type": "stream",
     "text": [
      "[구입]\n"
     ]
    },
    {
     "name": "stdin",
     "output_type": "stream",
     "text": [
      "상품명? 치약\n"
     ]
    },
    {
     "name": "stdout",
     "output_type": "stream",
     "text": [
      "장바구니에 치약이(가) 담겼습니다.\n",
      "\n"
     ]
    },
    {
     "name": "stdin",
     "output_type": "stream",
     "text": [
      "상품명? 칫솔\n"
     ]
    },
    {
     "name": "stdout",
     "output_type": "stream",
     "text": [
      "장바구니에 칫솔이(가) 담겼습니다.\n",
      "\n"
     ]
    },
    {
     "name": "stdin",
     "output_type": "stream",
     "text": [
      "상품명? \n"
     ]
    },
    {
     "name": "stdout",
     "output_type": "stream",
     "text": [
      "\n",
      ">>>장바구니 보기: ['치약', '칫솔']\n"
     ]
    }
   ],
   "source": [
    "#연습문제 9.3\n",
    "shopping_bag=[]\n",
    "\n",
    "print('[구입]')\n",
    "while True:\n",
    "    item=input('상품명?')\n",
    "    if item=='':\n",
    "        break\n",
    "    shopping_bag.append(item)\n",
    "    print(f'장바구니에 {item}이(가) 담겼습니다.\\n')\n",
    "    \n",
    "print(f'\\n>>>장바구니 보기: {shopping_bag}')"
   ]
  },
  {
   "cell_type": "code",
   "execution_count": 21,
   "id": "6f8ab72d-c282-4f2c-a53d-21f7109fc7ea",
   "metadata": {},
   "outputs": [
    {
     "name": "stdout",
     "output_type": "stream",
     "text": [
      "[구입]\n"
     ]
    },
    {
     "name": "stdin",
     "output_type": "stream",
     "text": [
      "상품명? 사과\n",
      "수량은? 10\n"
     ]
    },
    {
     "name": "stdout",
     "output_type": "stream",
     "text": [
      "장바구니에 사과이(가) 10개 담겼습니다.\n",
      "\n"
     ]
    },
    {
     "name": "stdin",
     "output_type": "stream",
     "text": [
      "상품명? 바나나\n",
      "수량은? 2\n"
     ]
    },
    {
     "name": "stdout",
     "output_type": "stream",
     "text": [
      "장바구니에 바나나이(가) 2개 담겼습니다.\n",
      "\n"
     ]
    },
    {
     "name": "stdin",
     "output_type": "stream",
     "text": [
      "상품명? \n"
     ]
    },
    {
     "name": "stdout",
     "output_type": "stream",
     "text": [
      "\n",
      ">>>장바구니 보기: {'사과': 10, '바나나': 2}\n",
      "\n",
      "[검색]\n"
     ]
    },
    {
     "name": "stdin",
     "output_type": "stream",
     "text": [
      "장바구니에서 확인하고자 하는 상품은? 사과\n"
     ]
    },
    {
     "name": "stdout",
     "output_type": "stream",
     "text": [
      "사과은(는) 10개 담겨있습니다.\n"
     ]
    }
   ],
   "source": [
    "#연습문제 9.4\n",
    "shopping_bag={}\n",
    "\n",
    "print('[구입]')\n",
    "while True:\n",
    "    item=input('상품명?')\n",
    "    if item=='':\n",
    "        break\n",
    "    num=int(input('수량은?'))\n",
    "    #shopping_bag.append(item)\n",
    "    shopping_bag[item]=num\n",
    "    \n",
    "    print(f'장바구니에 {item}이(가) {num}개 담겼습니다.\\n')\n",
    "    \n",
    "print(f'\\n>>>장바구니 보기: {shopping_bag}')\n",
    "\n",
    "print('\\n[검색]')\n",
    "search=input('장바구니에서 확인하고자 하는 상품은?')\n",
    "print(f'{search}은(는) {shopping_bag.get(search)}개 담겨있습니다.') #딕셔너리에서 value 확인하려면 get(key) 함수 사용"
   ]
  },
  {
   "cell_type": "code",
   "execution_count": 22,
   "id": "c1e7d2aa-b461-48d1-902f-efeef56702ee",
   "metadata": {},
   "outputs": [
    {
     "name": "stdout",
     "output_type": "stream",
     "text": [
      "당신의 생일을 입력하세요:\n"
     ]
    },
    {
     "name": "stdin",
     "output_type": "stream",
     "text": [
      "연도? 2002\n",
      "월? 12\n",
      "일? 13\n"
     ]
    },
    {
     "name": "stdout",
     "output_type": "stream",
     "text": [
      "당신의 만 60번째 생일은 2062년 12월 13일 입니다.\n"
     ]
    }
   ],
   "source": [
    "#연습문제 10.1\n",
    "def get_date():\n",
    "    y=int(input('연도?'))\n",
    "    m=int(input('월?'))\n",
    "    d=int(input('일?'))\n",
    "    return (y, m, d)\n",
    "\n",
    "#주 프로그램부\n",
    "print('당신의 생일을 입력하세요:')\n",
    "bday=get_date()\n",
    "print(f'당신의 만 60번째 생일은 {bday[0]+60}년 {bday[1]}월 {bday[2]}일 입니다.')"
   ]
  },
  {
   "cell_type": "code",
   "execution_count": 28,
   "id": "dc3c61fb-9568-4bdd-b502-f63e4e1108a6",
   "metadata": {},
   "outputs": [
    {
     "name": "stdin",
     "output_type": "stream",
     "text": [
      "정수 입력: 5\n",
      "정수 입력: -85\n",
      "정수 입력: 7\n",
      "정수 입력: 1\n",
      "정수 입력: 205\n"
     ]
    },
    {
     "name": "stdout",
     "output_type": "stream",
     "text": [
      "가장 큰 정수는 205입니다.\n"
     ]
    }
   ],
   "source": [
    "#연습문제 10.2\n",
    "#사용자 정의 함수부\n",
    "def find_max(l):\n",
    "    m=lst[0] #뭐가 최대값인지 모르니 일단 0번값을 최대값으로 설정\n",
    "    for i in range(len(l)):\n",
    "        if m<l[i]:\n",
    "            m=l[i]\n",
    "    return m\n",
    "\n",
    "#주 프로그램부\n",
    "lst=[]\n",
    "\n",
    "for i in range(5):\n",
    "    ii=int(input('정수 입력:'))\n",
    "    lst.append(ii)\n",
    "\n",
    "#m=find_max(lst)\n",
    "print(f'가장 큰 정수는 {find_max(lst)}입니다.')"
   ]
  },
  {
   "cell_type": "code",
   "execution_count": 29,
   "id": "abad8f8d-fbaa-4d1a-9bd2-768be4dca733",
   "metadata": {},
   "outputs": [
    {
     "name": "stdout",
     "output_type": "stream",
     "text": [
      "[점수 입력]\n"
     ]
    },
    {
     "name": "stdin",
     "output_type": "stream",
     "text": [
      "#1? 95\n",
      "#2? 100\n",
      "#3? 24\n",
      "#4? 72\n",
      "#5? 1\n",
      "#6? -1\n"
     ]
    },
    {
     "name": "stdout",
     "output_type": "stream",
     "text": [
      "\n",
      "[점수출력]\n",
      "개인점수:95 100 24 72 1 \n",
      "평균: 58.4\n"
     ]
    }
   ],
   "source": [
    "#연습문제 10.3\n",
    "#사용자 정의 함수부\n",
    "def input_scores():\n",
    "    s=[]\n",
    "    i=1\n",
    "    while True:        \n",
    "        n=int(input(f'#{i}?'))\n",
    "        if n<0: break\n",
    "        s.append(n)\n",
    "        i+=1\n",
    "    return s\n",
    "        \n",
    "def get_average(s):\n",
    "    total=0\n",
    "    for n in s:\n",
    "        total+=n\n",
    "    return total / len(s)\n",
    "\n",
    "def show_scores(s):\n",
    "    for n in s:\n",
    "        print(n, end=' ')\n",
    "    print()\n",
    "\n",
    "#주 프로그램부\n",
    "print('[점수 입력]')\n",
    "scores=input_scores()\n",
    "\n",
    "print('\\n[점수출력]')\n",
    "print('개인점수:', end='')\n",
    "show_scores(scores)    \n",
    "\n",
    "avg=get_average(scores)\n",
    "print(f'평균: {avg:.1f}')"
   ]
  },
  {
   "cell_type": "code",
   "execution_count": 30,
   "id": "8ff4c95f-2705-4883-a565-9f0ee22745f5",
   "metadata": {},
   "outputs": [
    {
     "name": "stdout",
     "output_type": "stream",
     "text": [
      "[점수 입력]\n"
     ]
    },
    {
     "name": "stdin",
     "output_type": "stream",
     "text": [
      "#1? 95\n",
      "#2? 82\n",
      "#3? 100\n",
      "#4? 90\n",
      "#5? 97\n",
      "#6? -1\n"
     ]
    },
    {
     "name": "stdout",
     "output_type": "stream",
     "text": [
      "\n",
      "[점수출력]\n",
      "개인점수:95 82 100 90 97 \n",
      "평균: 92.8\n",
      "\n",
      "[검색]\n"
     ]
    },
    {
     "name": "stdin",
     "output_type": "stream",
     "text": [
      "찾고자 하는 점수는? 100\n"
     ]
    },
    {
     "name": "stdout",
     "output_type": "stream",
     "text": [
      "100점은 3번 학생의 점수입니다.\n"
     ]
    }
   ],
   "source": [
    "#연습문제 10.4\n",
    "#사용자 정의 함수부\n",
    "def input_scores():\n",
    "    s=[]\n",
    "    i=1\n",
    "    while True:        \n",
    "        n=int(input(f'#{i}?'))\n",
    "        if n<0: break\n",
    "        s.append(n)\n",
    "        i+=1\n",
    "    return s\n",
    "        \n",
    "def get_average(s):\n",
    "    total=0\n",
    "    for n in s:\n",
    "        total+=n\n",
    "    return total / len(s)\n",
    "\n",
    "def show_scores(s):\n",
    "    for n in s:\n",
    "        print(n, end=' ')\n",
    "    print()\n",
    "\n",
    "def search(lst, n):\n",
    "    if n not in lst:\n",
    "        return None\n",
    "\n",
    "    return lst.index(n)\n",
    "\n",
    "#주 프로그램부\n",
    "print('[점수 입력]')\n",
    "scores=input_scores()\n",
    "\n",
    "print('\\n[점수출력]')\n",
    "print('개인점수:', end='')\n",
    "show_scores(scores)    \n",
    "\n",
    "avg=get_average(scores)\n",
    "print(f'평균: {avg:.1f}')\n",
    "\n",
    "print('\\n[검색]')\n",
    "s=int(input('찾고자 하는 점수는?'))\n",
    "idx=search(scores, s)\n",
    "if idx != None:\n",
    "    print(f'{s}점은 {idx+1}번 학생의 점수입니다.')\n",
    "else:\n",
    "    print(f'{s}점을 받은 학생은 없습니다.')"
   ]
  },
  {
   "cell_type": "code",
   "execution_count": 31,
   "id": "60320cf4-5c80-41c4-8310-ef6e7bf6e0d5",
   "metadata": {},
   "outputs": [
    {
     "name": "stdout",
     "output_type": "stream",
     "text": [
      "[구입]\n"
     ]
    },
    {
     "name": "stdin",
     "output_type": "stream",
     "text": [
      "상품명? 샌드위치\n",
      "수량은? 10\n"
     ]
    },
    {
     "name": "stdout",
     "output_type": "stream",
     "text": [
      "장바구니에 샌드위치 10개가 담겼습니다.\n",
      "\n",
      "[구입]\n"
     ]
    },
    {
     "name": "stdin",
     "output_type": "stream",
     "text": [
      "상품명? 주스\n",
      "수량은? 5\n"
     ]
    },
    {
     "name": "stdout",
     "output_type": "stream",
     "text": [
      "장바구니에 주스 5개가 담겼습니다.\n",
      "\n",
      "[구입]\n"
     ]
    },
    {
     "name": "stdin",
     "output_type": "stream",
     "text": [
      "상품명? \n"
     ]
    },
    {
     "name": "stdout",
     "output_type": "stream",
     "text": [
      "\n",
      ">>>장바구니 보기: {'샌드위치': 10, '주스': 5}\n",
      "\n",
      "[검색]\n"
     ]
    },
    {
     "name": "stdin",
     "output_type": "stream",
     "text": [
      "장바구니에서 확인하고자 하는 상품은? 샌드위치\n"
     ]
    },
    {
     "name": "stdout",
     "output_type": "stream",
     "text": [
      "샌드위치은(는) 10개 담겨 있습니다.\n"
     ]
    }
   ],
   "source": [
    "#연습문제 10.6\n",
    "#사용자 정의 함수부\n",
    "def buy(bag):\n",
    "    print('[구입]')\n",
    "    item=input('상품명?')\n",
    "    if item=='':\n",
    "        return False\n",
    "    count=int(input('수량은?'))\n",
    "    print(f'장바구니에 {item} {count}개가 담겼습니다.\\n')\n",
    "    bag[item]=count\n",
    "    return True\n",
    "\n",
    "def show(bag):\n",
    "    print(f'\\n>>>장바구니 보기: {bag}')\n",
    "    \n",
    "def find(bag):\n",
    "    print('\\n[검색]')\n",
    "    check=input('장바구니에서 확인하고자 하는 상품은?')\n",
    "    if check in bag:\n",
    "        print(f'{check}은(는) {bag[check]}개 담겨 있습니다.')\n",
    "    else: \n",
    "        print(f'장바구니에 {check}은(는) 없습니다.')\n",
    "    \n",
    "#주 프로그램부\n",
    "shopping_bag={}\n",
    "while True:\n",
    "    if buy(shopping_bag) == False:\n",
    "        break\n",
    "show(shopping_bag)\n",
    "find(shopping_bag)"
   ]
  },
  {
   "cell_type": "code",
   "execution_count": 32,
   "id": "7a9c52bc-cf81-43e6-83ad-ac34c257cee2",
   "metadata": {},
   "outputs": [
    {
     "name": "stdout",
     "output_type": "stream",
     "text": [
      "(0, 0)\n",
      "(10, 20)\n",
      "(2, 3)\n",
      "x=2, y=3\n"
     ]
    }
   ],
   "source": [
    "#연습문제 11.1\n",
    "class Point:\n",
    "    def __init__(self, x=0, y=0):\n",
    "        self.__x=x\n",
    "        self.__y=y\n",
    "    \n",
    "    def show(self):\n",
    "        print(f'({self.__x}, {self.__y})')\n",
    "\n",
    "    def set(self, x, y):\n",
    "        self.__x=x\n",
    "        self.__y=y\n",
    "\n",
    "    def get(self):\n",
    "        return (self.__x, self.__y)\n",
    "        \n",
    "#사용자 정의 함수부\n",
    "def test():\n",
    "    p1=Point()\n",
    "    p2=Point(2,3)\n",
    "\n",
    "    p1.show()\n",
    "\n",
    "    p1.set(10, 20); p1.show()\n",
    "\n",
    "    p2.show()\n",
    "\n",
    "    x,y=p2.get()\n",
    "    print(f'x={x}, y={y}')\n",
    "\n",
    "#주 프로그램부\n",
    "if __name__=='__main__':\n",
    "    test()"
   ]
  },
  {
   "cell_type": "code",
   "execution_count": 33,
   "id": "4ffea895-58ba-48ca-9857-9988d0a83141",
   "metadata": {},
   "outputs": [
    {
     "name": "stdout",
     "output_type": "stream",
     "text": [
      "09:00\n",
      "09:30\n",
      "10:15\n",
      "유효하지 않은 시각\n"
     ]
    }
   ],
   "source": [
    "#연습문제 11.2\n",
    "class Time:\n",
    "    def __init__(self, hour=0, minute=0):\n",
    "        self.__hour=hour\n",
    "        self.__minute=minute\n",
    "\n",
    "    def display(self):\n",
    "        print(f'{self.__hour:02d}:{self.__minute:02d}')\n",
    "\n",
    "    def add(self, time):\n",
    "        h=self.__hour + time.__hour\n",
    "        m=self.__minute + time.__minute\n",
    "        if m>=60:\n",
    "            h+=1\n",
    "            m-=60\n",
    "        return Time(h, m)\n",
    "    \n",
    "    @staticmethod\n",
    "    def is_valid(hour, minute):\n",
    "        if 0<=hour<24 and 0<=minute<60:\n",
    "            return True\n",
    "        return False\n",
    "\n",
    "#사용자 정의 함수부\n",
    "def main():\n",
    "    t1=Time(9)\n",
    "    t2=Time(9, 30)\n",
    "\n",
    "    t1.display()\n",
    "    t2.display()\n",
    "\n",
    "    later=t1.add(Time(1, 15))\n",
    "    later.display()\n",
    "\n",
    "    if Time.is_valid(25, 0):\n",
    "        print('유효한 시각')\n",
    "    else:\n",
    "        print('유효하지 않은 시각')\n",
    "\n",
    "#주 프로그래뭅\n",
    "if __name__=='__main__':\n",
    "    main()"
   ]
  },
  {
   "cell_type": "code",
   "execution_count": 35,
   "id": "1e58b39d-c1a7-4d98-82a2-fdaa074ff834",
   "metadata": {},
   "outputs": [
    {
     "name": "stdout",
     "output_type": "stream",
     "text": [
      "좌측 상단 꼭지점이 (5, 5)이고 우측 하단 꼭지점이 (20, 10)인 사각형입니다.\n",
      "\n",
      "넓이는 75, 둘레는 40\n"
     ]
    }
   ],
   "source": [
    "#연습문제 11.3\n",
    "class Point:\n",
    "    def __init__(self, x=0, y=0):\n",
    "        self.__x=x\n",
    "        self.__y=y\n",
    "    \n",
    "    def show(self):\n",
    "        print(f'({self.__x}, {self.__y})')\n",
    "\n",
    "    def set(self, x, y):\n",
    "        self.__x=x\n",
    "        self.__y=y\n",
    "\n",
    "    def get(self):\n",
    "        return (self.__x, self.__y)\n",
    "        \n",
    "class Rectangle:\n",
    "    def __init__(self, x1, y1, x2, y2):\n",
    "        self.__lt=Point(x1, y1)\n",
    "        self.__rb=Point(x2, y2)\n",
    "    \n",
    "    def show(self): #사각형 좌상단, 우하단 꼭짓점 출력\n",
    "        print(f'좌측 상단 꼭지점이 {self.__lt.get()}이고 우측 하단 꼭지점이 {self.__rb.get()}인 사각형입니다.')\n",
    "\n",
    "    def getWidth(self): #너비 반환\n",
    "        return self.__rb.get()[0]-self.__lt.get()[0]\n",
    "        \n",
    "    def getHeight(self): #높이 반환\n",
    "        return self.__rb.get()[1]-self.__lt.get()[1]\n",
    "    \n",
    "    def getArea(self): #넓이 반환\n",
    "        return self.getWidth() * self.getHeight()\n",
    "    \n",
    "    def getPerimeter(self): #둘레 반환\n",
    "        return 2*(self.getWidth() + self.getHeight())\n",
    "\n",
    "#주 프로그램부\n",
    "r1=Rectangle(5, 5, 20, 10)\n",
    "a=r1.getArea()\n",
    "p=r1.getPerimeter()\n",
    "\n",
    "r1.show()\n",
    "print(f'\\n넓이는 {a}, 둘레는 {p}')"
   ]
  },
  {
   "cell_type": "code",
   "execution_count": 36,
   "id": "b1dae1d7-f40e-4b4e-89b1-906cb20cb223",
   "metadata": {},
   "outputs": [
    {
     "name": "stdin",
     "output_type": "stream",
     "text": [
      "파일명:  readme.txt\n"
     ]
    },
    {
     "name": "stdout",
     "output_type": "stream",
     "text": [
      "1: 안녕하세요, 반갑습니다.\n",
      "2: 이 파일은 테스트 파일 저작을 위해 작성된 텍스트 문서입니다.\n",
      "3: 조금 낯설더라도 포기하지 마세요.\n"
     ]
    }
   ],
   "source": [
    "#연습문제 12.1\n",
    "#사용자 정의 함수부\n",
    "def show_file(filename):\n",
    "    with open(filename, mode='r', encoding='utf8') as file:\n",
    "        i=1\n",
    "        while True:\n",
    "            line=file.readline()\n",
    "    \n",
    "            if line=='':\n",
    "                break\n",
    "    \n",
    "            print(f'{i}: {line.strip()}')\n",
    "            i+=1\n",
    "        \n",
    "#주 프로그램부\n",
    "fn=input('파일명: ')\n",
    "show_file(fn)"
   ]
  },
  {
   "cell_type": "code",
   "execution_count": 39,
   "id": "151e4fc0-4361-4ac2-aabc-2f4564ad3714",
   "metadata": {},
   "outputs": [
    {
     "name": "stdout",
     "output_type": "stream",
     "text": [
      "[파일 읽기]\n",
      "\n",
      "[점수출력]\n",
      "개인점수:30 5 \n",
      "평균: 17.5\n"
     ]
    }
   ],
   "source": [
    "#연습문제 12.2\n",
    "import os\n",
    "\n",
    "filename='score.bin'\n",
    "\n",
    "#사용자 정의 함수부\n",
    "def input_scores():\n",
    "    s=[]\n",
    "    i=1\n",
    "    while True:        \n",
    "        n=int(input(f'#{i}?'))\n",
    "        if n<0: break\n",
    "        s.append(n)\n",
    "        i+=1\n",
    "    return s\n",
    "        \n",
    "def get_average(s):\n",
    "    total=0\n",
    "    for n in s:\n",
    "        total+=n\n",
    "    return total / len(s)\n",
    "\n",
    "def show_scores(s):\n",
    "    for n in s:\n",
    "        print(n, end=' ')\n",
    "    print()\n",
    "\n",
    "def save_data(s, filepath):\n",
    "    with open(filepath, 'w', encoding='utf8') as file:\n",
    "        for score in s:\n",
    "            file.write(f'{score}\\n')\n",
    "\n",
    "def load_data(filepath):\n",
    "    s=[]\n",
    "    with open(filepath, 'r', encoding='utf8') as file:\n",
    "        for line in file:\n",
    "            s.append(int(line.strip('\\n')))\n",
    "    return s\n",
    "\n",
    "#주 프로그램부\n",
    "if os.path.exists(filename):\n",
    "    print('[파일 읽기]')\n",
    "    scores = load_data(filename)\n",
    "else:\n",
    "    print('[점수 입력]')\n",
    "    scores=input_scores()\n",
    "\n",
    "print('\\n[점수출력]')\n",
    "print('개인점수:', end='')\n",
    "show_scores(scores)    \n",
    "\n",
    "avg=get_average(scores)\n",
    "print(f'평균: {avg:.1f}')\n",
    "\n",
    "save_data(scores, filename)"
   ]
  },
  {
   "cell_type": "code",
   "execution_count": 38,
   "id": "bfd27a8b-a0c8-4961-b787-d1a142480527",
   "metadata": {},
   "outputs": [
    {
     "name": "stdout",
     "output_type": "stream",
     "text": [
      "[파일 읽기]\n",
      "\n",
      ">>> 장바구니 보기: ['바나나', '사과']\n",
      "[구입]\n"
     ]
    },
    {
     "name": "stdin",
     "output_type": "stream",
     "text": [
      "상품명?  \n"
     ]
    },
    {
     "name": "stdout",
     "output_type": "stream",
     "text": [
      "\n",
      ">>> 장바구니 보기: ['바나나', '사과']\n"
     ]
    }
   ],
   "source": [
    "#연습문제 12.3 save/load기능\n",
    "import os\n",
    "\n",
    "filename='shoppingbag.txt'\n",
    "\n",
    "#사용자 정의 함수부\n",
    "def buy(sbag):\n",
    "    print('[구입]')\n",
    "    item=input('상품명? ')\n",
    "\n",
    "    if item=='':\n",
    "        return False\n",
    "\n",
    "    sbag.append(item)\n",
    "    print(f'장바구니에 {item}이(가) 담겼습니다.\\n')\n",
    "\n",
    "    return True\n",
    "\n",
    "def show(sbag):\n",
    "    print('\\n>>> 장바구니 보기: ', end='')\n",
    "    print(sbag)\n",
    "\n",
    "def save_data(sbag, filepath):\n",
    "    with open(filepath, 'w', encoding='utf8') as file:\n",
    "        for item in sbag:\n",
    "            file.write(f'{item}\\n')\n",
    "\n",
    "def load_data(filepath):\n",
    "    lines=[]\n",
    "    with open(filepath, 'r', encoding='utf8') as file:\n",
    "        for line in file:\n",
    "            lines.append(line.strip('\\n'))\n",
    "    return lines\n",
    "\n",
    "\n",
    "#주 프로그램부\n",
    "if os.path.exists(filename):\n",
    "    print('[파일 읽기]')\n",
    "    shopping_bag = load_data(filename)\n",
    "    show(shopping_bag)\n",
    "else:\n",
    "    shopping_bag = []\n",
    "\n",
    "while True:\n",
    "    if buy(shopping_bag) == False:\n",
    "        break\n",
    "\n",
    "show(shopping_bag)\n",
    "\n",
    "save_data(shopping_bag, filename)"
   ]
  },
  {
   "cell_type": "code",
   "execution_count": 41,
   "id": "aff6d0a5-d86d-4c54-a7b6-8700524ae3ff",
   "metadata": {},
   "outputs": [
    {
     "name": "stdout",
     "output_type": "stream",
     "text": [
      "안녕하세요, 마지막으로 17:07에 실행되었습니다.\n",
      "지금은 17:08 입니다.\n"
     ]
    }
   ],
   "source": [
    "#연습문제 12.4\n",
    "import os\n",
    "import pickle\n",
    "from datetime import datetime\n",
    "from ex_11_2 import Time\n",
    "\n",
    "filename='last.dat'\n",
    "\n",
    "#사용자 정의 함수부\n",
    "def get_current_time():\n",
    "    now=datetime.now()\n",
    "    return Time(now.hour, now.minute)\n",
    "\n",
    "def save_time(time):\n",
    "    with open(filename, 'wb') as file:\n",
    "        pickle.dump(time, file)\n",
    "\n",
    "def load_time():\n",
    "    with open(filename, 'rb') as file:\n",
    "        t=pickle.load(file)\n",
    "    return t\n",
    "\n",
    "#주 프로그램부\n",
    "if os.path.exists(filename):\n",
    "    t=load_time()\n",
    "    print(f'안녕하세요, 마지막으로 {t.toString()}에 실행되었습니다.')\n",
    "else:\n",
    "    print('안녕하세요, 처음 실행되었습니다.')\n",
    "\n",
    "t=get_current_time()\n",
    "print(f'지금은 {t.toString()} 입니다.')\n",
    "save_time(t)"
   ]
  },
  {
   "cell_type": "code",
   "execution_count": null,
   "id": "73e70e43-86c8-4506-9058-485e4f92c5bd",
   "metadata": {},
   "outputs": [],
   "source": [
    "#연습문제 13.1\n",
    "import tkinter as tk\n",
    "from tkinter import ttk\n",
    "\n",
    "#클래스 정의부\n",
    "class ConvTempWin():\n",
    "    def __init__(self):\n",
    "        self.win=tk.Tk()    #기본 윈도우 객체 생성\n",
    "        self.win.title('온도변환기-1단계')\n",
    "        self.__buildGUI()   #화면 구성\n",
    "        self.win.geometry('270x190') #오류나면 큰 따옴표로 바꿀 것\n",
    "\n",
    "    def __buildGUI(self):\n",
    "        fahr_Label=ttk.Label(self.win, text='화씨')\n",
    "\n",
    "        self.__fahr=tk.IntVar()\n",
    "        fahr_entry=ttk.Entry(self.win, justify=tk.RIGHT, width=11,\n",
    "                             textvariable=self.__fahr)\n",
    "\n",
    "        cel_Label=ttk.Label(self.win, text='섭씨')\n",
    "\n",
    "        self.__cels=tk.DoubleVar()\n",
    "        cel_entry=ttk.Entry(self.win, justify=tk.RIGHT, width=11,\n",
    "                            textvariable=self.__cels)\n",
    "\n",
    "        f2c_btn=ttk.Button(self.win, text='화씨->섭씨',\n",
    "                           command=self.__f2c_handler)\n",
    "        c2f_btn=ttk.Button(self.win, text='섭씨->화씨',\n",
    "                           command=self.__c2f_handler)\n",
    "        reset_btn=ttk.Button(self.win, text='초기화',\n",
    "                             command=self.__reset_handler)\n",
    "        quit_btn=ttk.Button(self.win, text='종료',\n",
    "                             command=self.win.destroy)\n",
    "\n",
    "        fahr_Label.pack()\n",
    "        fahr_entry.pack()\n",
    "        cel_Label.pack()\n",
    "        cel_entry.pack()\n",
    "\n",
    "        f2c_btn.pack()\n",
    "        c2f_btn.pack()\n",
    "        reset_btn.pack()\n",
    "        quit_btn.pack()\n",
    "\n",
    "    def __f2c_handler(self):\n",
    "        fahr=self.__fahr.get()\n",
    "        cels=(fahr-32)*5/9\n",
    "        self.__cels.set(f'{cels:.2f}')\n",
    "        \n",
    "    def __c2f_handler(self):\n",
    "        cels=self.__cels.get()\n",
    "        fahr=cels*9/5+32\n",
    "        self.__fahr.set(f'{fahr:.0f}')\n",
    "        \n",
    "    def __reset_handler(self):\n",
    "        self.__fahr.set('')\n",
    "        self.__cels.set('')\n",
    "        \n",
    "    def start(self):\n",
    "        self.win.mainloop()\n",
    "\n",
    "#주 프로그램부\n",
    "tConverter=ConvTempWin()\n",
    "tConverter.start()"
   ]
  },
  {
   "cell_type": "code",
   "execution_count": 44,
   "id": "29088236-7b52-4840-891e-9c8d7b258763",
   "metadata": {},
   "outputs": [],
   "source": [
    "#연습문제 13.2\n",
    "import tkinter as tk\n",
    "from tkinter import ttk\n",
    "\n",
    "#클래스 정의부\n",
    "class ConvTempWin():\n",
    "    def __init__(self):\n",
    "        self.win=tk.Tk()    #기본 윈도우 객체 생성\n",
    "        self.win.title('온도변환기-2단계')\n",
    "        self.__buildGUI()   #화면 구성\n",
    "\n",
    "    def __buildGUI(self):\n",
    "        fahr_Label=ttk.Label(self.win, text='화씨')\n",
    "\n",
    "        self.__fahr=tk.IntVar()\n",
    "        fahr_entry=ttk.Entry(self.win, justify=tk.RIGHT, width=11,\n",
    "                             textvariable=self.__fahr)\n",
    "\n",
    "        cel_Label=ttk.Label(self.win, text='섭씨')\n",
    "\n",
    "        self.__cels=tk.DoubleVar()\n",
    "        cel_entry=ttk.Entry(self.win, justify=tk.RIGHT, width=11,\n",
    "                            textvariable=self.__cels)\n",
    "\n",
    "        f2c_btn=ttk.Button(self.win, text='화씨->섭씨',\n",
    "                           command=self.__f2c_handler)\n",
    "        c2f_btn=ttk.Button(self.win, text='섭씨->화씨',\n",
    "                           command=self.__c2f_handler)\n",
    "        reset_btn=ttk.Button(self.win, text='초기화',\n",
    "                             command=self.__reset_handler)\n",
    "        quit_btn=ttk.Button(self.win, text='종료',\n",
    "                             command=self.win.destroy)\n",
    "\n",
    "        fahr_Label.grid(row=0, column=0) #pack 함수를 grid 함수로 변경\n",
    "        fahr_entry.grid(row=0, column=1) #grid 함수로 좌표값 설정해 위치지정\n",
    "        cel_Label.grid(row=0, column=2)\n",
    "        cel_entry.grid(row=0, column=3)\n",
    "\n",
    "        f2c_btn.grid(row=1, column=0)\n",
    "        c2f_btn.grid(row=1, column=1)\n",
    "        reset_btn.grid(row=1, column=2)\n",
    "        quit_btn.grid(row=1, column=3)\n",
    "\n",
    "    def __f2c_handler(self):\n",
    "        fahr=self.__fahr.get()\n",
    "        cels=(fahr-32)*5/9\n",
    "        self.__cels.set(f'{cels:.2f}')\n",
    "        \n",
    "    def __c2f_handler(self):\n",
    "        cels=self.__cels.get()\n",
    "        fahr=cels*9/5+32\n",
    "        self.__fahr.set(f'{fahr:.0f}')\n",
    "        \n",
    "    def __reset_handler(self):\n",
    "        self.__fahr.set('')\n",
    "        self.__cels.set('')\n",
    "        \n",
    "    def start(self):\n",
    "        self.win.mainloop()\n",
    "\n",
    "#주 프로그램부\n",
    "tConverter=ConvTempWin()\n",
    "tConverter.start()"
   ]
  },
  {
   "cell_type": "code",
   "execution_count": 45,
   "id": "dcc65eaa-81c7-4f14-926e-8d51e5cd971e",
   "metadata": {},
   "outputs": [],
   "source": [
    "#연습문제 13.3\n",
    "import tkinter as tk\n",
    "from tkinter import ttk\n",
    "\n",
    "#클래스 정의부\n",
    "class ConvTempWin():\n",
    "    def __init__(self):\n",
    "        self.win=tk.Tk()    #기본 윈도우 객체 생성\n",
    "        self.win.title('온도변환기-3단계')\n",
    "        self.__buildGUI()   #화면 구성\n",
    "\n",
    "    def __buildGUI(self):\n",
    "        self.__create_input_frame().pack() #pack 메소드 사\n",
    "        self.__create_button_frame().pack()\n",
    "\n",
    "    def __create_input_frame(self):\n",
    "        frame=ttk.Frame(self.win)\n",
    "        \n",
    "        fahr_Label=ttk.Label(frame, text='화씨')\n",
    "\n",
    "        self.__fahr=tk.IntVar()\n",
    "        fahr_entry=ttk.Entry(frame, justify=tk.RIGHT, width=11,\n",
    "                             textvariable=self.__fahr)\n",
    "\n",
    "        cel_Label=ttk.Label(frame, text='섭씨')\n",
    "\n",
    "        self.__cels=tk.DoubleVar()\n",
    "        cel_entry=ttk.Entry(frame, justify=tk.RIGHT, width=11,\n",
    "                            textvariable=self.__cels)\n",
    "\n",
    "        fahr_Label.pack(side=tk.LEFT)\n",
    "        fahr_entry.pack(side=tk.LEFT)\n",
    "        cel_Label.pack(side=tk.LEFT)\n",
    "        cel_entry.pack(side=tk.LEFT)\n",
    "\n",
    "        return frame\n",
    "\n",
    "    def __create_button_frame(self):\n",
    "        frame=ttk.Frame(self.win)\n",
    "\n",
    "        f2c_btn=ttk.Button(frame, text='화씨->섭씨',\n",
    "                           command=self.__f2c_handler)\n",
    "        c2f_btn=ttk.Button(frame, text='섭씨->화씨',\n",
    "                           command=self.__c2f_handler)\n",
    "        reset_btn=ttk.Button(frame, text='초기화',\n",
    "                             command=self.__reset_handler)\n",
    "        quit_btn=ttk.Button(frame, text='종료',\n",
    "                             command=self.win.destroy)\n",
    "\n",
    "        f2c_btn.pack(side=tk.LEFT)\n",
    "        c2f_btn.pack(side=tk.LEFT)\n",
    "        reset_btn.pack(side=tk.LEFT)\n",
    "        quit_btn.pack(side=tk.LEFT)\n",
    "\n",
    "        return frame\n",
    "\n",
    "    def __f2c_handler(self):\n",
    "        fahr=self.__fahr.get()\n",
    "        cels=(fahr-32)*5/9\n",
    "        self.__cels.set(f'{cels:.2f}')\n",
    "        \n",
    "    def __c2f_handler(self):\n",
    "        cels=self.__cels.get()\n",
    "        fahr=cels*9/5+32\n",
    "        self.__fahr.set(f'{fahr:.0f}')\n",
    "        \n",
    "    def __reset_handler(self):\n",
    "        self.__fahr.set('')\n",
    "        self.__cels.set('')\n",
    "        \n",
    "    def start(self):\n",
    "        self.win.mainloop()\n",
    "\n",
    "#주 프로그램부\n",
    "tConverter=ConvTempWin()\n",
    "tConverter.start()"
   ]
  },
  {
   "cell_type": "code",
   "execution_count": 46,
   "id": "f49d1703-a5ff-4708-bdff-57bbaa56a401",
   "metadata": {},
   "outputs": [],
   "source": [
    "#연습문제 13.4\n",
    "import tkinter as tk\n",
    "from tkinter import ttk\n",
    "\n",
    "#클래스 정의부\n",
    "class MemberReg():\n",
    "    hobby_list=['영화시청', '음악감상', '사진찍기', '운동']\n",
    "\n",
    "    def __init__(self):\n",
    "        self.win=tk.Tk()    #기본 윈도우 객체 생성\n",
    "        self.win.title('회원가입')\n",
    "        self.__buildGUI()   #화면구성\n",
    "\n",
    "    def __buildGUI(self):\n",
    "        self.__create_name_input_frame().grid(row=0, column=0, sticky='w')  #sticky='w' 왼쪽 정렬\n",
    "        self.__create_grade_input_frame().grid(row=1, column=0, sticky='w')\n",
    "        self.__create_hobby_input_frame().grid(row=2, column=0, sticky='w')\n",
    "        self.__create_button_frame().grid(row=3, column=0, sticky='e')      #sticky='e' 오른쪽 정\n",
    "\n",
    "    def __create_name_input_frame(self):\n",
    "        frame=ttk.Frame(self.win)\n",
    "\n",
    "        self.text_label=ttk.Label(frame, text='이름:')\n",
    "\n",
    "        self.name=tk.StringVar()\n",
    "        input_entry=ttk.Entry(frame, textvariable=self.name)\n",
    "\n",
    "        self.text_label.grid(row=0, column=0)\n",
    "        input_entry.grid(row=0, column=1)\n",
    "\n",
    "        return frame\n",
    "\n",
    "    def __create_grade_input_frame(self):\n",
    "        frame=ttk.Frame(self.win)\n",
    "\n",
    "        self.text_label=ttk.Label(frame, text='학년:')\n",
    "        self.text_label.grid(row=0, column=0)\n",
    "\n",
    "        sub_frame=ttk.Frame(frame)\n",
    "        self.grade=tk.IntVar()\n",
    "        for i in range(1, 5):\n",
    "            grade_btn=ttk.Radiobutton(sub_frame,\n",
    "                                      text=f'{i}학년',\n",
    "                                      value=i,\n",
    "                                      variable=self.grade,\n",
    "                                      )\n",
    "            grade_btn.pack(side=tk.LEFT)\n",
    "        sub_frame.grid(row=0, column=1)\n",
    "\n",
    "        return frame\n",
    "\n",
    "    def __create_hobby_input_frame(self):\n",
    "        frame=ttk.Frame(self.win)\n",
    "\n",
    "        self.text_label=ttk.Label(frame, text='취미:')\n",
    "        self.text_label.grid(row=0, column=0)\n",
    "\n",
    "        sub_frame=ttk.Frame(frame)\n",
    "        self.hobby=[]\n",
    "        for i in range(4):\n",
    "            self.hobby.append(tk.IntVar())\n",
    "            hobby_btn=ttk.Checkbutton(sub_frame,\n",
    "                                      text=self.hobby_list[i],\n",
    "                                      variable=self.hobby[i],\n",
    "                                      )\n",
    "            hobby_btn.pack(side=tk.LEFT)\n",
    "        sub_frame.grid(row=0, column=1)\n",
    "\n",
    "        return frame\n",
    "\n",
    "    def __create_button_frame(self):\n",
    "        frame=ttk.Frame(self.win)\n",
    "\n",
    "        input_btn=ttk.Button(frame, text='입력',\n",
    "                             command=self.__input_btn_clicked)\n",
    "        quit_btn=ttk.Button(frame, text='종료',\n",
    "                            command=self.win.destroy)\n",
    "\n",
    "        input_btn.pack(side=tk.LEFT)\n",
    "        quit_btn.pack(side=tk.LEFT)\n",
    "\n",
    "        return frame\n",
    "\n",
    "    def __input_btn_clicked(self):\n",
    "        print(self.name.get())\n",
    "        print(self.grade.get())\n",
    "\n",
    "        for i in range(4):\n",
    "            if self.hobby[i].get()==True:\n",
    "                print(self.hobby_list[i])\n",
    "    \n",
    "#주 프로그램부\n",
    "member=MemberReg()\n",
    "member.win.mainloop()"
   ]
  },
  {
   "cell_type": "code",
   "execution_count": 47,
   "id": "fb75281d-7b8b-43e7-a835-77d4eed4f164",
   "metadata": {},
   "outputs": [],
   "source": [
    "#연습문제 13.5\n",
    "import tkinter as tk\n",
    "from tkinter import ttk\n",
    "from tkinter import messagebox\n",
    "import os\n",
    "\n",
    "#클래스 정의부\n",
    "class WordMaster:\n",
    "    def __init__(self):\n",
    "        self.win=tk.Tk()\n",
    "        self.win.title('단어장')\n",
    "        self.win.geometry('400x100')\n",
    "\n",
    "        self.buildGUI()\n",
    "\n",
    "        self.words=self.loadData()\n",
    "\n",
    "    def buildGUI(self):\n",
    "        #위젯 생성\n",
    "        l_word=ttk.Label(self.win, text='단어:')\n",
    "        self.word=tk.StringVar()\n",
    "        e_word=ttk.Entry(self.win, textvariable=self.word, width=15)\n",
    "\n",
    "        l_meaning=ttk.Label(self.win, text='뜻:')\n",
    "        self.mean=tk.StringVar()\n",
    "        e_meaning=ttk.Entry(self.win, textvariable=self.mean, width=35)\n",
    "\n",
    "        b_search=ttk.Button(self.win, text='검색', width=5, command=self.search)\n",
    "        b_add=ttk.Button(self.win, text='추가', width=5, command=self.add)\n",
    "        b_reset=ttk.Button(self.win, text='초기화', command=self.reset)\n",
    "        b_exit=ttk.Button(self.win, text='종료', command=self.end)\n",
    "\n",
    "        #위젯 배치  \n",
    "        l_word.grid(row=0, column=0, sticky='e', padx=10)\n",
    "        e_word.grid(row=0, column=1, sticky='w')\n",
    "        b_search.grid(row=0, column=2, ipadx=10, ipady=5, sticky='w')\n",
    "        b_add.grid(row=0, column=3, ipadx=10, ipady=5, sticky='w')\n",
    "\n",
    "        l_meaning.grid(row=2, column=0, sticky='e', padx=10)\n",
    "        e_meaning.grid(row=2, column=1, columnspan=3, sticky='w')\n",
    "\n",
    "        b_reset.grid(row=3, column=0, ipadx=10, ipady=5, padx=10, sticky='w')\n",
    "        b_exit.grid(row=3, column=1, ipadx=10, ipady=5, sticky='w')\n",
    "\n",
    "    #파일로부터 읽어들이기\n",
    "    def loadData(self):\n",
    "        words={}\n",
    "        if not os.path.exists('words.txt'):\n",
    "            return words\n",
    "        fp=open('words.txt', 'r', encoding='utf-8')\n",
    "\n",
    "        for line in fp:\n",
    "            word=line.split(':')\n",
    "\n",
    "            for i in range(0, len(word)):\n",
    "                word[i]=word[i].strip()\n",
    "\n",
    "            key=word[0]\n",
    "            value=word[1]\n",
    "            words[key]=value\n",
    "\n",
    "        fp.close()\n",
    "\n",
    "        return words\n",
    "\n",
    "    #딕셔너리에 추가하기\n",
    "    def add(self):\n",
    "        w=self.word.get()\n",
    "        m=self.mean.get()\n",
    "\n",
    "        self.words[w]=m\n",
    "\n",
    "        messagebox.showinfo('추가 확인', '단어'+w+'를 추가했습니다.')\n",
    "\n",
    "        self.word.set('')\n",
    "        self.mean.set('')\n",
    "\n",
    "    #딕셔너리에서 단어 검색하기\n",
    "    def search(self):\n",
    "        w=self.word.get()\n",
    "\n",
    "        if w not in self.words:\n",
    "            messagebox.showinfo('검색 오류', w+'란 단어는 없습니다!')\n",
    "            self.reset()\n",
    "            return\n",
    "\n",
    "        m=self.words[w]\n",
    "\n",
    "        self.mean.set(m)\n",
    "\n",
    "    #위젯 초기화\n",
    "    def reset(self):\n",
    "        self.word.set('')\n",
    "        self.mean.set('')\n",
    "\n",
    "    #프로그램 종료 처리\n",
    "    def end(self):\n",
    "        fp=open('words.txt', 'w', encoding='utf-8')\n",
    "\n",
    "        for w in self.words.keys():\n",
    "            m=self.words[w]\n",
    "            fp.write(w+':'+m+'\\n')  #fp.writelines(w+':'+m+'\\n')\n",
    "\n",
    "        fp.close()\n",
    "\n",
    "        self.win.destroy()\n",
    "\n",
    "#주 프로그램\n",
    "wm=WordMaster()\n",
    "wm.win.mainloop()"
   ]
  },
  {
   "cell_type": "code",
   "execution_count": null,
   "id": "3849026a-72e2-4eb1-9d95-52837d58d3b5",
   "metadata": {},
   "outputs": [],
   "source": []
  }
 ],
 "metadata": {
  "kernelspec": {
   "display_name": "Python 3 (ipykernel)",
   "language": "python",
   "name": "python3"
  },
  "language_info": {
   "codemirror_mode": {
    "name": "ipython",
    "version": 3
   },
   "file_extension": ".py",
   "mimetype": "text/x-python",
   "name": "python",
   "nbconvert_exporter": "python",
   "pygments_lexer": "ipython3",
   "version": "3.13.2"
  }
 },
 "nbformat": 4,
 "nbformat_minor": 5
}
