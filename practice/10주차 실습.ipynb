{
 "cells": [
  {
   "cell_type": "code",
   "execution_count": 1,
   "id": "8c71b44c-b602-4420-8628-cc71213bc03d",
   "metadata": {},
   "outputs": [
    {
     "name": "stdin",
     "output_type": "stream",
     "text": [
      "이름?  이찬수\n",
      "번호?  123\n"
     ]
    },
    {
     "name": "stdout",
     "output_type": "stream",
     "text": [
      "123번 이찬수\n"
     ]
    }
   ],
   "source": [
    "def input_list(lst):\n",
    "    name=input('이름? ')\n",
    "    num=input('번호? ')\n",
    "\n",
    "    lst.append(name)\n",
    "    lst.append(num)\n",
    "\n",
    "#주 프로그램부\n",
    "userinfo=[]\n",
    "input_list(userinfo)\n",
    "print(f'{userinfo[1]}번 {userinfo[0]}')"
   ]
  },
  {
   "cell_type": "code",
   "execution_count": 3,
   "id": "e678500e-40c0-49f2-ad0b-acec5b843b47",
   "metadata": {},
   "outputs": [
    {
     "name": "stdin",
     "output_type": "stream",
     "text": [
      "이름?  이찬수\n",
      "번호?  123\n"
     ]
    },
    {
     "name": "stdout",
     "output_type": "stream",
     "text": [
      "123번 이찬수\n"
     ]
    }
   ],
   "source": [
    "#바로 위 코드와 똑같이 동작함\n",
    "\n",
    "def input_list():\n",
    "    name=input('이름? ')\n",
    "    num=input('번호? ')\n",
    "\n",
    "    lst=[]\n",
    "    lst.append(name)\n",
    "    lst.append(num)\n",
    "    return lst\n",
    "\n",
    "#주 프로그램부\n",
    "userinfo=input_list()\n",
    "print(f'{userinfo[1]}번 {userinfo[0]}')"
   ]
  },
  {
   "cell_type": "code",
   "execution_count": 4,
   "id": "6454b6ba-36e1-41bb-915a-e2110e6dc662",
   "metadata": {},
   "outputs": [
    {
     "name": "stdout",
     "output_type": "stream",
     "text": [
      "당신의 생일을 입력하세요:\n"
     ]
    },
    {
     "name": "stdin",
     "output_type": "stream",
     "text": [
      "연도?  2002\n",
      "월?  12\n",
      "일?  13\n"
     ]
    },
    {
     "name": "stdout",
     "output_type": "stream",
     "text": [
      "당신의 만 60번째 생일은 2062년 12월 13일입니다.\n"
     ]
    }
   ],
   "source": [
    "def get_date():\n",
    "    y=int(input('연도? '))\n",
    "    m=int(input('월? '))\n",
    "    d=int(input('일? '))\n",
    "    return (y, m, d) #괄호는 없어도 똑같이 튜플로 리턴됨\n",
    "\n",
    "#주 프로그램부\n",
    "print('당신의 생일을 입력하세요:')\n",
    "bday=get_date()\n",
    "print(f'당신의 만 60번째 생일은 {bday[0]+60}년 {bday[1]}월 {bday[2]}일입니다.')"
   ]
  },
  {
   "cell_type": "code",
   "execution_count": 5,
   "id": "cab4710c-2ed7-4223-8cb3-772e2401339b",
   "metadata": {},
   "outputs": [
    {
     "name": "stdout",
     "output_type": "stream",
     "text": [
      "단출하게/단아하게/당당하게/"
     ]
    }
   ],
   "source": [
    "msgs=['단출하게', '단아하게', '당당하게']\n",
    "for e in msgs:\n",
    "    print(f'{e}/', end='')"
   ]
  },
  {
   "cell_type": "code",
   "execution_count": 6,
   "id": "791ec3b7-6999-4af4-835e-2fc5b98129ca",
   "metadata": {},
   "outputs": [
    {
     "name": "stdout",
     "output_type": "stream",
     "text": [
      "단출하게/단아하게/당당하게/"
     ]
    }
   ],
   "source": [
    "msgs=['단출하게', '단아하게', '당당하게']\n",
    "for i in range(len(msgs)):\n",
    "    print(f'{msgs[i]}/', end='')"
   ]
  },
  {
   "cell_type": "code",
   "execution_count": 7,
   "id": "0f64f40c-8ca6-44fc-b141-ec91ec237e0b",
   "metadata": {},
   "outputs": [
    {
     "name": "stdout",
     "output_type": "stream",
     "text": [
      "당당하게/단아하게/단출하게/"
     ]
    }
   ],
   "source": [
    "msgs=['단출하게', '단아하게', '당당하게']\n",
    "for i in range(len(msgs) -1, -1, -1):\n",
    "    print(f'{msgs[i]}/', end='')"
   ]
  },
  {
   "cell_type": "code",
   "execution_count": 14,
   "id": "87f73a8b-e2ab-4683-aeaf-c2288e53dfb7",
   "metadata": {},
   "outputs": [
    {
     "name": "stdin",
     "output_type": "stream",
     "text": [
      "1층의 거주인원수는?  3\n",
      "2층의 거주인원수는?  4\n",
      "3층의 거주인원수는?  3\n",
      "4층의 거주인원수는?  2\n"
     ]
    },
    {
     "name": "stdout",
     "output_type": "stream",
     "text": [
      "1층의 거주인원수는 3명입니다.\n",
      "2층의 거주인원수는 4명입니다.\n",
      "3층의 거주인원수는 3명입니다.\n",
      "4층의 거주인원수는 2명입니다.\n",
      "총 거주인원수는 12명입니다.\n"
     ]
    }
   ],
   "source": [
    "#사용자 정의 함수부\n",
    "def input_num_of_population():\n",
    "    nPeople=[]\n",
    "    for f in range(4):\n",
    "        n=int(input(f'{f+1}층의 거주인원수는? '))\n",
    "        nPeople.append(n)\n",
    "\n",
    "    #입력받은 거주인원수를 호출측으로 반환\n",
    "    return nPeople\n",
    "\n",
    "def show_num_of_population(p):\n",
    "    cnt=len(p)\n",
    "    for i in range(cnt):\n",
    "        print(f'{i+1}층의 거주인원수는 {p[i]}명입니다.')\n",
    "\n",
    "def get_total(lst):\n",
    "    total=0\n",
    "    for n in lst:\n",
    "        total+=n\n",
    "\n",
    "    return total\n",
    "\n",
    "#주 프로그램부\n",
    "#1~4층의 거주인원수를 입력받음\n",
    "population=input_num_of_population()\n",
    "\n",
    "#입력받은 1~4층의 거주인원수를 출력\n",
    "show_num_of_population(population)\n",
    "\n",
    "#total=입력받은 1~4층의 거주인원수의 총합을 구함\n",
    "total=get_total(population)\n",
    "\n",
    "#총 거주인원수 {total}출력\n",
    "print(f'총 거주인원수는 {total}명입니다.')"
   ]
  },
  {
   "cell_type": "code",
   "execution_count": 15,
   "id": "bfb21b7c-2791-454b-91dc-d9fa1efe8126",
   "metadata": {},
   "outputs": [
    {
     "name": "stdout",
     "output_type": "stream",
     "text": [
      "이찬수/95/85/\n",
      "홍길동/90/80/\n"
     ]
    }
   ],
   "source": [
    "scores=[\n",
    "    ['이찬수', 95, 85],\n",
    "    ['홍길동', 90, 80]\n",
    "]\n",
    "\n",
    "for g in scores:\n",
    "    for e in g:\n",
    "        print(e, end='/')\n",
    "    print()"
   ]
  },
  {
   "cell_type": "code",
   "execution_count": 16,
   "id": "2742d484-1778-470a-a973-3dc0a163ed2d",
   "metadata": {},
   "outputs": [
    {
     "name": "stdout",
     "output_type": "stream",
     "text": [
      "이찬수/95/85/\n",
      "홍길동/90/80/\n"
     ]
    }
   ],
   "source": [
    "scores=[\n",
    "    ['이찬수', 95, 85],\n",
    "    ['홍길동', 90, 80]\n",
    "]\n",
    "\n",
    "for gi in range(len(scores)):\n",
    "    for ei in range(len(scores[gi])):\n",
    "        print(scores[gi][ei], end='/')\n",
    "    print()"
   ]
  },
  {
   "cell_type": "code",
   "execution_count": 17,
   "id": "28ef951a-3f73-4093-8793-a7ad0899f975",
   "metadata": {},
   "outputs": [
    {
     "name": "stdout",
     "output_type": "stream",
     "text": [
      "python 파이썬\n",
      "basic 기초\n",
      "programming 프로그래밍\n"
     ]
    }
   ],
   "source": [
    "d={\n",
    "    'python':'파이썬',\n",
    "    'basic':'기초',\n",
    "    'programming':'프로그래밍'\n",
    "}\n",
    "\n",
    "for key in d.keys():\n",
    "    print(key, d[key])"
   ]
  },
  {
   "cell_type": "code",
   "execution_count": 18,
   "id": "911b3f82-9263-4391-8fe6-ff4909d93719",
   "metadata": {},
   "outputs": [
    {
     "name": "stdout",
     "output_type": "stream",
     "text": [
      "python 파이썬\n",
      "basic 기초\n",
      "programming 프로그래밍\n"
     ]
    }
   ],
   "source": [
    "d={\n",
    "    'python':'파이썬',\n",
    "    'basic':'기초',\n",
    "    'programming':'프로그래밍'\n",
    "}\n",
    "\n",
    "for key in d:\n",
    "    print(key, d[key])"
   ]
  },
  {
   "cell_type": "code",
   "execution_count": 19,
   "id": "8e863d5b-6658-4bbe-aeef-c8384f84454c",
   "metadata": {},
   "outputs": [
    {
     "name": "stdout",
     "output_type": "stream",
     "text": [
      "파이썬\n",
      "오류: 잘못된 키\n"
     ]
    }
   ],
   "source": [
    "def dict_get(dic, key):\n",
    "    if key in dic:\n",
    "        return dic[key]\n",
    "    else :\n",
    "        return None\n",
    "\n",
    "d={'python':'파이썬', 'basic':'기초', 'programming':'프로그래밍'}\n",
    "\n",
    "res=dict_get(d, 'python')\n",
    "if res != None:\n",
    "    print(res)\n",
    "else:\n",
    "    print('오류: 잘못된 키')\n",
    "\n",
    "res=dict_get(d, 0)\n",
    "if res != None:\n",
    "    print(res)\n",
    "else:\n",
    "    print('오류: 잘못된 키')"
   ]
  },
  {
   "cell_type": "code",
   "execution_count": 20,
   "id": "0b1a9e8a-c877-438a-ab66-01d4016e7c40",
   "metadata": {},
   "outputs": [
    {
     "name": "stdout",
     "output_type": "stream",
     "text": [
      "추가 성공\n",
      "두 번째 추가 실패\n",
      "{'python': '파이썬', 'basic': '기초', 'programming': '프로그래밍', 'PYTHON': '파이썬'}\n"
     ]
    }
   ],
   "source": [
    "def dict_append(dic, key, value):\n",
    "    if key in dic:\n",
    "        return False\n",
    "\n",
    "    dic[key]=value\n",
    "    return True\n",
    "\n",
    "d={'python':'파이썬', 'basic':'기초', 'programming':'프로그래밍'}\n",
    "\n",
    "if dict_append(d, 'PYTHON', '파이썬'):\n",
    "    print('추가 성공')\n",
    "else :\n",
    "    print('추가 실패')\n",
    "\n",
    "if dict_append(d, 'basic', '베이직'):\n",
    "    print('두 번째 추가 성공')\n",
    "else :\n",
    "    print('두 번째 추가 실패')\n",
    "\n",
    "print(d)"
   ]
  },
  {
   "cell_type": "code",
   "execution_count": 22,
   "id": "ca88e290-0689-4aae-9dff-857641129655",
   "metadata": {},
   "outputs": [
    {
     "name": "stdout",
     "output_type": "stream",
     "text": [
      "삭제 성공\n",
      "{'python': '파이썬', 'programming': '프로그래밍'}\n"
     ]
    }
   ],
   "source": [
    "def dict_delete(dic, key):\n",
    "    if key in dic:\n",
    "        del dic[key]\n",
    "        return True\n",
    "    else:\n",
    "        return False\n",
    "\n",
    "d={'python':'파이썬', 'basic':'기초', 'programming':'프로그래밍'}\n",
    "\n",
    "if dict_delete(d, 'basic'):\n",
    "    print('삭제 성공')\n",
    "else:\n",
    "    print('삭제 실패')\n",
    "\n",
    "print(d)"
   ]
  },
  {
   "cell_type": "code",
   "execution_count": 28,
   "id": "b0accf3b-d9ae-4356-ad79-a62c93c56816",
   "metadata": {},
   "outputs": [
    {
     "name": "stdin",
     "output_type": "stream",
     "text": [
      "정수입력: 10\n",
      "정수입력: -5\n",
      "정수입력: 7\n",
      "정수입력: 4\n",
      "정수입력: 205\n"
     ]
    },
    {
     "name": "stdout",
     "output_type": "stream",
     "text": [
      "가장 큰 정수는 205입니다.\n"
     ]
    }
   ],
   "source": [
    "#사용자 정의 함수부\n",
    "def find_max(lst):\n",
    "    m=lst[0]\n",
    "    for i in range(1, len(lst)):\n",
    "        if lst[i]>m:\n",
    "            m=lst[i]\n",
    "    return m\n",
    "\n",
    "#주 프로그램부    \n",
    "nums=[]\n",
    "for i in range(5):\n",
    "    n=int(input('정수입력:'))\n",
    "    nums.append(n)\n",
    "    \n",
    "print(f'가장 큰 정수는 {find_max(nums)}입니다.')\n",
    "#print(f'가장 큰 정수는 max(nums)입니다.') 이 문장도 동일하게 동작함"
   ]
  },
  {
   "cell_type": "code",
   "execution_count": 4,
   "id": "20d5f2da-8b63-4249-847e-abfdc5e41fe7",
   "metadata": {},
   "outputs": [
    {
     "name": "stdout",
     "output_type": "stream",
     "text": [
      "[점수 입력]\n"
     ]
    },
    {
     "name": "stdin",
     "output_type": "stream",
     "text": [
      "#1? 95\n",
      "#2? 100\n",
      "#3? 24\n",
      "#4? 72\n",
      "#5? 1\n",
      "#6? -1\n"
     ]
    },
    {
     "name": "stdout",
     "output_type": "stream",
     "text": [
      "\n",
      "[점수출력]\n",
      "개인점수:95 100 24 72 1 \n",
      "평균: 58.4\n"
     ]
    }
   ],
   "source": [
    "#사용자 정의 함수부\n",
    "def input_scores():\n",
    "    s=[]\n",
    "    i=1\n",
    "    while True:        \n",
    "        n=int(input(f'#{i}?'))\n",
    "        if n<0: break\n",
    "        s.append(n)\n",
    "        i+=1\n",
    "    return s\n",
    "        \n",
    "def get_average(s):\n",
    "    total=0\n",
    "    for n in s:\n",
    "        total+=n\n",
    "    return total / len(s)\n",
    "\n",
    "def show_scores(s):\n",
    "    for n in s:\n",
    "        print(n, end=' ')\n",
    "    print()\n",
    "\n",
    "#주 프로그램부\n",
    "print('[점수 입력]')\n",
    "scores=input_scores()\n",
    "\n",
    "print('\\n[점수출력]')\n",
    "print('개인점수:', end='')\n",
    "show_scores(scores)    \n",
    "\n",
    "avg=get_average(scores)\n",
    "print(f'평균: {avg:.1f}')"
   ]
  },
  {
   "cell_type": "code",
   "execution_count": 5,
   "id": "77ba8ce6-9488-43fb-a22b-c9fed7e8b2c6",
   "metadata": {},
   "outputs": [
    {
     "name": "stdout",
     "output_type": "stream",
     "text": [
      "[점수 입력]\n"
     ]
    },
    {
     "name": "stdin",
     "output_type": "stream",
     "text": [
      "#1? 95\n",
      "#2? 82\n",
      "#3? 100\n",
      "#4? 90\n",
      "#5? 97\n",
      "#6? -1\n"
     ]
    },
    {
     "name": "stdout",
     "output_type": "stream",
     "text": [
      "\n",
      "[점수출력]\n",
      "개인점수:95 82 100 90 97 \n",
      "평균: 92.8\n",
      "\n",
      "[검색]\n"
     ]
    },
    {
     "name": "stdin",
     "output_type": "stream",
     "text": [
      "찾고자 하는 점수는? 100\n"
     ]
    },
    {
     "name": "stdout",
     "output_type": "stream",
     "text": [
      "100점은 3번 학생의 점수입니다.\n"
     ]
    }
   ],
   "source": [
    "#사용자 정의 함수부\n",
    "def input_scores():\n",
    "    s=[]\n",
    "    i=1\n",
    "    while True:        \n",
    "        n=int(input(f'#{i}?'))\n",
    "        if n<0: break\n",
    "        s.append(n)\n",
    "        i+=1\n",
    "    return s\n",
    "        \n",
    "def get_average(s):\n",
    "    total=0\n",
    "    for n in s:\n",
    "        total+=n\n",
    "    return total / len(s)\n",
    "\n",
    "def show_scores(s):\n",
    "    for n in s:\n",
    "        print(n, end=' ')\n",
    "    print()\n",
    "\n",
    "def search(lst, n):\n",
    "    if n not in lst:\n",
    "        return None\n",
    "\n",
    "    return lst.index(n)\n",
    "\n",
    "#주 프로그램부\n",
    "print('[점수 입력]')\n",
    "scores=input_scores()\n",
    "\n",
    "print('\\n[점수출력]')\n",
    "print('개인점수:', end='')\n",
    "show_scores(scores)    \n",
    "\n",
    "avg=get_average(scores)\n",
    "print(f'평균: {avg:.1f}')\n",
    "\n",
    "print('\\n[검색]')\n",
    "s=int(input('찾고자 하는 점수는?'))\n",
    "idx=search(scores, s)\n",
    "if idx != None:\n",
    "    print(f'{s}점은 {idx+1}번 학생의 점수입니다.')\n",
    "else:\n",
    "    print(f'{s}점을 받은 학생은 없습니다.')"
   ]
  },
  {
   "cell_type": "code",
   "execution_count": null,
   "id": "93977d54-a7c5-4be2-873c-00465bf6d86b",
   "metadata": {},
   "outputs": [],
   "source": []
  }
 ],
 "metadata": {
  "kernelspec": {
   "display_name": "Python 3 (ipykernel)",
   "language": "python",
   "name": "python3"
  },
  "language_info": {
   "codemirror_mode": {
    "name": "ipython",
    "version": 3
   },
   "file_extension": ".py",
   "mimetype": "text/x-python",
   "name": "python",
   "nbconvert_exporter": "python",
   "pygments_lexer": "ipython3",
   "version": "3.13.2"
  }
 },
 "nbformat": 4,
 "nbformat_minor": 5
}
