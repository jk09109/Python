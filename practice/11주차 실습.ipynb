{
 "cells": [
  {
   "cell_type": "code",
   "execution_count": 2,
   "id": "13d5c6af-9833-4ce3-90f2-5fa96dd862f9",
   "metadata": {},
   "outputs": [
    {
     "name": "stdout",
     "output_type": "stream",
     "text": [
      "반지름 1인 원의 둘레는 6.28이고, 넓이는 3.14이다.\n",
      "반지름 10인 원의 둘레는 62.83이고, 넓이는 314.16이다.\n"
     ]
    }
   ],
   "source": [
    "#원 클래스 정의부\n",
    "class Circle:\n",
    "    def getCircumference(self):\n",
    "        result=2*3.14159265*self.radius\n",
    "        return result\n",
    "\n",
    "    def getArea(self):\n",
    "        result=3.14159265*self.radius**2\n",
    "        return result\n",
    "\n",
    "#주 프로그램부\n",
    "small=Circle()\n",
    "big=Circle()\n",
    "\n",
    "small.radius=1\n",
    "big.radius=10\n",
    "\n",
    "print(f'반지름 {small.radius}인 원의 ', end='')\n",
    "print(f'둘레는 {small.getCircumference():.2f}이고, ', end='')\n",
    "print(f'넓이는 {small.getArea():.2f}이다.')\n",
    "\n",
    "print(f'반지름 {big.radius}인 원의 ', end='')\n",
    "print(f'둘레는 {big.getCircumference():.2f}이고, ', end='')\n",
    "print(f'넓이는 {big.getArea():.2f}이다.')"
   ]
  },
  {
   "cell_type": "code",
   "execution_count": 3,
   "id": "addaa85d-be80-4b6f-bae0-28263a5392f4",
   "metadata": {},
   "outputs": [
    {
     "name": "stdout",
     "output_type": "stream",
     "text": [
      "반지름 1인 원의 둘레는 6.28이고, 넓이는 3.14이다.\n",
      "반지름 10인 원의 둘레는 62.83이고, 넓이는 314.16이다.\n"
     ]
    }
   ],
   "source": [
    "#원 클래스 정의부\n",
    "class Circle:\n",
    "    def __init__(self, radius):\n",
    "        self.radius=radius\n",
    "        \n",
    "    def getCircumference(self):\n",
    "        result=2*3.14159265*self.radius\n",
    "        return result\n",
    "\n",
    "    def getArea(self):\n",
    "        result=3.14159265*self.radius**2\n",
    "        return result\n",
    "\n",
    "#주 프로그램부\n",
    "small=Circle(1)\n",
    "big=Circle(10)\n",
    "\n",
    "print(f'반지름 {small.radius}인 원의 ', end='')\n",
    "print(f'둘레는 {small.getCircumference():.2f}이고, ', end='')\n",
    "print(f'넓이는 {small.getArea():.2f}이다.')\n",
    "\n",
    "print(f'반지름 {big.radius}인 원의 ', end='')\n",
    "print(f'둘레는 {big.getCircumference():.2f}이고, ', end='')\n",
    "print(f'넓이는 {big.getArea():.2f}이다.')"
   ]
  },
  {
   "cell_type": "code",
   "execution_count": 15,
   "id": "71532731-804e-41b0-995c-0dd93ad015e6",
   "metadata": {},
   "outputs": [
    {
     "name": "stdout",
     "output_type": "stream",
     "text": [
      "100\n"
     ]
    }
   ],
   "source": [
    "#원 클래스 정의부\n",
    "class Circle:\n",
    "    def __init__(self, radius):\n",
    "        if (self.setRadius(radius)==False):\n",
    "            self.radius=0\n",
    "            \n",
    "    def setRadius(self, radius):\n",
    "        if radius<=0:\n",
    "            return False\n",
    "        self.__radius=radius\n",
    "        return True\n",
    "\n",
    "    def getRadius(self):\n",
    "        return self.__radius\n",
    "\n",
    "#주 프로그램부\n",
    "big=Circle(-5)\n",
    "#print(big.getRadius())\n",
    "big.setRadius(100)\n",
    "print(big.getRadius())"
   ]
  },
  {
   "cell_type": "code",
   "execution_count": 17,
   "id": "306a676a-7dfd-48e9-8c7e-58ed0be77931",
   "metadata": {},
   "outputs": [],
   "source": [
    "#원 클래스 정의부\n",
    "class Circle:\n",
    "    __PI=3.14159265\n",
    "    \n",
    "    def __init__(self, radius):\n",
    "        self.__radius=radius\n",
    "        \n",
    "    def getCircumference(self):\n",
    "        result=2*Circle.__PI*self.__radius\n",
    "        return result\n",
    "\n",
    "    def getArea(self):\n",
    "        result=Circle.__PI*self.__radius**2\n",
    "        return result\n",
    "\n",
    "    def setRadius(self, radius):\n",
    "        if radius<=0:\n",
    "            return False\n",
    "        self.__radius=radius\n",
    "        return True\n",
    "\n",
    "    def getRadius(self):\n",
    "        return self.__radius\n",
    "\n",
    "#주 프로그램부\n",
    "small=Circle(1)\n",
    "big=Circle(10)"
   ]
  },
  {
   "cell_type": "code",
   "execution_count": 21,
   "id": "e2e06f80-e5f0-4b4b-afd1-2343af247e5f",
   "metadata": {},
   "outputs": [
    {
     "name": "stdout",
     "output_type": "stream",
     "text": [
      "3.14159265\n"
     ]
    }
   ],
   "source": [
    "#원 클래스 정의부\n",
    "class Circle:\n",
    "    __PI=3.14159265\n",
    "\n",
    "    @staticmethod\n",
    "    def getPI():\n",
    "        return Circle.__PI\n",
    "    \n",
    "    def __init__(self, radius):\n",
    "        self.__radius=radius\n",
    "        \n",
    "    def getCircumference(self):\n",
    "        result=2*Circle.__PI*self.__radius\n",
    "        return result\n",
    "\n",
    "    def getArea(self):\n",
    "        result=Circle.__PI*self.__radius**2\n",
    "        return result\n",
    "\n",
    "'''\n",
    "    def setRadius(self, radius):\n",
    "        if radius<=0:\n",
    "            return False\n",
    "        self.__radius=radius\n",
    "        return True\n",
    "   \n",
    "    def getRadius(self):\n",
    "        return self.__radius\n",
    "'''\n",
    "#주 프로그램부\n",
    "print(Circle.getPI())"
   ]
  },
  {
   "cell_type": "code",
   "execution_count": 24,
   "id": "1d971286-0469-4e36-b7cd-cdb42ad76c05",
   "metadata": {},
   "outputs": [
    {
     "name": "stdout",
     "output_type": "stream",
     "text": [
      "(0, 0)\n",
      "(10, 20)\n",
      "(2, 3)\n",
      "x=2, y=3\n"
     ]
    }
   ],
   "source": [
    "class Point:\n",
    "    def __init__(self, x=0, y=0):\n",
    "        self.__x=x\n",
    "        self.__y=y\n",
    "    \n",
    "    def show(self):\n",
    "        print(f'({self.__x}, {self.__y})')\n",
    "\n",
    "    def set(self, x, y):\n",
    "        self.__x=x\n",
    "        self.__y=y\n",
    "\n",
    "    def get(self):\n",
    "        return (self.__x, self.__y)\n",
    "        \n",
    "#사용자 정의 함수부\n",
    "def test():\n",
    "    p1=Point()\n",
    "    p2=Point(2,3)\n",
    "\n",
    "    p1.show()\n",
    "\n",
    "    p1.set(10, 20); p1.show()\n",
    "\n",
    "    p2.show()\n",
    "\n",
    "    x,y=p2.get()\n",
    "    print(f'x={x}, y={y}')\n",
    "\n",
    "#주 프로그램부\n",
    "if __name__=='__main__':\n",
    "    test()"
   ]
  },
  {
   "cell_type": "code",
   "execution_count": 29,
   "id": "f644a70b-b77d-4524-85f2-d47d83e75213",
   "metadata": {},
   "outputs": [
    {
     "name": "stdout",
     "output_type": "stream",
     "text": [
      "09:00\n",
      "09:30\n",
      "10:15\n",
      "유효하지 않은 시각\n"
     ]
    }
   ],
   "source": [
    "class Time:\n",
    "    def __init__(self, hour=0, minute=0):\n",
    "        self.__hour=hour\n",
    "        self.__minute=minute\n",
    "\n",
    "    def display(self):\n",
    "        print(f'{self.__hour:02d}:{self.__minute:02d}')\n",
    "\n",
    "    def add(self, time):\n",
    "        h=self.__hour + time.__hour\n",
    "        m=self.__minute + time.__minute\n",
    "        if m>=60:\n",
    "            h+=1\n",
    "            m-=60\n",
    "        return Time(h, m)\n",
    "    \n",
    "    @staticmethod\n",
    "    def is_valid(hour, minute):\n",
    "        if 0<=hour<24 and 0<=minute<60:\n",
    "            return True\n",
    "        return False\n",
    "\n",
    "#사용자 정의 함수부\n",
    "def main():\n",
    "    t1=Time(9)\n",
    "    t2=Time(9, 30)\n",
    "\n",
    "    t1.display()\n",
    "    t2.display()\n",
    "\n",
    "    later=t1.add(Time(1, 15))\n",
    "    later.display()\n",
    "\n",
    "    if Time.is_valid(25, 0):\n",
    "        print('유효한 시각')\n",
    "    else:\n",
    "        print('유효하지 않은 시각')\n",
    "\n",
    "#주 프로그래뭅\n",
    "if __name__=='__main__':\n",
    "    main()"
   ]
  },
  {
   "cell_type": "code",
   "execution_count": null,
   "id": "771fbdd6-ce6b-4359-89d6-ade0714bf9ca",
   "metadata": {},
   "outputs": [],
   "source": []
  }
 ],
 "metadata": {
  "kernelspec": {
   "display_name": "Python 3 (ipykernel)",
   "language": "python",
   "name": "python3"
  },
  "language_info": {
   "codemirror_mode": {
    "name": "ipython",
    "version": 3
   },
   "file_extension": ".py",
   "mimetype": "text/x-python",
   "name": "python",
   "nbconvert_exporter": "python",
   "pygments_lexer": "ipython3",
   "version": "3.13.2"
  }
 },
 "nbformat": 4,
 "nbformat_minor": 5
}
