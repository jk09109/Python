{
 "cells": [
  {
   "cell_type": "code",
   "execution_count": 1,
   "id": "7afaaa41-4a79-4122-ba3a-4f7d3d44215a",
   "metadata": {},
   "outputs": [
    {
     "name": "stdout",
     "output_type": "stream",
     "text": [
      "[11, 22, 33, 44, 55]\n",
      "['단출하게', '단아하게', '당당하게']\n",
      "[]\n"
     ]
    }
   ],
   "source": [
    "list1=[11,22,33,44,55]\n",
    "list2=['단출하게', '단아하게', '당당하게']\n",
    "list3=[]\n",
    "print(list1)\n",
    "print(list2)\n",
    "print(list3)"
   ]
  },
  {
   "cell_type": "code",
   "execution_count": 2,
   "id": "7fe1035b-dffb-4204-8f7c-45a5772c1541",
   "metadata": {},
   "outputs": [
    {
     "name": "stdout",
     "output_type": "stream",
     "text": [
      "[11, '홍길동', 19, 180.5]\n",
      "[11, '홍길동', [10, 10, 92, 100]]\n"
     ]
    }
   ],
   "source": [
    "list4=[11, '홍길동', 19, 180.5]\n",
    "list5=[11, '홍길동', [10, 10, 92, 100]]\n",
    "print(list4)\n",
    "print(list5)"
   ]
  },
  {
   "cell_type": "code",
   "execution_count": 3,
   "id": "c86d6dcc-7b88-4ec7-b266-354932466864",
   "metadata": {},
   "outputs": [
    {
     "name": "stdout",
     "output_type": "stream",
     "text": [
      "홍길동 님의 키는 180.5 cm입니다.\n"
     ]
    }
   ],
   "source": [
    "list4=[11, '홍길동', 19, 180.5]\n",
    "print(list4[1], '님의 키는', list4[-1], 'cm입니다.')"
   ]
  },
  {
   "cell_type": "code",
   "execution_count": 4,
   "id": "2c06ac3e-c227-4a7e-8046-db3cdc04af48",
   "metadata": {},
   "outputs": [
    {
     "name": "stdout",
     "output_type": "stream",
     "text": [
      "[22, 33]\n",
      "22\n"
     ]
    }
   ],
   "source": [
    "list1=[11, 22, 33, 44, 55]\n",
    "sub_list = list1[1:3]\n",
    "print(sub_list)\n",
    "print(sub_list[0])"
   ]
  },
  {
   "cell_type": "code",
   "execution_count": 5,
   "id": "8e80175b-e75a-4480-b4c2-72e32fbbd190",
   "metadata": {},
   "outputs": [
    {
     "name": "stdout",
     "output_type": "stream",
     "text": [
      "[-1, 22, 33, 44, 55]\n",
      "[-1, 100, 200, 300, 44, 55]\n"
     ]
    }
   ],
   "source": [
    "nums=[11, 22, 33, 44, 55]\n",
    "\n",
    "nums[0]=-1\n",
    "print(nums)\n",
    "\n",
    "nums[1:3]=[100, 200, 300]\n",
    "print(nums)"
   ]
  },
  {
   "cell_type": "code",
   "execution_count": 7,
   "id": "c7419193-416e-49cd-b9c1-0492f6950d4a",
   "metadata": {},
   "outputs": [
    {
     "name": "stdout",
     "output_type": "stream",
     "text": [
      "[0, 22, 33]\n",
      "[0, 22, 33]\n"
     ]
    }
   ],
   "source": [
    "nums1=[11, 22, 33]\n",
    "nums2=[]\n",
    "\n",
    "nums2=nums1  #얕은복사\n",
    "\n",
    "nums2[0] = 0\n",
    "print(nums1)\n",
    "print(nums2)"
   ]
  },
  {
   "cell_type": "code",
   "execution_count": 8,
   "id": "dd0dabdc-eda0-46d1-8ce4-cd9c4a5c9eed",
   "metadata": {},
   "outputs": [
    {
     "name": "stdout",
     "output_type": "stream",
     "text": [
      "[11, 22, 33]\n",
      "[0, 22, 33]\n"
     ]
    }
   ],
   "source": [
    "nums1=[11, 22, 33]\n",
    "nums2=[]\n",
    "\n",
    "nums2=nums1[:]  #깊은복사\n",
    "\n",
    "nums2[0] = 0\n",
    "print(nums1)\n",
    "print(nums2)"
   ]
  },
  {
   "cell_type": "code",
   "execution_count": 10,
   "id": "00ce734f-488c-4f39-9949-25e553cc003a",
   "metadata": {},
   "outputs": [
    {
     "name": "stdout",
     "output_type": "stream",
     "text": [
      "[11, 22, 33, 44, 55]\n",
      "[44, 55, 11, 22, 33]\n",
      "[11, 22, 33, 11, 22, 33]\n"
     ]
    }
   ],
   "source": [
    "nums1=[11, 22, 33]\n",
    "nums2=[44, 55]\n",
    "\n",
    "nums3=nums1+nums2\n",
    "print(nums3)\n",
    "\n",
    "nums5=nums2+nums1\n",
    "print(nums5)\n",
    "\n",
    "nums4=nums1*2\n",
    "print(nums4)"
   ]
  },
  {
   "cell_type": "code",
   "execution_count": 11,
   "id": "4ba63ea9-4f67-44e7-8bff-3108ad5c1760",
   "metadata": {},
   "outputs": [
    {
     "name": "stdout",
     "output_type": "stream",
     "text": [
      "5\n"
     ]
    }
   ],
   "source": [
    "nums=[11, 22, 33, 44, 55]\n",
    "\n",
    "n=len(nums)\n",
    "print(n)"
   ]
  },
  {
   "cell_type": "code",
   "execution_count": 12,
   "id": "f35b6828-e511-46be-8e08-fa25004eab4a",
   "metadata": {},
   "outputs": [
    {
     "name": "stdout",
     "output_type": "stream",
     "text": [
      "[11, 22, 33, 55]\n",
      "[11, 22, 33, 44, 55]\n",
      "[11, 22, 33, 44, 50, 55]\n"
     ]
    }
   ],
   "source": [
    "nums=[11,22,33]\n",
    "\n",
    "nums.append(55)\n",
    "print(nums)\n",
    "\n",
    "nums.insert(3, 44)\n",
    "print(nums)\n",
    "\n",
    "nums.insert(-1, 50)\n",
    "print(nums)"
   ]
  },
  {
   "cell_type": "code",
   "execution_count": 13,
   "id": "ad112c22-f488-40a4-9038-1b88117839ac",
   "metadata": {},
   "outputs": [
    {
     "name": "stdout",
     "output_type": "stream",
     "text": [
      "[11, 33, 0, 11, 22, 33]\n",
      "[11, 33, 22, 33]\n",
      "[11, 22, 33]\n"
     ]
    }
   ],
   "source": [
    "nums=[11, 22, 33, 0, 11, 22, 33]\n",
    "\n",
    "del nums[1]\n",
    "print(nums)\n",
    "\n",
    "del nums[2:4]\n",
    "print(nums)\n",
    "\n",
    "nums.remove(33)\n",
    "print(nums)"
   ]
  },
  {
   "cell_type": "code",
   "execution_count": 16,
   "id": "2cd599ae-93f3-4c36-b0e8-81ce0f5eed52",
   "metadata": {},
   "outputs": [
    {
     "name": "stdout",
     "output_type": "stream",
     "text": [
      "[11, 55]\n",
      "[]\n",
      "[]\n"
     ]
    }
   ],
   "source": [
    "nums=[11, 22, 33, 44, 55]\n",
    "\n",
    "nums[1:4]=[]\n",
    "print(nums)\n",
    "\n",
    "nums.clear()\n",
    "print(nums)\n",
    "\n",
    "nums=[11, 22, 33, 44, 55]\n",
    "nums[:]=[]\n",
    "print(nums)"
   ]
  },
  {
   "cell_type": "code",
   "execution_count": 17,
   "id": "718a3337-52c9-406f-8a58-ee4e4c898081",
   "metadata": {},
   "outputs": [
    {
     "name": "stdout",
     "output_type": "stream",
     "text": [
      "2\n",
      "2\n"
     ]
    }
   ],
   "source": [
    "nums=[11,22,33,44,33]\n",
    "\n",
    "print(nums.index(33))\n",
    "print(nums.count(33))"
   ]
  },
  {
   "cell_type": "code",
   "execution_count": 18,
   "id": "f10025eb-85ac-43a2-a003-d2a3abef82c1",
   "metadata": {},
   "outputs": [
    {
     "name": "stdout",
     "output_type": "stream",
     "text": [
      "11\n",
      "(22, 33)\n",
      "(11, 22, 33, 44, 55, 66, 77)\n",
      "(66, 77, 66, 77, 66, 77)\n"
     ]
    }
   ],
   "source": [
    "t1=(11, 22, 33, 44, 55)\n",
    "print(t1[0])\n",
    "print(t1[1:3])\n",
    "\n",
    "t2=(66, 77)\n",
    "t3=t1+t2\n",
    "print(t3)\n",
    "\n",
    "t4=t2*3\n",
    "print(t4)"
   ]
  },
  {
   "cell_type": "code",
   "execution_count": 19,
   "id": "656b8e2e-8262-442a-b8a9-80a9be7aef48",
   "metadata": {},
   "outputs": [
    {
     "name": "stdout",
     "output_type": "stream",
     "text": [
      "{'python': '파이썬', 'basic': '기초', 'programming': '프로그래밍'}\n"
     ]
    }
   ],
   "source": [
    "d={'python':'파이썬', 'basic':'기초', 'programming':'프로그래밍'}\n",
    "print(d)"
   ]
  },
  {
   "cell_type": "code",
   "execution_count": 21,
   "id": "880fccb6-dd58-4ae8-b7c9-dd0732719106",
   "metadata": {},
   "outputs": [
    {
     "name": "stdout",
     "output_type": "stream",
     "text": [
      "파이썬\n"
     ]
    }
   ],
   "source": [
    "d={'python':'파이썬', 'basic':'기초', 'programming':'프로그래밍'}\n",
    "print(d['python'])\n",
    "\n",
    "#print(d[0]) #오류:0이란 키로 저장된 데이터가 없음"
   ]
  },
  {
   "cell_type": "code",
   "execution_count": 25,
   "id": "0fadcf30-0d7f-47f0-bdd3-11c311eec213",
   "metadata": {},
   "outputs": [
    {
     "name": "stdout",
     "output_type": "stream",
     "text": [
      "파이썬\n",
      "None\n"
     ]
    }
   ],
   "source": [
    "d={'python':'파이썬', 'basic':'기초', 'programming':'프로그래밍'}\n",
    "print(d.get('python'))\n",
    "\n",
    "res=d.get(0)\n",
    "print(res)"
   ]
  },
  {
   "cell_type": "code",
   "execution_count": 27,
   "id": "04e85254-8b3b-4ec6-b0cf-9e1cf6861549",
   "metadata": {},
   "outputs": [
    {
     "name": "stdout",
     "output_type": "stream",
     "text": [
      "오류: 유효하지 않은 키 0\n"
     ]
    }
   ],
   "source": [
    "d={'python':'파이썬', 'basic':'기초', 'programming':'프로그래밍'}\n",
    "\n",
    "key=0\n",
    "if key in d:\n",
    "    print(d[key])\n",
    "else:\n",
    "    print(f'오류: 유효하지 않은 키 {key}')"
   ]
  },
  {
   "cell_type": "code",
   "execution_count": 28,
   "id": "b0a50be9-0e3f-4cf4-bb86-a4d3d0f19ef2",
   "metadata": {},
   "outputs": [
    {
     "name": "stdout",
     "output_type": "stream",
     "text": [
      "{'python': '파이썬', 'basic': '기초', 'programming': '프로그래밍', 'PYTHON': '파이썬'}\n"
     ]
    }
   ],
   "source": [
    "d={'python':'파이썬', 'basic':'기초', 'programming':'프로그래밍'}\n",
    "d['PYTHON']='파이썬'\n",
    "print(d)"
   ]
  },
  {
   "cell_type": "code",
   "execution_count": 29,
   "id": "d09b3228-76d9-48b0-a931-d50c87c4c642",
   "metadata": {},
   "outputs": [
    {
     "name": "stdout",
     "output_type": "stream",
     "text": [
      "{'python': 'PYTHON', 'basic': '기초', 'programming': '프로그래밍'}\n"
     ]
    }
   ],
   "source": [
    "d={'python':'파이썬', 'basic':'기초', 'programming':'프로그래밍'}\n",
    "d['python'] = 'PYTHON'\n",
    "print(d)"
   ]
  },
  {
   "cell_type": "code",
   "execution_count": 30,
   "id": "01ff92a6-0c73-4ddf-9b92-37cbdff639c6",
   "metadata": {},
   "outputs": [
    {
     "name": "stdout",
     "output_type": "stream",
     "text": [
      "{'python': '파이썬', 'programming': '프로그래밍'}\n"
     ]
    }
   ],
   "source": [
    "d={'python':'파이썬', 'basic':'기초', 'programming':'프로그래밍'}\n",
    "del d['basic']\n",
    "print(d)"
   ]
  },
  {
   "cell_type": "code",
   "execution_count": 31,
   "id": "d4d8c339-e2bd-4ba7-86aa-10c0653aa135",
   "metadata": {},
   "outputs": [
    {
     "name": "stdout",
     "output_type": "stream",
     "text": [
      "{}\n"
     ]
    }
   ],
   "source": [
    "d={'python':'파이썬', 'basic':'기초', 'programming':'프로그래밍'}\n",
    "d.clear()\n",
    "print(d)"
   ]
  },
  {
   "cell_type": "code",
   "execution_count": 42,
   "id": "4d8a2cf8-4e4a-41b5-befd-0cf929c885e1",
   "metadata": {},
   "outputs": [
    {
     "name": "stdout",
     "output_type": "stream",
     "text": [
      "[점수 입력]\n"
     ]
    },
    {
     "name": "stdin",
     "output_type": "stream",
     "text": [
      "#1? 88\n",
      "#2? 24\n",
      "#3? 55\n"
     ]
    },
    {
     "name": "stdout",
     "output_type": "stream",
     "text": [
      "\n",
      "[점수출력]\n",
      "입력 점수: 88 24 55\n",
      "평균: 55.7\n",
      "\n",
      "[검색]\n"
     ]
    },
    {
     "name": "stdin",
     "output_type": "stream",
     "text": [
      "찾고자 하는 점수는? 88\n"
     ]
    },
    {
     "name": "stdout",
     "output_type": "stream",
     "text": [
      "88점은 1번 학생의 점수입니다.\n"
     ]
    }
   ],
   "source": [
    "scores=[]\n",
    "\n",
    "print('[점수 입력]')\n",
    "\n",
    "for i in range(3):\n",
    "    n=int(input(f'#{i+1}?'))\n",
    "    scores.append(n)\n",
    "\n",
    "avg=(scores[0]+scores[1]+scores[2]) / len(scores)\n",
    "\n",
    "print()\n",
    "print('[점수출력]')\n",
    "print(f'입력 점수: {scores[0]} {scores[1]} {scores[2]}')\n",
    "print(f'평균: {avg:.1f}')\n",
    "\n",
    "print()\n",
    "print('[검색]')\n",
    "s=int(input('찾고자 하는 점수는?'))\n",
    "\n",
    "if s in scores:\n",
    "    idx=scores.index(s)\n",
    "    print(f'{s}점은 {idx+1}번 학생의 점수입니다.')\n",
    "else:\n",
    "    print(f'{s}점을 받은 학생은 없습니다.')"
   ]
  },
  {
   "cell_type": "code",
   "execution_count": 53,
   "id": "9315a393-28ef-4f9d-aaeb-4ba5f24a4ac7",
   "metadata": {},
   "outputs": [
    {
     "name": "stdout",
     "output_type": "stream",
     "text": [
      "[구입]\n"
     ]
    },
    {
     "name": "stdin",
     "output_type": "stream",
     "text": [
      "상품명? 사과\n"
     ]
    },
    {
     "name": "stdout",
     "output_type": "stream",
     "text": [
      "장바구니에 사과이(가) 담겼습니다.\n"
     ]
    },
    {
     "name": "stdin",
     "output_type": "stream",
     "text": [
      "상품명? 포도\n"
     ]
    },
    {
     "name": "stdout",
     "output_type": "stream",
     "text": [
      "장바구니에 포도이(가) 담겼습니다.\n"
     ]
    },
    {
     "name": "stdin",
     "output_type": "stream",
     "text": [
      "상품명? \n"
     ]
    },
    {
     "name": "stdout",
     "output_type": "stream",
     "text": [
      "\n",
      ">>>장바구니 보기: ['사과', '포도']\n"
     ]
    }
   ],
   "source": [
    "shopping_bag=[]\n",
    "\n",
    "print('[구입]')\n",
    "while True:\n",
    "    item=input('상품명?')\n",
    "    if item=='':\n",
    "        break\n",
    "    shopping_bag.append(item)\n",
    "    print(f'장바구니에 {item}이(가) 담겼습니다.')\n",
    "\n",
    "print(f'\\n>>>장바구니 보기: {shopping_bag}')"
   ]
  },
  {
   "cell_type": "code",
   "execution_count": null,
   "id": "3c562e2c-362c-465f-be7e-f47c9b455e88",
   "metadata": {},
   "outputs": [],
   "source": []
  }
 ],
 "metadata": {
  "kernelspec": {
   "display_name": "Python 3 (ipykernel)",
   "language": "python",
   "name": "python3"
  },
  "language_info": {
   "codemirror_mode": {
    "name": "ipython",
    "version": 3
   },
   "file_extension": ".py",
   "mimetype": "text/x-python",
   "name": "python",
   "nbconvert_exporter": "python",
   "pygments_lexer": "ipython3",
   "version": "3.13.2"
  }
 },
 "nbformat": 4,
 "nbformat_minor": 5
}
